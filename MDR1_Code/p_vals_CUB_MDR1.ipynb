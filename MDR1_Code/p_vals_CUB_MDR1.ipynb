{
 "cells": [
  {
   "cell_type": "markdown",
   "id": "6c7c0cb0-f3a8-4792-872e-dd77310a7137",
   "metadata": {},
   "source": [
    "In this notebook we compare the change in CAI, FPTC and tAI caused by T1236C, T2677G and T3435C to the deltas caused by similar, random variants,  to calculate an empirical p-value. \n",
    "We use the dfs of random mutations, created in the notebook \"create_MDR1_valid_mutations_dfs.ipynb\". \n"
   ]
  },
  {
   "cell_type": "code",
   "execution_count": 12,
   "id": "2b26edb9-09d0-4ac5-84ff-8372b763db3a",
   "metadata": {
    "tags": []
   },
   "outputs": [],
   "source": [
    "import pandas as pd\n",
    "import numpy as np\n",
    "import pickle\n",
    "from Utils_MDR1 import variant_info, get_codon_and_freq, get_pvalue\n",
    "from typing import Union\n"
   ]
  },
  {
   "cell_type": "markdown",
   "id": "f09dc919-4f71-46ef-9e88-e453662936d5",
   "metadata": {},
   "source": [
    "## Functions"
   ]
  },
  {
   "cell_type": "code",
   "execution_count": 2,
   "id": "132a2791-c4c3-4b5a-a1a5-a71eecd87475",
   "metadata": {},
   "outputs": [],
   "source": [
    "''' Calculates the changes in the measure caused by the three variants '''\n",
    "\n",
    "def delta_true_variants(weights_dict: dict, variant_info: dict) -> Union[float, float, float]:\n",
    "    delta_T1236C = weights_dict[variant_info[1][\"codon_after\"]] - weights_dict[variant_info[1][\"codon_before\"]]\n",
    "    delta_T2677G = weights_dict[variant_info[2][\"codon_after\"]] - weights_dict[variant_info[2][\"codon_before\"]]\n",
    "    delta_T3435C = weights_dict[variant_info[3][\"codon_after\"]] - weights_dict[variant_info[3][\"codon_before\"]]\n",
    "\n",
    "    return(delta_T1236C, delta_T2677G, delta_T3435C)\n"
   ]
  },
  {
   "cell_type": "code",
   "execution_count": 3,
   "id": "00c544b7-ba18-4458-8d00-98cf811137d4",
   "metadata": {},
   "outputs": [],
   "source": [
    "''' \n",
    "Calculates the change in the measure caused by a single random variant\n",
    "\n",
    "'''\n",
    "\n",
    "def get_delta_cub_single_rand(nt_CDS: str, cds_position_0_based: int, changed_to: str, changed_from: str, cub_dict: dict) -> float:\n",
    "    \n",
    "    assert(nt_CDS[cds_position_0_based] == changed_from) #nt_CDS in the position of the variant should have the same nt as \"changed_from\"\n",
    "    \n",
    "    position_in_codon = cds_position_0_based % 3 #is the mutation in the first, second or third position in the codon? \n",
    "    \n",
    "    if position_in_codon == 0: #mutate the first position\n",
    "        original_codon = nt_CDS[cds_position_0_based : cds_position_0_based + 3]\n",
    "        mutated_codon = changed_to + nt_CDS[cds_position_0_based + 1: cds_position_0_based + 3]\n",
    "    \n",
    "    elif position_in_codon == 1: #mutate the second position\n",
    "        original_codon = nt_CDS[cds_position_0_based - 1 : cds_position_0_based + 2]\n",
    "        mutated_codon = nt_CDS[cds_position_0_based - 1] + changed_to + nt_CDS[cds_position_0_based + 1]\n",
    "        \n",
    "    elif position_in_codon == 2: #mutate the third position   \n",
    "        original_codon = nt_CDS[cds_position_0_based - 2 : cds_position_0_based + 1]\n",
    "        mutated_codon = nt_CDS[cds_position_0_based - 2: cds_position_0_based] + changed_to\n",
    "           \n",
    "    stop_codons = [\"TAG\",\"TGA\", \"TAA\"]\n",
    "    if (original_codon not in stop_codons) & (mutated_codon not in stop_codons):\n",
    "        \n",
    "        original_score = cub_dict[original_codon]\n",
    "        mutated_score = cub_dict[mutated_codon]\n",
    "        delta_score = mutated_score - original_score\n",
    "    \n",
    "        return(delta_score)\n",
    "    \n",
    "    else:\n",
    "        return(np.nan)\n"
   ]
  },
  {
   "cell_type": "code",
   "execution_count": 4,
   "id": "24054f75-83f8-4fd7-beb8-f36c1f0107ec",
   "metadata": {},
   "outputs": [],
   "source": [
    "''' \n",
    "Calculates the change in the measure caused by a \"num_randomizations\" random variants. \n",
    "\"rand_type\" - either \"synonymous_T2C\" or \"nonsynonymous_T2G\". Type of variant to use to create randomizations. \n",
    "For example, T1236C is a synonymous T->C variant, so we will use \"synonymous_T2C\" variants\n",
    "to create similar random seqeunces. \n",
    "\n",
    "\n",
    "'''\n",
    "def get_delta_cub_all_rands(rand_type: str, num_randomizations: int, cub_dict: dict, nt_CDS: str) -> np.ndarray:\n",
    "    \n",
    "    random_df = pd.read_pickle(f\"../Data/random_mutations_for_pvals/{rand_type}.pickle\") #contains sequences with all possible substitutions according to the selected criterion.\n",
    "    num_mutated_sequences = random_df.shape[0] #choose \"num_randomizations\" sequences from the \"num_mutated_sequences\" and calculate the delta mfe caused by each change\n",
    "    chosen_rows = np.random.choice(num_mutated_sequences, num_randomizations) #choose rows from the df randomly\n",
    "    random_df = random_df.iloc[chosen_rows] #keep only the chosen rows\n",
    "    random_delta_cub = random_df.apply(lambda x: get_delta_cub_single_rand(nt_CDS, x.CDS_position_0_based, x.Changed_to, x.Changed_from, cub_dict), axis = 1)\n",
    "    return(random_delta_cub.values)\n",
    "    \n"
   ]
  },
  {
   "cell_type": "markdown",
   "id": "effdcfad-2793-4113-aed2-83ca82612f13",
   "metadata": {},
   "source": [
    "## Main "
   ]
  },
  {
   "cell_type": "code",
   "execution_count": 5,
   "id": "483518ec-b706-4fd7-9e90-d2961aab38f7",
   "metadata": {},
   "outputs": [],
   "source": [
    "''' Get MDR1 CDS sequence'''\n",
    "gene = 'ENSG00000085563' #MDR1 gene\n",
    "genes_dict = pd.read_pickle(f\"../Data/cdna_{gene}.pickle.gz\")\n",
    "nt_CDS = genes_dict['data'][0]['homologies'][0]['source']['seq'][:-3] #removing stop codon -> msa was on aas and ttanslated back, so no info on stop codons\n"
   ]
  },
  {
   "cell_type": "markdown",
   "id": "a01ac7e8-3606-45cb-8135-97103fa7fd39",
   "metadata": {},
   "source": [
    "### CUB"
   ]
  },
  {
   "cell_type": "code",
   "execution_count": 8,
   "id": "ca1fb4db-1f52-4c82-b535-accb1c2268a4",
   "metadata": {},
   "outputs": [],
   "source": [
    "''' Get the human Codon:CAI dictionary for T1236C and T2677G '''\n",
    "CAI_human = pd.read_pickle(\"../Data/homo_sapiens_CAI.pickle\")\n",
    "\n",
    "''' Get the human 1000 codons frequency for T2677G '''\n",
    "codon_usage_csv = pd.read_csv(\"../Data/Human_codon_frequency.txt\", skiprows = 5, header = None) #human\n",
    "codons_and_freq1000 =  codon_usage_csv[0].apply(lambda x: get_codon_and_freq(x))\n",
    "freq1000_human = dict((codon.replace(\"U\", \"T\"), float(freq)) for codon, freq in codons_and_freq1000) #the csv is in RNA al;phabet and we want DNA alphabet to match our CAI dictionary\n"
   ]
  },
  {
   "cell_type": "code",
   "execution_count": 9,
   "id": "85e77fe4-e043-44ad-a957-04ed6c58ec58",
   "metadata": {},
   "outputs": [],
   "source": [
    "''' Get the CUB deltas for the true variants '''\n",
    "\n",
    "delta_T1236C_cai,_, delta_T3435C_cai = delta_true_variants(CAI_human, variant_info)\n",
    "_,delta_T2677G_fptc, _ = delta_true_variants(freq1000_human, variant_info)"
   ]
  },
  {
   "cell_type": "code",
   "execution_count": 10,
   "id": "bce649d6-a489-46a5-a9e0-4906b4bb1d34",
   "metadata": {},
   "outputs": [],
   "source": [
    "''' Define paramters for randomizations '''\n",
    "possible_rand_types = [\"synonymous_T2C\", \"nonsynonymous_T2G\"]\n",
    "num_randomizations = 100\n"
   ]
  },
  {
   "cell_type": "code",
   "execution_count": 13,
   "id": "f2bc4834-a963-472c-af46-c9647b549016",
   "metadata": {},
   "outputs": [],
   "source": [
    "''' Get delta CUB for the randomizations''' \n",
    "random_delta_cai = get_delta_cub_all_rands(\"synonymous_T2C\", num_randomizations, CAI_human,nt_CDS)\n",
    "random_delta_fptc = get_delta_cub_all_rands(\"nonsynonymous_T2G\", num_randomizations, freq1000_human,nt_CDS)\n",
    "\n",
    "'''Compare the random deltas to the real deltas to get s p-value per variant '''\n",
    "pval_1236 = get_pvalue(delta_T1236C_cai, random_delta_cai)\n",
    "pval_3435 = get_pvalue(delta_T3435C_cai, random_delta_cai)\n",
    "pval_2677 = get_pvalue(delta_T2677G_fptc, random_delta_fptc)\n",
    "\n"
   ]
  },
  {
   "cell_type": "code",
   "execution_count": 80,
   "id": "d092ec4b-3772-422a-bc0c-2af8163f22fe",
   "metadata": {},
   "outputs": [],
   "source": [
    "''' Save '''\n",
    "with open(f\"../Results/CAI/delta_CAI/pval_1236.pickle\",'wb') as f:\n",
    "    pickle.dump(pval_1236, f)\n",
    "with open(f\"../Results/CAI/delta_CAI/pval_3435.pickle\",'wb') as f:\n",
    "    pickle.dump(pval_3435, f)\n",
    "with open(f\"../Results/FPTC/delta_FPTC/pval_2677.pickle\",'wb') as f:\n",
    "    pickle.dump(pval_2677, f)"
   ]
  },
  {
   "cell_type": "markdown",
   "id": "91524acb-1e12-4c56-9a82-29d4d3fc8fbf",
   "metadata": {},
   "source": [
    "### tAI"
   ]
  },
  {
   "cell_type": "code",
   "execution_count": 14,
   "id": "3e55c37a-0754-439f-abfd-65d7c44892c1",
   "metadata": {},
   "outputs": [],
   "source": [
    "''' Get the tAI dictionary '''\n",
    "tai_human = pd.read_pickle(\"../Data/tAI_human_tissue_specific.pickle\")\n",
    "tissues_mdr1 = [\"KIRP\", \"KIRC\", \"KICH\", \"LIHC\", \"GBM_\", \"COAD\"] #tissues in organs where MDR1 is naturally highly expressed\n"
   ]
  },
  {
   "cell_type": "code",
   "execution_count": 86,
   "id": "c0600c27-f3a6-4b09-bfa3-ae5a11badd91",
   "metadata": {},
   "outputs": [],
   "source": [
    "''' \n",
    "Analysis per tissue\n",
    "\n",
    "'''\n",
    "for tissue in tissues_mdr1:\n",
    "    tai_tissue = tai_human[tissue]\n",
    "    \n",
    "    #get the true delta tAIs of the three variants\n",
    "    delta_T1236C_tai, delta_T2677G_tai, delta_T3435C_tai = delta_true_variants(tai_tissue, variant_info)\n",
    "    \n",
    "    #get the delta tAIs of random (similar) changes\n",
    "    random_delta_tai_synonynous = get_delta_cub_all_rands(\"synonymous_T2C\", num_randomizations, tai_tissue,nt_CDS)\n",
    "    random_delta_tai_nonsynonynous = get_delta_cub_all_rands(\"nonsynonymous_T2G\", num_randomizations, tai_tissue,nt_CDS)\n",
    "    \n",
    "    #calculate p-value\n",
    "    pval_1236 = get_pvalue(delta_T1236C_tai, random_delta_tai_synonynous)\n",
    "    pval_3435 = get_pvalue(delta_T3435C_tai, random_delta_tai_synonynous)\n",
    "    pval_2677 = get_pvalue(delta_T2677G_tai, random_delta_tai_nonsynonynous)\n",
    "    \n",
    "    with open(f\"../Results/tAI/delta_tAI/{tissue}/pval_1236.pickle\",'wb') as f:\n",
    "        pickle.dump(pval_1236, f)\n",
    "    with open(f\"../Results/tAI/delta_tAI/{tissue}/pval_3435.pickle\",'wb') as f:\n",
    "        pickle.dump(pval_3435, f)\n",
    "    with open(f\"../Results/tAI/delta_tAI/{tissue}/pval_2677.pickle\",'wb') as f:\n",
    "        pickle.dump(pval_2677, f)\n",
    "\n"
   ]
  },
  {
   "cell_type": "code",
   "execution_count": null,
   "id": "da626e12-e4c2-458b-9f15-21f16825f849",
   "metadata": {},
   "outputs": [],
   "source": []
  }
 ],
 "metadata": {
  "kernelspec": {
   "display_name": "Python 3",
   "language": "python",
   "name": "python3"
  },
  "language_info": {
   "codemirror_mode": {
    "name": "ipython",
    "version": 3
   },
   "file_extension": ".py",
   "mimetype": "text/x-python",
   "name": "python",
   "nbconvert_exporter": "python",
   "pygments_lexer": "ipython3",
   "version": "3.6.13"
  }
 },
 "nbformat": 4,
 "nbformat_minor": 5
}
