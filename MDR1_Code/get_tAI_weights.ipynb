{
 "cells": [
  {
   "cell_type": "markdown",
   "id": "e976bce1-3820-4adf-9194-acd528a602b4",
   "metadata": {},
   "source": [
    "We have the tAI codon weights for the entire human genome and for 23 different tissues from Alma Davidson's research.\n",
    "- The tissue specific tAI values are obtained from *healthy* tissues of the TCGA projects. \n",
    "\n",
    "We will import the matlab matrices, save them as dictionaries and save to a pickle."
   ]
  },
  {
   "cell_type": "code",
   "execution_count": 1,
   "id": "992f2d52-90cc-498c-8aab-e5ca5e8ebad0",
   "metadata": {},
   "outputs": [],
   "source": [
    "import scipy.io\n",
    "import pickle"
   ]
  },
  {
   "cell_type": "code",
   "execution_count": 2,
   "id": "d75a3e85-cfa7-4d84-8424-2c7d8e259625",
   "metadata": {},
   "outputs": [],
   "source": [
    "''' Load the matrices'''\n",
    "\n",
    "gcn = scipy.io.loadmat(\"../Data/tAI_weights/tAI_human_general.mat\") #general_copy number of tAI in the human genome\n",
    "tissues_cn = scipy.io.loadmat(\"../Data/tAI_weights/tAI_human_optimized_tissues.mat\")\n"
   ]
  },
  {
   "cell_type": "code",
   "execution_count": 3,
   "id": "69e21367-96fe-4637-8171-4c847a2a1e82",
   "metadata": {},
   "outputs": [],
   "source": [
    "''' Parse the data in the gnc matrix to obtain a dictionary of type Codon: tAI_value'''\n",
    "tai_values = gcn['tAI'][0][0]\n",
    "gcn_dict = {tai_values.dtype.names[i]:tai_values[i][0] for i in range(len(tai_values))}\n",
    "for codon in gcn_dict.keys():\n",
    "    gcn_dict[codon] = gcn_dict[codon][0]\n",
    "\n",
    "''' Save it'''\n",
    "with open(\"../Data/tAI_weights/tAI_human_general.pickle\", 'wb') as handle:\n",
    "    pickle.dump(gcn_dict, handle)\n"
   ]
  },
  {
   "cell_type": "code",
   "execution_count": 4,
   "id": "27c76210-33b5-441d-81e9-9cc68388e651",
   "metadata": {},
   "outputs": [],
   "source": [
    "''' Parse the data in the tissue specific matrix to obtain a dictionary of dictionaries. Each key is a tissue\n",
    "type and for each tissue we hold a dictionary of Codon: tAI_value'''\n",
    "tai_tissues = tissues_cn['tAI_scores']\n",
    "tissues_dict = {tai_tissues.dtype.names[i]:tai_tissues[0][0][i] for i in range(len(tai_tissues[0][0]))}\n",
    "for tissue_type in tissues_dict.keys():\n",
    "    tissues_dict[tissue_type] = {tissues_dict[tissue_type].dtype.names[i]:tissues_dict[tissue_type][0][0][i][0][0] for i in range(len(tissues_dict[tissue_type][0][0]))}\n",
    "    \n",
    "''' Save it'''\n",
    "with open(\"../Data/tAI_weights/tAI_human_tissue_specific.pickle\", 'wb') as handle:\n",
    "    pickle.dump(tissues_dict, handle)\n",
    "\n"
   ]
  },
  {
   "cell_type": "code",
   "execution_count": null,
   "id": "a0b36885-114a-41ce-ad41-888cfc424fcd",
   "metadata": {},
   "outputs": [],
   "source": []
  }
 ],
 "metadata": {
  "kernelspec": {
   "display_name": "Python 3",
   "language": "python",
   "name": "python3"
  },
  "language_info": {
   "codemirror_mode": {
    "name": "ipython",
    "version": 3
   },
   "file_extension": ".py",
   "mimetype": "text/x-python",
   "name": "python",
   "nbconvert_exporter": "python",
   "pygments_lexer": "ipython3",
   "version": "3.6.13"
  }
 },
 "nbformat": 4,
 "nbformat_minor": 5
}
