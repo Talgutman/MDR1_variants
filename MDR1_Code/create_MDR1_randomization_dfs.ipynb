{
 "cells": [
  {
   "cell_type": "markdown",
   "id": "200b02fa-6837-48e7-9778-736759b65659",
   "metadata": {},
   "source": [
    "We want to create randomizations for p-values of many analyses. Here we will create several dfs containing the locations of the \"valid\" mutations that can be created. \n",
    "We will create: \n",
    "\n",
    "(1) A df with positions of all possible T->C synonymous mutations. (relevant to check against T1236C and T3435C) \n",
    "(2) A df with positions of all possible T->G non-synonymous mutations. (relevant to check against T2677G) \n"
   ]
  },
  {
   "cell_type": "markdown",
   "id": "96057252-a5c4-4a6e-b8f7-bfb3940d2ec1",
   "metadata": {},
   "source": [
    "## Imports"
   ]
  },
  {
   "cell_type": "code",
   "execution_count": 20,
   "id": "641c2693-1eee-46c0-a1ae-7854cd764ea0",
   "metadata": {},
   "outputs": [],
   "source": [
    "import pandas as pd\n",
    "import numpy as np\n",
    "from Utils_MDR1 import get_possib_syn_sub_per_positon, codons_syn_maps_dict, nucs_dict, mutate_cds_sequence,variant_info"
   ]
  },
  {
   "cell_type": "markdown",
   "id": "bf76a740-d7ec-42c1-8214-a0ae36e43388",
   "metadata": {},
   "source": [
    "## Main"
   ]
  },
  {
   "cell_type": "markdown",
   "id": "57caa111-187c-4262-893f-73abd026cd71",
   "metadata": {},
   "source": [
    "Let's get information that is relevant to multiple dfs / all dfs, such as the nucleotide MDR1 sequence, the synonumous substitutiuon matrix of MDR1, the TCGA mutations of MDR1 and the conserved regions.  "
   ]
  },
  {
   "cell_type": "code",
   "execution_count": 2,
   "id": "4525146c-fbac-489c-995a-888d9863477f",
   "metadata": {},
   "outputs": [],
   "source": [
    "''' Get MDR1 CDS sequence '''\n",
    "gene = 'ENSG00000085563' #MDR1/ABCB1 gene\n",
    "genes_dict = pd.read_pickle(f\"../Data/cdna_{gene}.pickle.gz\")\n",
    "nt_CDS = genes_dict['data'][0]['homologies'][0]['source']['seq'][:-3] #removing stop codon -> msa was on aas and ttanslated back, so no info on stop codons"
   ]
  },
  {
   "cell_type": "code",
   "execution_count": null,
   "id": "45427722",
   "metadata": {},
   "outputs": [],
   "source": [
    "''' get a binary table of shape (4, gene_length) indicating the possible synonymous substitutions of each\n",
    "position in the gene. Each row coresponds to a nucleotide in the dna alphabet, sorted alphabetically. \n",
    "For example, if we have \"1\" in position [2,300] it means that changing the nucleotide in position 300 to a \n",
    "\"G\" would result in a synonymous substitution. '''\n",
    "\n",
    "possible_syn_replacements_for_gene = get_possib_syn_sub_per_positon(nt_CDS ,codons_syn_maps_dict)"
   ]
  },
  {
   "cell_type": "code",
   "execution_count": 7,
   "id": "ff2c8769-ed16-4ee2-903b-2ae60d6cb79f",
   "metadata": {},
   "outputs": [],
   "source": [
    "''' Get the dictionary from cds relative position to chromosome relative position '''\n",
    "\n",
    "mapping_dict = pd.read_pickle(\"../Data/cds_to_chrom_dict_with_protein_id.pickle\")\n",
    "gene_to_protein_dict = pd.read_pickle(\"../Data/gene_protein_dict.pickle\")\n",
    "#get the mapping of our specific gene\n",
    "protein_id = gene_to_protein_dict[gene]\n",
    "mapping_cur_gene = mapping_dict[gene,protein_id]\n"
   ]
  },
  {
   "cell_type": "markdown",
   "id": "9ff0c3ad-fb76-44a4-a8bc-73575d26716e",
   "metadata": {},
   "source": [
    "## (1) A df with positions of all possible T->C synonymous mutations"
   ]
  },
  {
   "cell_type": "code",
   "execution_count": 12,
   "id": "dbcf1efc-bf1f-4553-bc75-47437cec1cae",
   "metadata": {},
   "outputs": [],
   "source": [
    "''' Get the pool of possible synonymous changes of T->C in MDR1''' \n",
    "\n",
    "changed_from = \"T\"\n",
    "change_to = \"C\"\n",
    "\n",
    "pos_T_nuc = [position for position, nucleotide in enumerate(nt_CDS) if nucleotide == changed_from] #positions of \"T\" nucleotide\n",
    "pos_can_change_to_C = np.where(possible_syn_replacements_for_gene[nucs_dict[change_to],:] == 1)[0] #positions that can be *synonymously* changed to C\n",
    "positions_pool = [pos for pos in pos_T_nuc if pos in pos_can_change_to_C] #the intersection is our pool to choose from\n"
   ]
  },
  {
   "cell_type": "code",
   "execution_count": 15,
   "id": "b9300ba6-77d4-4167-9647-20491f6402ec",
   "metadata": {},
   "outputs": [
    {
     "name": "stdout",
     "output_type": "stream",
     "text": [
      "There are 424 possible synonymous T->C substitutions in the MDR1 gene\n"
     ]
    },
    {
     "data": {
      "text/html": [
       "<div>\n",
       "<style scoped>\n",
       "    .dataframe tbody tr th:only-of-type {\n",
       "        vertical-align: middle;\n",
       "    }\n",
       "\n",
       "    .dataframe tbody tr th {\n",
       "        vertical-align: top;\n",
       "    }\n",
       "\n",
       "    .dataframe thead th {\n",
       "        text-align: right;\n",
       "    }\n",
       "</style>\n",
       "<table border=\"1\" class=\"dataframe\">\n",
       "  <thead>\n",
       "    <tr style=\"text-align: right;\">\n",
       "      <th></th>\n",
       "      <th>CDS_position_0_based</th>\n",
       "      <th>Chromosome_position_1_based</th>\n",
       "      <th>Sequence</th>\n",
       "      <th>Changed_from</th>\n",
       "      <th>Changed_to</th>\n",
       "    </tr>\n",
       "  </thead>\n",
       "  <tbody>\n",
       "    <tr>\n",
       "      <th>0</th>\n",
       "      <td>5</td>\n",
       "      <td>87600179</td>\n",
       "      <td>ATGGACCTTGAAGGGGACCGCAATGGAGGAGCAAAGAAGAAGAACT...</td>\n",
       "      <td>T</td>\n",
       "      <td>C</td>\n",
       "    </tr>\n",
       "    <tr>\n",
       "      <th>1</th>\n",
       "      <td>8</td>\n",
       "      <td>87600176</td>\n",
       "      <td>ATGGATCTCGAAGGGGACCGCAATGGAGGAGCAAAGAAGAAGAACT...</td>\n",
       "      <td>T</td>\n",
       "      <td>C</td>\n",
       "    </tr>\n",
       "    <tr>\n",
       "      <th>2</th>\n",
       "      <td>23</td>\n",
       "      <td>87600161</td>\n",
       "      <td>ATGGATCTTGAAGGGGACCGCAACGGAGGAGCAAAGAAGAAGAACT...</td>\n",
       "      <td>T</td>\n",
       "      <td>C</td>\n",
       "    </tr>\n",
       "    <tr>\n",
       "      <th>3</th>\n",
       "      <td>47</td>\n",
       "      <td>87600137</td>\n",
       "      <td>ATGGATCTTGAAGGGGACCGCAATGGAGGAGCAAAGAAGAAGAACT...</td>\n",
       "      <td>T</td>\n",
       "      <td>C</td>\n",
       "    </tr>\n",
       "    <tr>\n",
       "      <th>4</th>\n",
       "      <td>50</td>\n",
       "      <td>87600134</td>\n",
       "      <td>ATGGATCTTGAAGGGGACCGCAATGGAGGAGCAAAGAAGAAGAACT...</td>\n",
       "      <td>T</td>\n",
       "      <td>C</td>\n",
       "    </tr>\n",
       "  </tbody>\n",
       "</table>\n",
       "</div>"
      ],
      "text/plain": [
       "   CDS_position_0_based  Chromosome_position_1_based  \\\n",
       "0                     5                     87600179   \n",
       "1                     8                     87600176   \n",
       "2                    23                     87600161   \n",
       "3                    47                     87600137   \n",
       "4                    50                     87600134   \n",
       "\n",
       "                                            Sequence Changed_from Changed_to  \n",
       "0  ATGGACCTTGAAGGGGACCGCAATGGAGGAGCAAAGAAGAAGAACT...            T          C  \n",
       "1  ATGGATCTCGAAGGGGACCGCAATGGAGGAGCAAAGAAGAAGAACT...            T          C  \n",
       "2  ATGGATCTTGAAGGGGACCGCAACGGAGGAGCAAAGAAGAAGAACT...            T          C  \n",
       "3  ATGGATCTTGAAGGGGACCGCAATGGAGGAGCAAAGAAGAAGAACT...            T          C  \n",
       "4  ATGGATCTTGAAGGGGACCGCAATGGAGGAGCAAAGAAGAAGAACT...            T          C  "
      ]
     },
     "metadata": {},
     "output_type": "display_data"
    }
   ],
   "source": [
    "''' Create a df with the position (cds relative and chromosome relative, and with the subsequent mutated sequence '''\n",
    "\n",
    "df_syn_T_C = pd.DataFrame()\n",
    "df_syn_T_C[\"CDS_position_0_based\"] = positions_pool\n",
    "df_syn_T_C[\"Chromosome_position_1_based\"] = df_syn_T_C[\"CDS_position_0_based\"].apply(lambda x: mapping_cur_gene[x] + 1)\n",
    "df_syn_T_C[\"Sequence\"] = df_syn_T_C.apply(lambda x: mutate_cds_sequence(sequence = nt_CDS, position = x.CDS_position_0_based + 1, change_to = \"C\"), axis = 1)\n",
    "df_syn_T_C[\"Changed_from\"] = \"T\" #on the reverse strand!\n",
    "df_syn_T_C[\"Changed_to\"] = \"C\" #on the reverse strand!\n",
    "print(f\"There are {df_syn_T_C.shape[0]} possible synonymous T->C substitutions in the MDR1 gene\")\n",
    "display(df_syn_T_C.head())"
   ]
  },
  {
   "cell_type": "code",
   "execution_count": 21,
   "id": "646d87d6-47a3-4a21-9144-889130309d72",
   "metadata": {},
   "outputs": [],
   "source": [
    "to_remove = [variant_info[1][\"cds_position\"] - 1, variant_info[3][\"cds_position\"] - 1] #remove T1236C and T3435C from the list of random T->C variants\n",
    "df_syn_T_C = df_syn_T_C[~df_syn_T_C[\"CDS_position_0_based\"].isin(to_remove)]"
   ]
  },
  {
   "cell_type": "code",
   "execution_count": 12,
   "id": "bc9cd6f4-802e-4de5-9a5b-739197ff37bc",
   "metadata": {},
   "outputs": [],
   "source": [
    "'''Save to pickle'''\n",
    "df_syn_T_C.to_pickle(\"../Data/random_mutations_for_pvals/synonymous_T2C.pickle\")"
   ]
  },
  {
   "cell_type": "markdown",
   "id": "8ba8c48e-8754-483e-94fc-669dcfd8e017",
   "metadata": {},
   "source": [
    "## (2) A df with positions of all possible T->G non-synonymous mutations"
   ]
  },
  {
   "cell_type": "code",
   "execution_count": 22,
   "id": "4e93f1ca-9e42-4da8-adde-26c103cb92b3",
   "metadata": {},
   "outputs": [],
   "source": [
    "''' Get the pool of possible non-synonymous changes of T->G in MDR1''' \n",
    "\n",
    "changed_from = \"T\"\n",
    "change_to = \"G\"\n",
    "\n",
    "pos_T_nuc = [position for position, nucleotide in enumerate(nt_CDS) if nucleotide == changed_from] #positions of \"T\" nucleotide\n",
    "pos_can_change_to_G = np.where(possible_syn_replacements_for_gene[nucs_dict[change_to],:] == 0)[0] #positions that can be *non-synonymously* changed to G\n",
    "positions_pool = [pos for pos in pos_T_nuc if pos in pos_can_change_to_G] #the intersection is our pool to choose from\n"
   ]
  },
  {
   "cell_type": "code",
   "execution_count": 23,
   "id": "9e0cf740-4841-4e6e-a4e3-5d1948b757a6",
   "metadata": {},
   "outputs": [
    {
     "name": "stdout",
     "output_type": "stream",
     "text": [
      "There are 860 possible non-synonymous T->G substitutions in the MDR1 gene\n"
     ]
    },
    {
     "data": {
      "text/html": [
       "<div>\n",
       "<style scoped>\n",
       "    .dataframe tbody tr th:only-of-type {\n",
       "        vertical-align: middle;\n",
       "    }\n",
       "\n",
       "    .dataframe tbody tr th {\n",
       "        vertical-align: top;\n",
       "    }\n",
       "\n",
       "    .dataframe thead th {\n",
       "        text-align: right;\n",
       "    }\n",
       "</style>\n",
       "<table border=\"1\" class=\"dataframe\">\n",
       "  <thead>\n",
       "    <tr style=\"text-align: right;\">\n",
       "      <th></th>\n",
       "      <th>CDS_position_0_based</th>\n",
       "      <th>Chromosome_position_1_based</th>\n",
       "      <th>Changed_from</th>\n",
       "      <th>Changed_to</th>\n",
       "      <th>Sequence</th>\n",
       "    </tr>\n",
       "  </thead>\n",
       "  <tbody>\n",
       "    <tr>\n",
       "      <th>0</th>\n",
       "      <td>1</td>\n",
       "      <td>87600183</td>\n",
       "      <td>T</td>\n",
       "      <td>G</td>\n",
       "      <td>AGGGATCTTGAAGGGGACCGCAATGGAGGAGCAAAGAAGAAGAACT...</td>\n",
       "    </tr>\n",
       "    <tr>\n",
       "      <th>1</th>\n",
       "      <td>5</td>\n",
       "      <td>87600179</td>\n",
       "      <td>T</td>\n",
       "      <td>G</td>\n",
       "      <td>ATGGAGCTTGAAGGGGACCGCAATGGAGGAGCAAAGAAGAAGAACT...</td>\n",
       "    </tr>\n",
       "    <tr>\n",
       "      <th>2</th>\n",
       "      <td>7</td>\n",
       "      <td>87600177</td>\n",
       "      <td>T</td>\n",
       "      <td>G</td>\n",
       "      <td>ATGGATCGTGAAGGGGACCGCAATGGAGGAGCAAAGAAGAAGAACT...</td>\n",
       "    </tr>\n",
       "    <tr>\n",
       "      <th>3</th>\n",
       "      <td>23</td>\n",
       "      <td>87600161</td>\n",
       "      <td>T</td>\n",
       "      <td>G</td>\n",
       "      <td>ATGGATCTTGAAGGGGACCGCAAGGGAGGAGCAAAGAAGAAGAACT...</td>\n",
       "    </tr>\n",
       "    <tr>\n",
       "      <th>4</th>\n",
       "      <td>45</td>\n",
       "      <td>87600139</td>\n",
       "      <td>T</td>\n",
       "      <td>G</td>\n",
       "      <td>ATGGATCTTGAAGGGGACCGCAATGGAGGAGCAAAGAAGAAGAACG...</td>\n",
       "    </tr>\n",
       "  </tbody>\n",
       "</table>\n",
       "</div>"
      ],
      "text/plain": [
       "   CDS_position_0_based  Chromosome_position_1_based Changed_from Changed_to  \\\n",
       "0                     1                     87600183            T          G   \n",
       "1                     5                     87600179            T          G   \n",
       "2                     7                     87600177            T          G   \n",
       "3                    23                     87600161            T          G   \n",
       "4                    45                     87600139            T          G   \n",
       "\n",
       "                                            Sequence  \n",
       "0  AGGGATCTTGAAGGGGACCGCAATGGAGGAGCAAAGAAGAAGAACT...  \n",
       "1  ATGGAGCTTGAAGGGGACCGCAATGGAGGAGCAAAGAAGAAGAACT...  \n",
       "2  ATGGATCGTGAAGGGGACCGCAATGGAGGAGCAAAGAAGAAGAACT...  \n",
       "3  ATGGATCTTGAAGGGGACCGCAAGGGAGGAGCAAAGAAGAAGAACT...  \n",
       "4  ATGGATCTTGAAGGGGACCGCAATGGAGGAGCAAAGAAGAAGAACG...  "
      ]
     },
     "metadata": {},
     "output_type": "display_data"
    }
   ],
   "source": [
    "''' Create a df with the position (cds relative and chromosome relative, and with the subsequent mutated sequence '''\n",
    "\n",
    "df_nonsyn_T_G = pd.DataFrame()\n",
    "df_nonsyn_T_G[\"CDS_position_0_based\"] = positions_pool\n",
    "df_nonsyn_T_G[\"Chromosome_position_1_based\"] = df_nonsyn_T_G[\"CDS_position_0_based\"].apply(lambda x: mapping_cur_gene[x] + 1)\n",
    "df_nonsyn_T_G[\"Changed_from\"] = \"T\" #on the reverse strand!\n",
    "df_nonsyn_T_G[\"Changed_to\"] = \"G\" #on the reverse strand!\n",
    "df_nonsyn_T_G[\"Sequence\"] = df_nonsyn_T_G.apply(lambda x: mutate_cds_sequence(sequence = nt_CDS, position = x.CDS_position_0_based + 1, change_to = \"G\"), axis = 1)\n",
    "print(f\"There are {df_nonsyn_T_G.shape[0]} possible non-synonymous T->G substitutions in the MDR1 gene\")\n",
    "display(df_nonsyn_T_G.head())"
   ]
  },
  {
   "cell_type": "code",
   "execution_count": 24,
   "id": "440776f3-fa2c-4f1b-8b79-672199148393",
   "metadata": {},
   "outputs": [],
   "source": [
    "to_remove = [variant_info[2][\"cds_position\"] - 1] #remove T2677G from the list of random T->G variants\n",
    "df_nonsyn_T_G = df_nonsyn_T_G[~df_nonsyn_T_G[\"CDS_position_0_based\"].isin(to_remove)]"
   ]
  },
  {
   "cell_type": "code",
   "execution_count": 16,
   "id": "01e39d3b-ac89-46da-84ed-ba4a7fba201c",
   "metadata": {},
   "outputs": [],
   "source": [
    "'''Save to pickle'''\n",
    "df_nonsyn_T_G.to_pickle(\"../Data/random_mutations_for_pvals/nonsynonymous_T2G.pickle\")"
   ]
  },
  {
   "cell_type": "code",
   "execution_count": null,
   "id": "68780e02-5a94-4570-a1e1-43f96024e59f",
   "metadata": {},
   "outputs": [],
   "source": []
  }
 ],
 "metadata": {
  "kernelspec": {
   "display_name": "Python 3",
   "language": "python",
   "name": "python3"
  },
  "language_info": {
   "codemirror_mode": {
    "name": "ipython",
    "version": 3
   },
   "file_extension": ".py",
   "mimetype": "text/x-python",
   "name": "python",
   "nbconvert_exporter": "python",
   "pygments_lexer": "ipython3",
   "version": "3.6.13"
  }
 },
 "nbformat": 4,
 "nbformat_minor": 5
}
