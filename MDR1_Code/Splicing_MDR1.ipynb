{
 "cells": [
  {
   "cell_type": "markdown",
   "id": "2db23acf-5697-4a22-a3e7-855eb8519906",
   "metadata": {},
   "source": [
    "In this notebook we use spliceAI to check if the mutations possibly cause changes in splicing (through removing/creating a donor/acceptor site). \n",
    "For this purpose we use SpliceAI. "
   ]
  },
  {
   "cell_type": "code",
   "execution_count": 64,
   "id": "9edaca49-d0e1-4588-a0f5-6e9b4bfe6304",
   "metadata": {},
   "outputs": [],
   "source": [
    "import pandas as pd\n",
    "import numpy as np\n",
    "import os, sys, re\n",
    "import pickle\n",
    "import matplotlib.pyplot as plt\n",
    "import glob\n",
    "\n",
    "from keras.models import load_model\n",
    "from pkg_resources import resource_filename\n",
    "from spliceai.utils import one_hot_encode\n",
    "from Bio import SeqIO\n",
    "from scipy import stats\n",
    "from tqdm import tqdm\n"
   ]
  },
  {
   "cell_type": "markdown",
   "id": "c5bb8d02-144e-4f39-8cf2-de035368dc94",
   "metadata": {},
   "source": [
    "## Functions"
   ]
  },
  {
   "cell_type": "code",
   "execution_count": 65,
   "id": "6c17fcf7-5b7e-4014-99e9-b509cbab668e",
   "metadata": {},
   "outputs": [],
   "source": [
    "''' \n",
    "Obtains a sequence around a mutation to be used as input of spliceAI. \n",
    "SpliceAIs input is a vector that is built in this form: [M positions for context, N positions to predict on, X mutated positions, \n",
    "N positions to predict on, M positions for context]. This function takes the wanted_context_length (from 1 side), wanted_segment_length (from 1 side)\n",
    "and pulls the sequence for the fasta file containing the full chromosome sequence.\n",
    "'''\n",
    "\n",
    "def get_context_for_position(position_info: pd.DataFrame, chromosome_path: str, wanted_context_length: int, wanted_segment_length :int) -> [str, str]:\n",
    "    \n",
    "    cur_chrom_path = os.path.join(chromosome_path, f\"Homo_sapiens.GRCh38.dna_sm.chromosome.{position_info['Chromosome']}.fa\")\n",
    "    mutation_start = position_info[\"Start_Position\"] #1-based\n",
    "    mutation_end = position_info[\"End_Position\"] #1-based\n",
    "    forward_strand = position_info[\"is_forward\"]\n",
    "    reference_allele = position_info[\"Reference_Allele\"]\n",
    "    mut_allele = position_info[\"Tumor_Seq_Allele2\"]\n",
    "    mut_type = position_info[\"Variant_Type\"]\n",
    "    \n",
    "    # get sequence of entire chromosome\n",
    "    fasta_sequences = SeqIO.parse(open(cur_chrom_path),'fasta')\n",
    "    for fasta in fasta_sequences:\n",
    "        this_chr_seq = fasta.seq.upper()\n",
    "    \n",
    "    # get context before and after mutated position (\"wanted_context_length\" + \"wanted_segment_length\" nts from each side)\n",
    "    # note that these bit is true specifically for snps (which our three mutations are)\n",
    "    context_before = this_chr_seq[mutation_start - wanted_segment_length - wanted_context_length -1 : mutation_start - 1]\n",
    "    context_after = this_chr_seq[mutation_end : mutation_end + wanted_segment_length + wanted_context_length]\n",
    "\n",
    "    assert(reference_allele == this_chr_seq[mutation_start-1:mutation_end])\n",
    "        \n",
    "    reference_w_context = context_before + reference_allele + context_after\n",
    "    mut_w_context = context_before + mut_allele + context_after\n",
    "        \n",
    "    #if we are on the reverse strand - reverse complement\n",
    "    if not forward_strand:\n",
    "        reference_w_context = reference_w_context.reverse_complement()\n",
    "        mut_w_context = mut_w_context.reverse_complement()\n",
    "\n",
    "    return(str(reference_w_context),str(mut_w_context))\n",
    "     \n",
    "    "
   ]
  },
  {
   "cell_type": "code",
   "execution_count": 66,
   "id": "bf59fed3-97a8-42f0-bdce-b1ddbc7315c6",
   "metadata": {},
   "outputs": [],
   "source": [
    "''' \n",
    "Runs spliceAI on the input sequence using 5 different weights sets. Averages the predictions and returns the probability of each position in the \n",
    "prediction range of being a donor/acceptor site\n",
    "'''\n",
    "\n",
    "def SpliceAI_on_single_seq(input_sequence: str,models: list) -> [np.array, np.array]:\n",
    "    x =  one_hot_encode(input_sequence)[None, :]\n",
    "    y = np.mean([models[m].predict(x) for m in range(5)], axis=0)\n",
    "\n",
    "    acceptor_prob = y[0, :, 1]\n",
    "    donor_prob = y[0, :, 2]\n",
    "    \n",
    "    return (acceptor_prob, donor_prob)"
   ]
  },
  {
   "cell_type": "code",
   "execution_count": 67,
   "id": "ca4c1890-4d19-4c0f-8cd1-54594a12bc60",
   "metadata": {},
   "outputs": [],
   "source": [
    "''' \n",
    "Finds the positions in the sequence (relative to the predicted range) of  new/missed donor and acceptor sites. \n",
    "These are positions whose probability of being a donor/acceptor site changed significantly (more than \"threshold\", currently 0.5). \n",
    "'''\n",
    "def location_new_and_missed_sites(acceptor_delta: np.array,donor_delta: np.array, threshold: float = 0.5) -> [list, list, list, list]:\n",
    "        missed_acceptor_sites = np.where(acceptor_delta > threshold)[0]\n",
    "        new_acceptor_sites = np.where(acceptor_delta < -threshold)[0]\n",
    "        missed_donor_sites = np.where(donor_delta > threshold)[0]\n",
    "        new_donor_sites = np.where(donor_delta < -threshold)[0]\n",
    "        return(missed_acceptor_sites,new_acceptor_sites,missed_donor_sites,new_donor_sites)\n"
   ]
  },
  {
   "cell_type": "markdown",
   "id": "a81a50b5-a2a8-4aed-a252-ff54b15425cc",
   "metadata": {},
   "source": [
    "## Main"
   ]
  },
  {
   "cell_type": "code",
   "execution_count": 68,
   "id": "0d8f55a5-f485-4df3-a37d-7fb82da5a9a4",
   "metadata": {},
   "outputs": [],
   "source": [
    "chromosomes_path = \"/tamir2/lab_resources/Genomes/Human/human_hg38/Chromosome\""
   ]
  },
  {
   "cell_type": "code",
   "execution_count": 69,
   "id": "1cec3f93-c9e4-433d-afba-9c83e29261b1",
   "metadata": {},
   "outputs": [
    {
     "data": {
      "text/html": [
       "<div>\n",
       "<style scoped>\n",
       "    .dataframe tbody tr th:only-of-type {\n",
       "        vertical-align: middle;\n",
       "    }\n",
       "\n",
       "    .dataframe tbody tr th {\n",
       "        vertical-align: top;\n",
       "    }\n",
       "\n",
       "    .dataframe thead th {\n",
       "        text-align: right;\n",
       "    }\n",
       "</style>\n",
       "<table border=\"1\" class=\"dataframe\">\n",
       "  <thead>\n",
       "    <tr style=\"text-align: right;\">\n",
       "      <th></th>\n",
       "      <th>mut_id</th>\n",
       "      <th>gene_affected</th>\n",
       "      <th>Gene</th>\n",
       "      <th>Chromosome</th>\n",
       "      <th>Start_Position</th>\n",
       "      <th>End_Position</th>\n",
       "      <th>Reference_Allele</th>\n",
       "      <th>Tumor_Seq_Allele2</th>\n",
       "      <th>Variant_Type</th>\n",
       "      <th>Variant_Classification</th>\n",
       "      <th>Transcript_ID</th>\n",
       "      <th>is_forward</th>\n",
       "      <th>cds_position</th>\n",
       "    </tr>\n",
       "  </thead>\n",
       "  <tbody>\n",
       "    <tr>\n",
       "      <th>0</th>\n",
       "      <td>87509329:87509329:chr7:A:G</td>\n",
       "      <td>ENSG00000085563</td>\n",
       "      <td>ABCB1</td>\n",
       "      <td>7</td>\n",
       "      <td>87509329</td>\n",
       "      <td>87509329</td>\n",
       "      <td>A</td>\n",
       "      <td>G</td>\n",
       "      <td>SNP</td>\n",
       "      <td>Silent</td>\n",
       "      <td>ENST00000622132</td>\n",
       "      <td>False</td>\n",
       "      <td>3435</td>\n",
       "    </tr>\n",
       "    <tr>\n",
       "      <th>1</th>\n",
       "      <td>87550285:87550285:chr7:A:G</td>\n",
       "      <td>ENSG00000085563</td>\n",
       "      <td>ABCB1</td>\n",
       "      <td>7</td>\n",
       "      <td>87550285</td>\n",
       "      <td>87550285</td>\n",
       "      <td>A</td>\n",
       "      <td>G</td>\n",
       "      <td>SNP</td>\n",
       "      <td>Silent</td>\n",
       "      <td>ENST00000622132</td>\n",
       "      <td>False</td>\n",
       "      <td>1236</td>\n",
       "    </tr>\n",
       "    <tr>\n",
       "      <th>2</th>\n",
       "      <td>87531302:87531302:chr7:A:C</td>\n",
       "      <td>ENSG00000085563</td>\n",
       "      <td>ABCB1</td>\n",
       "      <td>7</td>\n",
       "      <td>87531302</td>\n",
       "      <td>87531302</td>\n",
       "      <td>A</td>\n",
       "      <td>C</td>\n",
       "      <td>SNP</td>\n",
       "      <td>Missense_Mutation</td>\n",
       "      <td>ENST00000622132</td>\n",
       "      <td>False</td>\n",
       "      <td>2677</td>\n",
       "    </tr>\n",
       "  </tbody>\n",
       "</table>\n",
       "</div>"
      ],
      "text/plain": [
       "                       mut_id    gene_affected   Gene Chromosome  \\\n",
       "0  87509329:87509329:chr7:A:G  ENSG00000085563  ABCB1          7   \n",
       "1  87550285:87550285:chr7:A:G  ENSG00000085563  ABCB1          7   \n",
       "2  87531302:87531302:chr7:A:C  ENSG00000085563  ABCB1          7   \n",
       "\n",
       "  Start_Position End_Position Reference_Allele Tumor_Seq_Allele2 Variant_Type  \\\n",
       "0       87509329     87509329                A                 G          SNP   \n",
       "1       87550285     87550285                A                 G          SNP   \n",
       "2       87531302     87531302                A                 C          SNP   \n",
       "\n",
       "  Variant_Classification    Transcript_ID  is_forward  cds_position  \n",
       "0                 Silent  ENST00000622132       False          3435  \n",
       "1                 Silent  ENST00000622132       False          1236  \n",
       "2      Missense_Mutation  ENST00000622132       False          2677  "
      ]
     },
     "metadata": {},
     "output_type": "display_data"
    }
   ],
   "source": [
    "# a dataframe that has basic info about the three mutations, for using SpliceAI\n",
    "mutations_df = pd.read_pickle(\"../Data/MDR1_3_muts_df.pickle\")\n",
    "display(mutations_df)"
   ]
  },
  {
   "cell_type": "code",
   "execution_count": 70,
   "id": "8b64c27a-8baa-47d2-a1f4-c7023a30be28",
   "metadata": {},
   "outputs": [
    {
     "name": "stderr",
     "output_type": "stream",
     "text": [
      "100%|██████████| 3/3 [00:04<00:00,  1.59s/it]\n"
     ]
    }
   ],
   "source": [
    "#iterate over all mutations and add the reference and mutated sequences (5500 nts downstream + mutation/reference_nt + 5500 nts upstream) for each one of the mutations.\n",
    "#These will be used as input for the spliceAI model. \n",
    "\n",
    "wanted_context_length = 5000\n",
    "wanted_segment_length = 500\n",
    "\n",
    "for mutation_ind in tqdm(mutations_df.index.to_list()):\n",
    "    cur_mut = mutations_df.loc[mutation_ind,:]\n",
    "    ref_seq, mut_seq = get_context_for_position(cur_mut, chromosomes_path, wanted_context_length,wanted_segment_length)\n",
    "    mutations_df.loc[mutation_ind,'reference_w_context'] = ref_seq\n",
    "    mutations_df.loc[mutation_ind,'mut_w_context'] = mut_seq"
   ]
  },
  {
   "cell_type": "code",
   "execution_count": 71,
   "id": "abed0ea1-a2b5-43be-b474-af70984bf5cf",
   "metadata": {},
   "outputs": [
    {
     "name": "stdout",
     "output_type": "stream",
     "text": [
      "WARNING:tensorflow:No training configuration found in the save file, so the model was *not* compiled. Compile it manually.\n",
      "WARNING:tensorflow:No training configuration found in the save file, so the model was *not* compiled. Compile it manually.\n",
      "WARNING:tensorflow:No training configuration found in the save file, so the model was *not* compiled. Compile it manually.\n",
      "WARNING:tensorflow:No training configuration found in the save file, so the model was *not* compiled. Compile it manually.\n",
      "WARNING:tensorflow:No training configuration found in the save file, so the model was *not* compiled. Compile it manually.\n"
     ]
    }
   ],
   "source": [
    "# Load the model\n",
    "paths = ('models/spliceai{}.h5'.format(x) for x in range(1, 6))\n",
    "models = [load_model(resource_filename('spliceai', x)) for x in paths]\n"
   ]
  },
  {
   "cell_type": "code",
   "execution_count": 72,
   "id": "0f3039ea-eb83-4b5b-9627-fcea6b822201",
   "metadata": {},
   "outputs": [],
   "source": [
    "threshold = 0.5 #decide on a threshold for significant thresholds. "
   ]
  },
  {
   "cell_type": "markdown",
   "id": "16cf3719-f644-485a-8823-ddec8069f463",
   "metadata": {},
   "source": [
    "### T1236C"
   ]
  },
  {
   "cell_type": "code",
   "execution_count": 73,
   "id": "cbbb9a19-f9cc-4a35-881a-c41aa63ef710",
   "metadata": {},
   "outputs": [
    {
     "name": "stdout",
     "output_type": "stream",
     "text": [
      "WARNING:tensorflow:5 out of the last 50 calls to <function Model.make_predict_function.<locals>.predict_function at 0x2b5902a69a60> triggered tf.function retracing. Tracing is expensive and the excessive number of tracings could be due to (1) creating @tf.function repeatedly in a loop, (2) passing tensors with different shapes, (3) passing Python objects instead of tensors. For (1), please define your @tf.function outside of the loop. For (2), @tf.function has experimental_relax_shapes=True option that relaxes argument shapes that can avoid unnecessary retracing. For (3), please refer to https://www.tensorflow.org/guide/function#controlling_retracing and https://www.tensorflow.org/api_docs/python/tf/function for  more details.\n",
      "Missed acceptors: [],\n",
      "New acceptors: [],\n",
      "Missed donors: [],\n",
      "New donors: []\n"
     ]
    }
   ],
   "source": [
    "#get the reference and mutated sequences of this mutation\n",
    "cur_mut = mutations_df[mutations_df[\"cds_position\"] == 1236]\n",
    "ref_seq = cur_mut[\"reference_w_context\"].values[0]\n",
    "mut_seq = cur_mut[\"mut_w_context\"].values[0]\n",
    "\n",
    "#use spliceAI to calculate each position's probability for being a donor or an acceptor site\n",
    "ref_acceptor, ref_donor = SpliceAI_on_single_seq(ref_seq,models) \n",
    "mut_acceptor, mut_donor = SpliceAI_on_single_seq(mut_seq,models)\n",
    "\n",
    "#calculate the change that occured because of the mutation\n",
    "delta_acceptor = mut_acceptor - ref_acceptor\n",
    "delta_donor = mut_donor - ref_donor\n",
    "\n",
    "#Find donor & acceptor sites that were canceled or created because of the mutation. (these could change the splicing and hence the protein)\n",
    "# We detect positions where there was more than 0.5 change in the probability. For example, if a position had a probability of 0.98 of being a \n",
    "# donor site and after the mutation it has a probability of smaller than 0.48, we consider it a missed donor site.  \n",
    "missed_acceptor_sites,new_acceptor_sites,missed_donor_sites,new_donor_sites = location_new_and_missed_sites(delta_acceptor, delta_donor, threshold)\n",
    "\n",
    "print(f\"Missed acceptors: {missed_acceptor_sites},\\nNew acceptors: {new_acceptor_sites},\\nMissed donors: {missed_donor_sites},\\nNew donors: {new_donor_sites}\")\n",
    "    "
   ]
  },
  {
   "cell_type": "markdown",
   "id": "eddd2172-e542-416d-bae0-cd548f3fa1dd",
   "metadata": {},
   "source": [
    "### T2677G"
   ]
  },
  {
   "cell_type": "code",
   "execution_count": 74,
   "id": "dfa049fa-4261-4abf-a088-f9063f1407ca",
   "metadata": {},
   "outputs": [
    {
     "name": "stdout",
     "output_type": "stream",
     "text": [
      "Missed acceptors: [],\n",
      "New acceptors: [],\n",
      "Missed donors: [],\n",
      "New donors: []\n"
     ]
    }
   ],
   "source": [
    "#get the reference and mutated sequences of this mutation\n",
    "cur_mut = mutations_df[mutations_df[\"cds_position\"] == 2677]\n",
    "ref_seq = cur_mut[\"reference_w_context\"].values[0]\n",
    "mut_seq = cur_mut[\"mut_w_context\"].values[0]\n",
    "\n",
    "#use spliceAI to calculate each position's probability for being a donor or an acceptor site\n",
    "ref_acceptor, ref_donor = SpliceAI_on_single_seq(ref_seq,models) \n",
    "mut_acceptor, mut_donor = SpliceAI_on_single_seq(mut_seq,models)\n",
    "\n",
    "#calculate the change that occured because of the mutation\n",
    "delta_acceptor = mut_acceptor - ref_acceptor\n",
    "delta_donor = mut_donor - ref_donor\n",
    "\n",
    "#Find donor & acceptor sites that were canceled or created because of the mutation. (these could change the splicing and hence the protein)\n",
    "# We detect positions where there was more than 0.5 change in the probability. For example, if a position had a probability of 0.98 of being a \n",
    "# donor site and after the mutation it has a probability of smaller than 0.48, we consider it a missed donor site.  \n",
    "missed_acceptor_sites,new_acceptor_sites,missed_donor_sites,new_donor_sites = location_new_and_missed_sites(delta_acceptor, delta_donor, threshold)\n",
    "\n",
    "print(f\"Missed acceptors: {missed_acceptor_sites},\\nNew acceptors: {new_acceptor_sites},\\nMissed donors: {missed_donor_sites},\\nNew donors: {new_donor_sites}\")\n",
    " "
   ]
  },
  {
   "cell_type": "markdown",
   "id": "26c86479-ffb9-4e57-afe6-402408c6e532",
   "metadata": {},
   "source": [
    "### T3435C"
   ]
  },
  {
   "cell_type": "code",
   "execution_count": 75,
   "id": "7188bc21-c32a-47c8-8dab-d40a2f611db8",
   "metadata": {},
   "outputs": [
    {
     "name": "stdout",
     "output_type": "stream",
     "text": [
      "Missed acceptors: [],\n",
      "New acceptors: [],\n",
      "Missed donors: [],\n",
      "New donors: []\n"
     ]
    }
   ],
   "source": [
    "#get the reference and mutated sequences of this mutation\n",
    "cur_mut = mutations_df[mutations_df[\"cds_position\"] == 3435]\n",
    "ref_seq = cur_mut[\"reference_w_context\"].values[0]\n",
    "mut_seq = cur_mut[\"mut_w_context\"].values[0]\n",
    "\n",
    "#use spliceAI to calculate each position's probability for being a donor or an acceptor site\n",
    "ref_acceptor, ref_donor = SpliceAI_on_single_seq(ref_seq,models) \n",
    "mut_acceptor, mut_donor = SpliceAI_on_single_seq(mut_seq,models)\n",
    "\n",
    "#calculate the change that occured because of the mutation\n",
    "delta_acceptor = mut_acceptor - ref_acceptor\n",
    "delta_donor = mut_donor - ref_donor\n",
    "\n",
    "#Find donor & acceptor sites that were canceled or created because of the mutation. (these could change the splicing and hence the protein)\n",
    "# We detect positions where there was more than 0.5 change in the probability. For example, if a position had a probability of 0.98 of being a \n",
    "# donor site and after the mutation it has a probability of smaller than 0.48, we consider it a missed donor site.  \n",
    "missed_acceptor_sites,new_acceptor_sites,missed_donor_sites,new_donor_sites = location_new_and_missed_sites(delta_acceptor, delta_donor, threshold)\n",
    "\n",
    "print(f\"Missed acceptors: {missed_acceptor_sites},\\nNew acceptors: {new_acceptor_sites},\\nMissed donors: {missed_donor_sites},\\nNew donors: {new_donor_sites}\")\n"
   ]
  },
  {
   "cell_type": "markdown",
   "id": "dc69ef00-6a30-47bb-9b03-0ec1f33e963e",
   "metadata": {},
   "source": [
    "No new/missed donor/acceptor site are predicted using SpliceAI. "
   ]
  },
  {
   "cell_type": "code",
   "execution_count": null,
   "id": "fb4000a4-d203-46e1-bd01-a88a87fe8467",
   "metadata": {},
   "outputs": [],
   "source": []
  }
 ],
 "metadata": {
  "kernelspec": {
   "display_name": "Python 3",
   "language": "python",
   "name": "python3"
  },
  "language_info": {
   "codemirror_mode": {
    "name": "ipython",
    "version": 3
   },
   "file_extension": ".py",
   "mimetype": "text/x-python",
   "name": "python",
   "nbconvert_exporter": "python",
   "pygments_lexer": "ipython3",
   "version": "3.6.13"
  }
 },
 "nbformat": 4,
 "nbformat_minor": 5
}
