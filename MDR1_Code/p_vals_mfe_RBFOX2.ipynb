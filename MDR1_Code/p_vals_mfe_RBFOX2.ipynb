{
 "cells": [
  {
   "cell_type": "markdown",
   "id": "a35aba47-7864-40f6-b8df-2360da79e6ec",
   "metadata": {},
   "source": [
    "We have the ITGA2 example in the MDR1 paper. We created random synonymous G->T changes in this gene. Here we calculate the mfe change they cause and compare it to the actuall change caused by the mutation. "
   ]
  },
  {
   "cell_type": "markdown",
   "id": "6d17d732-72dc-45e6-8d4f-0b01332233f0",
   "metadata": {},
   "source": [
    "## Import"
   ]
  },
  {
   "cell_type": "code",
   "execution_count": 2,
   "id": "99b42638-d960-462c-ac12-b998c98897d4",
   "metadata": {},
   "outputs": [],
   "source": [
    "import pandas as pd\n",
    "import numpy as np\n",
    "import pickle\n",
    "from Utils_MDR1 import *\n"
   ]
  },
  {
   "cell_type": "markdown",
   "id": "cec3fc91-4646-49d2-9939-d7249afcad47",
   "metadata": {},
   "source": [
    "## Functions"
   ]
  },
  {
   "cell_type": "code",
   "execution_count": 3,
   "id": "1090d8f6-3e0d-4d85-941b-3237150133fd",
   "metadata": {},
   "outputs": [],
   "source": [
    "def get_delta_mfe_single_rand(nt_CDS_mutated: str, mfe_positions: np.array, chosen_pos: int) -> float:\n",
    "    ''' \n",
    "    This function creates a single randomization, calculates the mfe of the mutated sequence and\n",
    "    returns the delta mfe. \n",
    "\n",
    "    * nt_CDS_mutated: the mutated CDS sequence\n",
    "    * chosen_pos: the mutated position in 0-base\n",
    "    * mfe_positions: the mfe_scores of the original sequence\n",
    "    '''\n",
    "\n",
    "    #calculate window mfe for the current version of the gene\n",
    "    mfe_windows_mutated = calc_windows_mfe(nt_CDS_mutated, 39) #calculate mfe per window\n",
    "    #calculate mfe per position for the current version of the gene\n",
    "    mfe_positions_mutated = calc_mfe_per_position(mfe_windows_mutated, 'original', 38, 39)\n",
    "\n",
    "    delta_mfe = (mfe_positions_mutated[0,chosen_pos] - mfe_positions[0,chosen_pos])\n",
    "    \n",
    "    return(delta_mfe)"
   ]
  },
  {
   "cell_type": "code",
   "execution_count": 4,
   "id": "b290bf45-2565-4cd3-a3ca-a3e2758edd53",
   "metadata": {},
   "outputs": [],
   "source": [
    "def get_delta_mfes_all_rands(path_to_rands: str, num_randomizations: int, mfe_positions: np.array) -> np.array:\n",
    "    ''' \n",
    "    This function creates \"num_randomizations\" randomized sequences and calculate the delta mfe for each\n",
    "    randomization \n",
    "    '''\n",
    "    random_df = pd.read_pickle(path_to_rands) #contains sequences with all possible substitutions according to the selected criterion.\n",
    "    num_mutated_sequences = random_df.shape[0] #choose \"num_randomizations\" sequences from the \"num_mutated_sequences\" and calculate the delta mfe caused by each change\n",
    "    chosen_rows = np.random.choice(num_mutated_sequences, num_randomizations) #choose rows from the df randomly\n",
    "    random_df = random_df.iloc[chosen_rows] #keep only the chosen rows\n",
    "    random_delta_mfes = random_df.apply(lambda x: get_delta_mfe_single_rand(x.Sequence, mfe_positions, int(x.CDS_position_0_based)), axis = 1) #calculate the delta mfe caused by the random change\n",
    "    \n",
    "    return(random_delta_mfes.values)\n",
    "        "
   ]
  },
  {
   "cell_type": "markdown",
   "id": "a8556ded-1cdf-48ec-9d1b-989c104af6aa",
   "metadata": {},
   "source": [
    "## Main"
   ]
  },
  {
   "cell_type": "code",
   "execution_count": 5,
   "id": "6d449a37-c879-4028-b11a-d1e02521a676",
   "metadata": {},
   "outputs": [],
   "source": [
    "''' Get the true delta mfe caused by our position '''\n",
    "\n",
    "#  ENSG00000100320:chr22:35768281:Silent:G:T - RBFOX2\n",
    "\n",
    "cds_position = 732 #1-based\n",
    "mut_allele = \"A\" #strand sensitive\n",
    "\n",
    "# Get the CDS sequence\n",
    "gene_id = \"ENSG00000100320\" #RBFOX2\n",
    "genes_dict = pd.read_pickle(f\"../Data/cdna_{gene_id}.pickle.gz\")\n",
    "nt_CDS = genes_dict['data'][0]['homologies'][0]['source']['seq'][:-3] #removing stop codon -> msa was on aas and ttanslated back, so no info on stop codons\n",
    "\n",
    "#get mfe profile of the original sequence\n",
    "mfe_windows = calc_windows_mfe(nt_CDS, 39) #calculate mfe per window\n",
    "mfe_positions = calc_mfe_per_position(mfe_windows, 'original', 38, 39) #change to mfe per position\n",
    "\n",
    "#get mfe profile of the mutated sequence\n",
    "nt_CDS_mut = mutate_cds_sequence(nt_CDS, cds_position, mut_allele) #mutate the sequence\n",
    "mfe_windows_mut = calc_windows_mfe(nt_CDS_mut, 39) #calculate mfe per window\n",
    "mfe_positions_mut = calc_mfe_per_position(mfe_windows_mut, 'original', 38, 39) #change to mfe per position\n",
    "\n",
    "delta_mfe = (mfe_positions_mut[0,cds_position - 1] - mfe_positions[0,cds_position - 1])\n",
    "\n"
   ]
  },
  {
   "cell_type": "code",
   "execution_count": 6,
   "id": "aa07062c-ab37-455b-8975-8634baecaba0",
   "metadata": {},
   "outputs": [
    {
     "data": {
      "text/plain": [
       "3.756410274750147"
      ]
     },
     "execution_count": 6,
     "metadata": {},
     "output_type": "execute_result"
    }
   ],
   "source": [
    "delta_mfe"
   ]
  },
  {
   "cell_type": "code",
   "execution_count": 8,
   "id": "dca5df45-f5bf-4fd1-8c8a-51ff347c2649",
   "metadata": {},
   "outputs": [],
   "source": [
    "''' Get the delta mfes caused by 100 random synonymous G->T variants (to compare with G636T) '''\n",
    "\n",
    "num_randomizations = 100\n",
    "path_to_rands = \"../Results/RBFOX2/synonymous_C2A_RBFOX2.pickle\"\n",
    "random_deltas = get_delta_mfes_all_rands(path_to_rands, num_randomizations)\n",
    "with open(\"../Results/RBFOX2/random_delta_mfe_C2A_syn_RBFOX2.pickle\",'wb') as f:\n",
    "    pickle.dump(random_deltas, f)\n"
   ]
  },
  {
   "cell_type": "code",
   "execution_count": null,
   "id": "7fc4fe76-abfb-495d-9bd9-6892439e4b6e",
   "metadata": {},
   "outputs": [],
   "source": [
    "''' Calculate the p-values for each mutation ''' "
   ]
  },
  {
   "cell_type": "code",
   "execution_count": 9,
   "id": "a81b0929-9225-454c-9c51-462d67e71e1b",
   "metadata": {},
   "outputs": [
    {
     "data": {
      "text/plain": [
       "0.0"
      ]
     },
     "execution_count": 9,
     "metadata": {},
     "output_type": "execute_result"
    }
   ],
   "source": [
    "pval = get_pvalue(delta_mfe, random_deltas, mfe_positions)\n",
    "pval\n",
    "\n"
   ]
  },
  {
   "cell_type": "code",
   "execution_count": null,
   "id": "d28d3ca9-0662-469b-b335-eb959d70c9ef",
   "metadata": {},
   "outputs": [],
   "source": []
  }
 ],
 "metadata": {
  "kernelspec": {
   "display_name": "Python 3",
   "language": "python",
   "name": "python3"
  },
  "language_info": {
   "codemirror_mode": {
    "name": "ipython",
    "version": 3
   },
   "file_extension": ".py",
   "mimetype": "text/x-python",
   "name": "python",
   "nbconvert_exporter": "python",
   "pygments_lexer": "ipython3",
   "version": "3.6.13"
  }
 },
 "nbformat": 4,
 "nbformat_minor": 5
}
