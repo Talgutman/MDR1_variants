{
 "cells": [
  {
   "cell_type": "markdown",
   "id": "a35aba47-7864-40f6-b8df-2360da79e6ec",
   "metadata": {},
   "source": [
    "In this notebook we compare the change in MFE caused by T1236C, T2677G and T3435C to the delta MFE caused by similar, random changes to calculate an empirical p-value. \n",
    "We use the dfs of random mutations, created in the notebook \"create_MDR1_valid_mutations_dfs.ipynb\". \n",
    "\n"
   ]
  },
  {
   "cell_type": "markdown",
   "id": "6d17d732-72dc-45e6-8d4f-0b01332233f0",
   "metadata": {},
   "source": [
    "## Import"
   ]
  },
  {
   "cell_type": "code",
   "execution_count": 10,
   "id": "99b42638-d960-462c-ac12-b998c98897d4",
   "metadata": {},
   "outputs": [],
   "source": [
    "import pandas as pd\n",
    "import numpy as np\n",
    "import pickle\n",
    "from Utils_MDR1 import *\n",
    "\n"
   ]
  },
  {
   "cell_type": "markdown",
   "id": "cec3fc91-4646-49d2-9939-d7249afcad47",
   "metadata": {},
   "source": [
    "## Functions"
   ]
  },
  {
   "cell_type": "code",
   "execution_count": 11,
   "id": "1090d8f6-3e0d-4d85-941b-3237150133fd",
   "metadata": {},
   "outputs": [],
   "source": [
    "''' This function creates a single randomization, calculates the mfe of the mutated sequence and\n",
    "returns the delta mfe. \n",
    "\n",
    "* nt_CDS_mutated: the mutated CDS sequence\n",
    "* chosen_pos: the mutated position in 0-base\n",
    "* mfe_positions: the mfe_scores of the original sequence '''\n",
    "\n",
    "def get_delta_mfe_single_rand(nt_CDS_mutated: str, mfe_positions: np.array, chosen_pos: int) -> float:\n",
    "\n",
    "    ''' Calculate delta-mfe for the change'''\n",
    "    #calculate window mfe for the current version of the gene\n",
    "    mfe_windows_mutated = calc_windows_mfe(nt_CDS_mutated, 39) #calculate mfe per window\n",
    "    #calculate mfe per position for the current version of the gene\n",
    "    mfe_positions_mutated = calc_mfe_per_position(mfe_windows_mutated, 'original', 38, 39)\n",
    "\n",
    "    delta_mfe = (mfe_positions_mutated[0,chosen_pos] - mfe_positions[0,chosen_pos])\n",
    "    \n",
    "    return(delta_mfe)\n",
    "\n"
   ]
  },
  {
   "cell_type": "code",
   "execution_count": 12,
   "id": "b290bf45-2565-4cd3-a3ca-a3e2758edd53",
   "metadata": {},
   "outputs": [],
   "source": [
    "''' This function creates \"num_randomizations\" randomized sequences and calculate the delta mfe for each\n",
    "randomization '''\n",
    "def get_delta_mfes_all_rands(rand_type: str, num_randomizations: int) -> np.array:\n",
    "    \n",
    "    random_df = pd.read_pickle(f\"../Data/random_mutations_for_pvals/{rand_type}.pickle\") #contains sequences with all possible substitutions according to the selected criterion.\n",
    "    num_mutated_sequences = random_df.shape[0] #choose \"num_randomizations\" sequences from the \"num_mutated_sequences\" and calculate the delta mfe caused by each change\n",
    "    chosen_rows = np.random.choice(num_mutated_sequences, num_randomizations) #choose rows from the df randomly\n",
    "    random_df = random_df.iloc[chosen_rows] #keep only the chosen rows\n",
    "    random_delta_mfes = random_df.apply(lambda x: get_delta_mfe_single_rand(x.Sequence, mfe_positions, int(x.CDS_position_0_based)), axis = 1) #calculate the delta mfe caused by the random change\n",
    "    return(random_delta_mfes.values)\n",
    "        "
   ]
  },
  {
   "cell_type": "markdown",
   "id": "a8556ded-1cdf-48ec-9d1b-989c104af6aa",
   "metadata": {},
   "source": [
    "## Main"
   ]
  },
  {
   "cell_type": "code",
   "execution_count": 13,
   "id": "1e71c04f-628e-4924-a7f0-d60c1e76a918",
   "metadata": {},
   "outputs": [],
   "source": [
    "''' Get MDR1 CDS sequence'''\n",
    "gene = 'ENSG00000085563' #MDR1/ABCB1 gene\n",
    "genes_dict = pd.read_pickle(f\"../Data/cdna_{gene}.pickle.gz\")\n",
    "nt_CDS = genes_dict['data'][0]['homologies'][0]['source']['seq'][:-3] #removing stop codon -> msa was on aas and ttanslated back, so no info on stop codons\n"
   ]
  },
  {
   "cell_type": "code",
   "execution_count": 14,
   "id": "634f257f-0b02-4c94-9a7f-e80b676a58ef",
   "metadata": {},
   "outputs": [],
   "source": [
    "''' Get the mfe scores for the original sequence '''\n",
    "mfe_windows = calc_windows_mfe(nt_CDS, 39) #calculate mfe per window\n",
    "mfe_positions = calc_mfe_per_position(mfe_windows, 'original', 38, 39) \n"
   ]
  },
  {
   "cell_type": "code",
   "execution_count": 15,
   "id": "dcdbcbcc-99b2-4414-a6c3-3d7f702fc72b",
   "metadata": {},
   "outputs": [],
   "source": [
    "''' Get the true delta mfe caused by our three positions '''\n",
    "\n",
    "positions_of_interest = [variant_info[1][\"cds_position\"] - 1, variant_info[2][\"cds_position\"] - 1, variant_info[3][\"cds_position\"] - 1] #our positions, 0-based. \n",
    "changed_to = [variant_info[1][\"change_to\"],variant_info[2][\"change_to\"],variant_info[3][\"change_to\"]] #the nucleotide changed that occured there\n",
    "\n",
    "true_delta_mfes = []\n",
    "for chosen_pos, mutation  in zip(positions_of_interest, changed_to): \n",
    "    nt_CDS_mutated = mutate_cds_sequence(nt_CDS, chosen_pos + 1, mutation)\n",
    "    #calculate window mfe for the current version of the gene\n",
    "    mfe_windows_mutated = calc_windows_mfe(nt_CDS_mutated, 39) #calculate mfe per window\n",
    "    #calculate mfe per position for the current version of the gene\n",
    "    mfe_positions_mutated = calc_mfe_per_position(mfe_windows_mutated, 'original', 38, 39)\n",
    "    delta_mfe = mfe_positions_mutated[0,chosen_pos] - mfe_positions[0,chosen_pos]\n",
    "    \n",
    "    true_delta_mfes.append(delta_mfe)\n",
    "    \n",
    "delta_T1236C, delta_T2677G, delta_T3435C = true_delta_mfes\n"
   ]
  },
  {
   "cell_type": "code",
   "execution_count": 13,
   "id": "dca5df45-f5bf-4fd1-8c8a-51ff347c2649",
   "metadata": {},
   "outputs": [],
   "source": [
    "''' Get the delta mfes caused by 100 random synonymous T->C variants (to compare with T1236C, T3435C) '''\n",
    "\n",
    "num_randomizations = 100\n",
    "rand_type = \"synonymous_T2C\"\n",
    "random_deltas = get_delta_mfes_all_rands(rand_type, num_randomizations)\n",
    "with open(f\"../Results/mfe/delta_mfe/random_delta_mfe_{rand_type}.pickle\",'wb') as f:\n",
    "    pickle.dump(random_deltas, f)\n"
   ]
  },
  {
   "cell_type": "code",
   "execution_count": 16,
   "id": "4ec57b25-e648-4b0a-8060-8cceb08ca938",
   "metadata": {},
   "outputs": [],
   "source": [
    "''' Get the delta mfes caused by 100 random non-synonymous T->G variants (to compare with T2677G) '''\n",
    "\n",
    "num_randomizations = 100\n",
    "rand_type = \"nonsynonymous_T2G\"\n",
    "random_deltas = get_delta_mfes_all_rands(rand_type, num_randomizations)\n",
    "with open(f\"../Results/mfe/delta_mfe/random_delta_mfe_{rand_type}.pickle\",'wb') as f:\n",
    "    pickle.dump(random_deltas, f)\n"
   ]
  },
  {
   "cell_type": "code",
   "execution_count": null,
   "id": "7fc4fe76-abfb-495d-9bd9-6892439e4b6e",
   "metadata": {},
   "outputs": [],
   "source": [
    "''' Calculate the p-values for each mutation ''' "
   ]
  },
  {
   "cell_type": "code",
   "execution_count": 49,
   "id": "a81b0929-9225-454c-9c51-462d67e71e1b",
   "metadata": {},
   "outputs": [],
   "source": [
    "# T1236C\n",
    "rand_type = \"synonymous_T2C\"\n",
    "random_deltas = pd.read_pickle(f\"../Results/mfe/delta_mfe/random_delta_mfe_{rand_type}.pickle\")\n",
    "\n",
    "pval_1236 = get_pvalue(delta_T1236C, random_deltas)\n",
    "with open(f\"../Results/mfe/delta_mfe/pval_T1236C.pickle\",'wb') as f:\n",
    "    pickle.dump(pval_1236, f)\n",
    "\n"
   ]
  },
  {
   "cell_type": "code",
   "execution_count": 50,
   "id": "562de459-bb4b-4bd3-9c7e-4be1adae6d54",
   "metadata": {},
   "outputs": [
    {
     "data": {
      "text/plain": [
       "0.010000000000000009"
      ]
     },
     "execution_count": 50,
     "metadata": {},
     "output_type": "execute_result"
    }
   ],
   "source": [
    "pval_1236"
   ]
  },
  {
   "cell_type": "code",
   "execution_count": 17,
   "id": "03e25de9-a8df-4320-a3f4-171d5b6b7f13",
   "metadata": {},
   "outputs": [],
   "source": [
    "# T2677G\n",
    "rand_type = \"nonsynonymous_T2G\"\n",
    "random_deltas = pd.read_pickle(f\"../Results/mfe/delta_mfe/random_delta_mfe_{rand_type}.pickle\")\n",
    "\n",
    "pval_2677 = get_pvalue(delta_T2677G, random_deltas)\n",
    "with open(f\"../Results/mfe/delta_mfe/pval_T2677G.pickle\",'wb') as f:\n",
    "    pickle.dump(pval_2677, f)\n"
   ]
  },
  {
   "cell_type": "code",
   "execution_count": 18,
   "id": "0ff7f227-4dc5-479c-8e62-67b1a23fbf8b",
   "metadata": {},
   "outputs": [
    {
     "data": {
      "text/plain": [
       "0.020000000000000018"
      ]
     },
     "execution_count": 18,
     "metadata": {},
     "output_type": "execute_result"
    }
   ],
   "source": [
    "pval_2677"
   ]
  },
  {
   "cell_type": "code",
   "execution_count": 53,
   "id": "477fe0aa-a6c9-4c69-8c89-0bfc27d14e39",
   "metadata": {},
   "outputs": [],
   "source": [
    "# T3435C\n",
    "rand_type = \"synonymous_T2C\"\n",
    "random_deltas = pd.read_pickle(f\"../Results/mfe/delta_mfe/random_delta_mfe_{rand_type}.pickle\")\n",
    "\n",
    "pval_3435 = get_pvalue(delta_T3435C, random_deltas)\n",
    "with open(f\"../Results/mfe/delta_mfe/pval_T3435C.pickle\",'wb') as f:\n",
    "    pickle.dump(pval_3435, f)\n"
   ]
  },
  {
   "cell_type": "code",
   "execution_count": 54,
   "id": "8caa9c81-6b45-4d20-97b1-4eb670eb1bbc",
   "metadata": {},
   "outputs": [
    {
     "data": {
      "text/plain": [
       "0.040000000000000036"
      ]
     },
     "execution_count": 54,
     "metadata": {},
     "output_type": "execute_result"
    }
   ],
   "source": [
    "pval_3435"
   ]
  },
  {
   "cell_type": "code",
   "execution_count": null,
   "id": "d9fc4dc2-78d7-4fc4-90f4-11a7a0466b90",
   "metadata": {},
   "outputs": [],
   "source": []
  }
 ],
 "metadata": {
  "kernelspec": {
   "display_name": "Python 3",
   "language": "python",
   "name": "python3"
  },
  "language_info": {
   "codemirror_mode": {
    "name": "ipython",
    "version": 3
   },
   "file_extension": ".py",
   "mimetype": "text/x-python",
   "name": "python",
   "nbconvert_exporter": "python",
   "pygments_lexer": "ipython3",
   "version": "3.6.13"
  }
 },
 "nbformat": 4,
 "nbformat_minor": 5
}
