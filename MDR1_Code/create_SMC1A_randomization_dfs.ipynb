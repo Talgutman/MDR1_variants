{
 "cells": [
  {
   "cell_type": "markdown",
   "id": "200b02fa-6837-48e7-9778-736759b65659",
   "metadata": {},
   "source": [
    "We have the ITGA2 example in the MDR1 paper. Here we create random synonymous G->T changes in this gene to \n",
    "compare how significant is the actuall mfe change caused by the real variant. "
   ]
  },
  {
   "cell_type": "markdown",
   "id": "96057252-a5c4-4a6e-b8f7-bfb3940d2ec1",
   "metadata": {},
   "source": [
    "## Imports"
   ]
  },
  {
   "cell_type": "code",
   "execution_count": 1,
   "id": "641c2693-1eee-46c0-a1ae-7854cd764ea0",
   "metadata": {},
   "outputs": [],
   "source": [
    "import pandas as pd\n",
    "from Utils_MDR1 import *"
   ]
  },
  {
   "cell_type": "markdown",
   "id": "bf76a740-d7ec-42c1-8214-a0ae36e43388",
   "metadata": {},
   "source": [
    "## Main"
   ]
  },
  {
   "cell_type": "markdown",
   "id": "95a63a5c-d441-4527-b314-d9239b60c97d",
   "metadata": {},
   "source": [
    "## NM_006306.4(SMC1A):c.1923G>A (p.Leu641=)"
   ]
  },
  {
   "cell_type": "markdown",
   "id": "57caa111-187c-4262-893f-73abd026cd71",
   "metadata": {},
   "source": [
    "Let's get information that is relevant to multiple dfs / all dfs, such as the nucleotide MDR1 sequence, the synonumous substitutiuon matrix of MDR1, the TCGA mutations of MDR1 and the conserved regions.  "
   ]
  },
  {
   "cell_type": "code",
   "execution_count": 2,
   "id": "4525146c-fbac-489c-995a-888d9863477f",
   "metadata": {},
   "outputs": [],
   "source": [
    "''' Get  CDS sequence '''\n",
    "gene = 'ENSG00000072501' \n",
    "genes_dict = pd.read_pickle(f\"../Data/cdna_{gene}.pickle.gz\")\n",
    "nt_CDS = genes_dict['data'][0]['homologies'][0]['source']['seq'][:-3] #removing stop codon -> msa was on aas and ttanslated back, so no info on stop codons"
   ]
  },
  {
   "cell_type": "code",
   "execution_count": null,
   "id": "79e2f260",
   "metadata": {},
   "outputs": [],
   "source": [
    "''' get a binary table of shape (4, gene_length) indicating the possible synonymous substitutions of each\n",
    "position in the gene. Each row coresponds to a nucleotide in the dna alphabet, sorted alphabetically. \n",
    "For example, if we have \"1\" in position [2,300] it means that changing the nucleotide in position 300 to a \n",
    "\"G\" would result in a synonymous substitution. '''\n",
    "\n",
    "possible_syn_replacements_for_gene = get_possib_syn_sub_per_positon(nt_CDS ,codons_syn_maps_dict)"
   ]
  },
  {
   "cell_type": "code",
   "execution_count": 4,
   "id": "ff2c8769-ed16-4ee2-903b-2ae60d6cb79f",
   "metadata": {},
   "outputs": [],
   "source": [
    "''' Get the dictionary from cds relative position to chromosome relative position '''\n",
    "\n",
    "mapping_dict = pd.read_pickle(\"../Data/AllGenes/cds_to_chrom_dict_with_protein_id.pickle\")\n",
    "gene_to_protein_dict = pd.read_pickle(\"../Data/AllGenes/gene_protein_dict.pickle\")\n",
    "#get the mapping of our specific gene\n",
    "protein_id = gene_to_protein_dict[gene]\n",
    "mapping_cur_gene = mapping_dict[gene,protein_id]\n"
   ]
  },
  {
   "cell_type": "markdown",
   "id": "9ff0c3ad-fb76-44a4-a8bc-73575d26716e",
   "metadata": {},
   "source": [
    "## (1) A df with positions of all possible G->A synonymous mutations"
   ]
  },
  {
   "cell_type": "code",
   "execution_count": 7,
   "id": "dbcf1efc-bf1f-4553-bc75-47437cec1cae",
   "metadata": {},
   "outputs": [],
   "source": [
    "''' Get the pool of possible synonymous changes of G->A in SMC1A''' \n",
    "\n",
    "changed_from = \"G\"\n",
    "change_to = \"A\"\n",
    "\n",
    "pos_G_nuc = [position for position, nucleotide in enumerate(nt_CDS) if nucleotide == changed_from] #positions of \"G\" nucleotide\n",
    "pos_can_change_to_A = np.where(possible_syn_replacements_for_gene[nucs_dict[change_to],:] == 1)[0] #positions that can be *synonymously* changed to T\n",
    "positions_pool = [pos for pos in pos_G_nuc if pos in pos_can_change_to_A] #the intersection is our pool to choose from\n"
   ]
  },
  {
   "cell_type": "code",
   "execution_count": 8,
   "id": "33044a93-aed6-45b5-8e0e-0882c64cb807",
   "metadata": {},
   "outputs": [
    {
     "data": {
      "text/plain": [
       "457"
      ]
     },
     "execution_count": 8,
     "metadata": {},
     "output_type": "execute_result"
    }
   ],
   "source": [
    "len(positions_pool)"
   ]
  },
  {
   "cell_type": "code",
   "execution_count": 10,
   "id": "b9300ba6-77d4-4167-9647-20491f6402ec",
   "metadata": {},
   "outputs": [
    {
     "name": "stdout",
     "output_type": "stream",
     "text": [
      "There are 457 possible synonymous G->A substitutions in the SMC1A gene\n"
     ]
    },
    {
     "data": {
      "text/html": [
       "<div>\n",
       "<style scoped>\n",
       "    .dataframe tbody tr th:only-of-type {\n",
       "        vertical-align: middle;\n",
       "    }\n",
       "\n",
       "    .dataframe tbody tr th {\n",
       "        vertical-align: top;\n",
       "    }\n",
       "\n",
       "    .dataframe thead th {\n",
       "        text-align: right;\n",
       "    }\n",
       "</style>\n",
       "<table border=\"1\" class=\"dataframe\">\n",
       "  <thead>\n",
       "    <tr style=\"text-align: right;\">\n",
       "      <th></th>\n",
       "      <th>CDS_position_0_based</th>\n",
       "      <th>Chromosome_position_1_based</th>\n",
       "      <th>Sequence</th>\n",
       "      <th>Changed_from</th>\n",
       "      <th>Changed_to</th>\n",
       "    </tr>\n",
       "  </thead>\n",
       "  <tbody>\n",
       "    <tr>\n",
       "      <th>0</th>\n",
       "      <td>5</td>\n",
       "      <td>53422595</td>\n",
       "      <td>ATGGGATTCCTGAAACTGATTGAGATTGAGAACTTTAAGTCGTACA...</td>\n",
       "      <td>G</td>\n",
       "      <td>A</td>\n",
       "    </tr>\n",
       "    <tr>\n",
       "      <th>1</th>\n",
       "      <td>11</td>\n",
       "      <td>53422589</td>\n",
       "      <td>ATGGGGTTCCTAAAACTGATTGAGATTGAGAACTTTAAGTCGTACA...</td>\n",
       "      <td>G</td>\n",
       "      <td>A</td>\n",
       "    </tr>\n",
       "    <tr>\n",
       "      <th>2</th>\n",
       "      <td>17</td>\n",
       "      <td>53422583</td>\n",
       "      <td>ATGGGGTTCCTGAAACTAATTGAGATTGAGAACTTTAAGTCGTACA...</td>\n",
       "      <td>G</td>\n",
       "      <td>A</td>\n",
       "    </tr>\n",
       "    <tr>\n",
       "      <th>3</th>\n",
       "      <td>23</td>\n",
       "      <td>53422577</td>\n",
       "      <td>ATGGGGTTCCTGAAACTGATTGAAATTGAGAACTTTAAGTCGTACA...</td>\n",
       "      <td>G</td>\n",
       "      <td>A</td>\n",
       "    </tr>\n",
       "    <tr>\n",
       "      <th>4</th>\n",
       "      <td>29</td>\n",
       "      <td>53422571</td>\n",
       "      <td>ATGGGGTTCCTGAAACTGATTGAGATTGAAAACTTTAAGTCGTACA...</td>\n",
       "      <td>G</td>\n",
       "      <td>A</td>\n",
       "    </tr>\n",
       "  </tbody>\n",
       "</table>\n",
       "</div>"
      ],
      "text/plain": [
       "   CDS_position_0_based  Chromosome_position_1_based  \\\n",
       "0                     5                     53422595   \n",
       "1                    11                     53422589   \n",
       "2                    17                     53422583   \n",
       "3                    23                     53422577   \n",
       "4                    29                     53422571   \n",
       "\n",
       "                                            Sequence Changed_from Changed_to  \n",
       "0  ATGGGATTCCTGAAACTGATTGAGATTGAGAACTTTAAGTCGTACA...            G          A  \n",
       "1  ATGGGGTTCCTAAAACTGATTGAGATTGAGAACTTTAAGTCGTACA...            G          A  \n",
       "2  ATGGGGTTCCTGAAACTAATTGAGATTGAGAACTTTAAGTCGTACA...            G          A  \n",
       "3  ATGGGGTTCCTGAAACTGATTGAAATTGAGAACTTTAAGTCGTACA...            G          A  \n",
       "4  ATGGGGTTCCTGAAACTGATTGAGATTGAAAACTTTAAGTCGTACA...            G          A  "
      ]
     },
     "metadata": {},
     "output_type": "display_data"
    }
   ],
   "source": [
    "''' Create a df with the position (cds relative and chromosome relative, and with the subsequent mutated sequence '''\n",
    "\n",
    "df_syn_G_A = pd.DataFrame()\n",
    "df_syn_G_A[\"CDS_position_0_based\"] = positions_pool\n",
    "df_syn_G_A[\"Chromosome_position_1_based\"] = df_syn_G_A[\"CDS_position_0_based\"].apply(lambda x: mapping_cur_gene[x] + 1)\n",
    "df_syn_G_A[\"Sequence\"] = df_syn_G_A.apply(lambda x: mutate_cds_sequence(sequence = nt_CDS, position = x.CDS_position_0_based + 1, change_to = change_to), axis = 1)\n",
    "df_syn_G_A[\"Changed_from\"] = changed_from #strand sensitive\n",
    "df_syn_G_A[\"Changed_to\"] = change_to #strand sensitive\n",
    "print(f\"There are {df_syn_G_A.shape[0]} possible synonymous G->A substitutions in the SMC1A gene\")\n",
    "display(df_syn_G_A.head())"
   ]
  },
  {
   "cell_type": "code",
   "execution_count": 11,
   "id": "646d87d6-47a3-4a21-9144-889130309d72",
   "metadata": {},
   "outputs": [],
   "source": [
    "to_remove = [1923 - 1] #the CDS position of the variant\n",
    "df_syn_G_A = df_syn_G_A[~df_syn_G_A[\"CDS_position_0_based\"].isin(to_remove)]"
   ]
  },
  {
   "cell_type": "code",
   "execution_count": 13,
   "id": "bc9cd6f4-802e-4de5-9a5b-739197ff37bc",
   "metadata": {},
   "outputs": [],
   "source": [
    "'''Save to pickle'''\n",
    "df_syn_G_A.to_pickle(\"../Results/SMC1A/synonymous_G2A_SMC1A.pickle\")\n"
   ]
  },
  {
   "cell_type": "code",
   "execution_count": null,
   "id": "68780e02-5a94-4570-a1e1-43f96024e59f",
   "metadata": {},
   "outputs": [],
   "source": []
  }
 ],
 "metadata": {
  "kernelspec": {
   "display_name": "Python 3",
   "language": "python",
   "name": "python3"
  },
  "language_info": {
   "codemirror_mode": {
    "name": "ipython",
    "version": 3
   },
   "file_extension": ".py",
   "mimetype": "text/x-python",
   "name": "python",
   "nbconvert_exporter": "python",
   "pygments_lexer": "ipython3",
   "version": "3.6.13"
  }
 },
 "nbformat": 4,
 "nbformat_minor": 5
}
