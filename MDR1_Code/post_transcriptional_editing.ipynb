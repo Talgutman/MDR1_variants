{
 "cells": [
  {
   "cell_type": "markdown",
   "id": "20a7fa78-96f9-49ab-9f14-db285d4bb1f0",
   "metadata": {},
   "source": [
    "Post-transcriptional editing, such as A-to-I changes and methylation can be affected by the variants' effect on the mRNA secondary structure. \n",
    "In this notebook we check whether T1236C, T2677G or T3435C are predicted to change A-to-I sites, m6A methylation sites or RNA binding protein binding sites. \n"
   ]
  },
  {
   "cell_type": "code",
   "execution_count": 2,
   "id": "9e22df2a-cec3-48d5-8f9b-94131e05384b",
   "metadata": {},
   "outputs": [],
   "source": [
    "import pandas as pd\n",
    "import numpy as np\n",
    "from Utils_MDR1 import mutate_cds_sequence, reverse_complement\n",
    "from Bio import SeqIO\n"
   ]
  },
  {
   "cell_type": "markdown",
   "id": "3a8be638-1794-487d-b95c-6bc5772614fe",
   "metadata": {
    "tags": []
   },
   "source": [
    "## Functions"
   ]
  },
  {
   "cell_type": "code",
   "execution_count": 3,
   "id": "921cc227-4b42-451d-9006-412b90de6c89",
   "metadata": {},
   "outputs": [],
   "source": [
    "''' Extract a part of a sequence from a fasta file '''\n",
    "\n",
    "def extract_sequence(fasta_file: str, start: int, end:int) -> str:\n",
    "    for record in SeqIO.parse(fasta_file, \"fasta\"):\n",
    "        return str(record.seq[start-1:end])\n",
    "    return None\n"
   ]
  },
  {
   "cell_type": "markdown",
   "id": "60c0e883-d95c-4f0b-ad8c-5b8bc2794f82",
   "metadata": {},
   "source": [
    "## Predict A-to-I sites with AIRliner (http://alpha.dmi.unict.it/airliner/)"
   ]
  },
  {
   "cell_type": "code",
   "execution_count": 5,
   "id": "d4d9f189-6732-4589-8d47-a58e0b7498af",
   "metadata": {},
   "outputs": [],
   "source": [
    "''' Get the reference sequence '''\n",
    "\n",
    "fasta_file_chr7 = \"../Data/Genomes/Human/human_hg38/Chromosome/Homo_sapiens.GRCh38.dna_sm.chromosome.7.fa\"\n",
    "transcript_start = 87503859 #obtained from biomart for transcript ENST00000265724\n",
    "transcript_end = 87713323 #obtained from biomart for transcript ENST00000265724\n",
    "\n",
    "pre_mrna = extract_sequence(fasta_file_chr7, transcript_start, transcript_end) #extracting the pre-mRNA of MDR1 from chr 7"
   ]
  },
  {
   "cell_type": "code",
   "execution_count": 6,
   "id": "740f8ae0-c902-4bd1-8c18-ee069e471ce1",
   "metadata": {},
   "outputs": [],
   "source": [
    "''' Create the mutated sequences '''\n",
    "\n",
    "transcript_len = transcript_end - transcript_start + 1\n",
    "assert(transcript_len == len(pre_mrna))\n",
    "\n",
    "#grch38 variant positions\n",
    "pos_1236 = 87550285\n",
    "pos_2677 = 87541302\n",
    "pos_3435 = 87509329\n",
    "\n",
    "transcript_pos_1236 = pos_1236 - transcript_start\n",
    "transcript_pos_2677 = pos_2677 - transcript_start\n",
    "transcript_pos_3435 = pos_3435 - transcript_start\n",
    "\n",
    "assert(pre_mrna[transcript_pos_1236] == \"A\") # A on the forward is T on the reverse\n",
    "assert(pre_mrna[transcript_pos_2677] == \"A\") # A on the forward is T on the reverse\n",
    "assert(pre_mrna[transcript_pos_3435] == \"A\") # A on the forward is T on the reverse\n",
    "\n",
    "margin = 50  #margin around the mutations\n",
    "\n",
    "#T1236C\n",
    "change_to = \"G\" #G on forward - > C on reverse\n",
    "mut_1236 = mutate_cds_sequence(pre_mrna, transcript_pos_1236 + 1, change_to)\n",
    "mut_1236 = mut_1236[transcript_pos_1236 - margin: transcript_pos_1236 + margin + 1]\n",
    "ref_1236 = pre_mrna[transcript_pos_1236 - margin: transcript_pos_1236 + margin + 1]\n",
    "\n",
    "#T2677G\n",
    "change_to = \"C\" #C on forward - > G on reverse\n",
    "mut_2677 = mutate_cds_sequence(pre_mrna, transcript_pos_2677 + 1, change_to)\n",
    "mut_2677 = mut_2677[transcript_pos_2677 - margin: transcript_pos_2677 + margin + 1]\n",
    "ref_2677 = pre_mrna[transcript_pos_2677 - margin: transcript_pos_2677 + margin + 1]\n",
    "\n",
    "#T3435C\n",
    "change_to = \"G\" #G on forward - > C on reverse\n",
    "mut_3435 = mutate_cds_sequence(pre_mrna, transcript_pos_3435 + 1, change_to)\n",
    "mut_3435 = mut_3435[transcript_pos_3435 - margin: transcript_pos_3435 + margin + 1]\n",
    "ref_3435 = pre_mrna[transcript_pos_3435 - margin: transcript_pos_3435 + margin + 1]\n"
   ]
  },
  {
   "cell_type": "code",
   "execution_count": 7,
   "id": "aa60eb4a-37d4-46ce-bf5a-1aca41f7409c",
   "metadata": {},
   "outputs": [],
   "source": [
    "''' Preprocess to fit the Airliner predictor ''' \n",
    "\n",
    "# reverse complement and transcribe\n",
    "ref_1236 = reverse_complement(ref_1236).replace(\"T\", \"U\").upper()\n",
    "mut_1236 = reverse_complement(mut_1236).replace(\"T\", \"U\").upper()\n",
    "ref_2677 = reverse_complement(ref_2677).replace(\"T\", \"U\").upper()\n",
    "mut_2677 = reverse_complement(mut_2677).replace(\"T\", \"U\").upper()\n",
    "ref_3435 = reverse_complement(ref_3435).replace(\"T\", \"U\").upper()\n",
    "mut_3435 = reverse_complement(mut_3435).replace(\"T\", \"U\").upper()\n"
   ]
  },
  {
   "cell_type": "code",
   "execution_count": 8,
   "id": "c1452744-53eb-4f31-8d87-f58c85fe3faa",
   "metadata": {},
   "outputs": [],
   "source": [
    "''' \n",
    "We used the web interface to run the model on all 6 sequences (ref and mut for the three variants)\n",
    "and downloaded the results. Now we will analyze the predictions\n",
    "'''\n",
    "\n",
    "preds_ref_1236 = pd.read_csv(\"../Results/post_transcriptional_modifications/Airliner/ref_1236_output.csv\", sep = \",\")\n",
    "preds_ref_1236 = preds_ref_1236.reset_index()\n",
    "preds_ref_1236 = preds_ref_1236.rename(columns={\"level_0\": \"index_of_A\", \"level_1\": \"site_probability\", \">Ref_1236_ENST00000265724\": \"flanks\"})\n",
    "\n",
    "preds_mut_1236 = pd.read_csv(\"../Results/post_transcriptional_modifications/Airliner/mut_1236_output.csv\", sep = \",\")\n",
    "preds_mut_1236 = preds_mut_1236.reset_index()\n",
    "preds_mut_1236 = preds_mut_1236.rename(columns={\"level_0\": \"index_of_A\", \"level_1\": \"site_probability\", \">Mutant_1236_ENST00000265724\": \"flanks\"})\n",
    "\n"
   ]
  },
  {
   "cell_type": "markdown",
   "id": "b52402fc-857b-45c2-ace0-79880c49e7b5",
   "metadata": {},
   "source": [
    "### T1236C"
   ]
  },
  {
   "cell_type": "code",
   "execution_count": 9,
   "id": "d54cb3fe-2408-416d-8713-dad4f42a794a",
   "metadata": {},
   "outputs": [],
   "source": [
    "delta = preds_mut_1236[\"site_probability\"] - preds_ref_1236[\"site_probability\"]"
   ]
  },
  {
   "cell_type": "code",
   "execution_count": 11,
   "id": "336d2533-df94-4390-ba0e-31f7ff9ce381",
   "metadata": {},
   "outputs": [
    {
     "data": {
      "text/plain": [
       "0.05955388068651901"
      ]
     },
     "execution_count": 11,
     "metadata": {},
     "output_type": "execute_result"
    }
   ],
   "source": [
    "delta[163]"
   ]
  },
  {
   "cell_type": "markdown",
   "id": "e90fb3e1-3444-47f5-9284-7fe4c2168018",
   "metadata": {},
   "source": [
    "### T2677G"
   ]
  },
  {
   "cell_type": "code",
   "execution_count": 15,
   "id": "e89404b4-ed0d-4d9f-922e-140dc87acb5e",
   "metadata": {},
   "outputs": [],
   "source": [
    "preds_ref_2677 = pd.read_csv(\"../Results/post_transcriptional_modifications/Airliner/ref_2677_output.csv\", sep = \",\")\n",
    "preds_ref_2677 = preds_ref_2677.reset_index()\n",
    "preds_ref_2677 = preds_ref_2677.rename(columns={\"level_0\": \"index_of_A\", \"level_1\": \"site_probability\", \">Ref_2677_ENST00000265724\": \"flanks\"})\n",
    "\n",
    "preds_mut_2677 = pd.read_csv(\"../Results/post_transcriptional_modifications/Airliner/mut_2677_output.csv\", sep = \",\")\n",
    "preds_mut_2677 = preds_mut_2677.reset_index()\n",
    "preds_mut_2677 = preds_mut_2677.rename(columns={\"level_0\": \"index_of_A\", \"level_1\": \"site_probability\", \">Mutant_2677_ENST00000265724\": \"flanks\"})\n",
    "\n"
   ]
  },
  {
   "cell_type": "code",
   "execution_count": 16,
   "id": "006e0c6a-eaa8-4709-b2aa-9b9e8ed80e0f",
   "metadata": {},
   "outputs": [],
   "source": [
    "delta = preds_ref_2677[\"site_probability\"] - preds_mut_2677[\"site_probability\"]"
   ]
  },
  {
   "cell_type": "code",
   "execution_count": 17,
   "id": "05252794-33fb-4bd7-8c0d-234987d0f3a1",
   "metadata": {},
   "outputs": [
    {
     "data": {
      "text/plain": [
       "152"
      ]
     },
     "execution_count": 17,
     "metadata": {},
     "output_type": "execute_result"
    }
   ],
   "source": [
    "np.argmax(delta)"
   ]
  },
  {
   "cell_type": "code",
   "execution_count": 18,
   "id": "f115f829-fda7-4f00-8a24-e18e0caafa37",
   "metadata": {},
   "outputs": [
    {
     "data": {
      "text/plain": [
       "0.005096134843388889"
      ]
     },
     "execution_count": 18,
     "metadata": {},
     "output_type": "execute_result"
    }
   ],
   "source": [
    "delta[152]"
   ]
  },
  {
   "cell_type": "code",
   "execution_count": 20,
   "id": "68d32679-9808-47db-9714-3c8639d5e7e0",
   "metadata": {},
   "outputs": [],
   "source": [
    "preds_ref_3435 = pd.read_csv(\"../Results/post_transcriptional_modifications/Airliner/ref_3435_output.csv\", sep = \",\")\n",
    "preds_ref_3435 = preds_ref_3435.reset_index()\n",
    "preds_ref_3435 = preds_ref_3435.rename(columns={\"level_0\": \"index_of_A\", \"level_1\": \"site_probability\", \">Ref_3435_ENST00000265724\": \"flanks\"})\n",
    "\n",
    "preds_mut_3435 = pd.read_csv(\"../Results/post_transcriptional_modifications/Airliner/mut_3435_output.csv\", sep = \",\")\n",
    "preds_mut_3435 = preds_mut_3435.reset_index()\n",
    "preds_mut_3435 = preds_mut_3435.rename(columns={\"level_0\": \"index_of_A\", \"level_1\": \"site_probability\", \">Mutant_3435_ENST00000265724\": \"flanks\"})\n",
    "\n"
   ]
  },
  {
   "cell_type": "code",
   "execution_count": 21,
   "id": "81b041d5-42dc-4a78-ba4c-a88fbfab3e1f",
   "metadata": {},
   "outputs": [],
   "source": [
    "delta = preds_ref_3435[\"site_probability\"] - preds_mut_3435[\"site_probability\"]"
   ]
  },
  {
   "cell_type": "code",
   "execution_count": 22,
   "id": "2f7ff73d-6195-4a14-8aa8-30ebb40e7d22",
   "metadata": {},
   "outputs": [
    {
     "data": {
      "text/plain": [
       "0.01608705706229796"
      ]
     },
     "execution_count": 22,
     "metadata": {},
     "output_type": "execute_result"
    }
   ],
   "source": [
    "delta[np.argmax(delta)]"
   ]
  },
  {
   "cell_type": "markdown",
   "id": "0a06e213-1ab5-4fb3-baad-1f3a16605ea9",
   "metadata": {},
   "source": [
    "We see that the larget change is ~5%, which is not very high. we can conclude that it is not likely to effect A2I sites. "
   ]
  },
  {
   "cell_type": "markdown",
   "id": "8b588090-3115-43b7-9cc0-3eb3b3538515",
   "metadata": {},
   "source": [
    "## Find whether there is a change in ribosome binding protein sites\n",
    "A sequence of 101 nts surrounding the variant was the input to the catRAPID omics web-tool (http://service.tartaglialab.com/page/catrapid_group)"
   ]
  },
  {
   "cell_type": "markdown",
   "id": "f7192667-3bc4-450a-9ac8-bf1911f89f96",
   "metadata": {},
   "source": [
    "### Analyze the results\n",
    "\n",
    "The z-score is the normalized probability of binding of a pair of RNA-protein. \n",
    "We require a change that is larger than 1. "
   ]
  },
  {
   "cell_type": "code",
   "execution_count": 24,
   "id": "e3d0340e-b294-40c5-87ed-3a715f5fbc60",
   "metadata": {},
   "outputs": [
    {
     "data": {
      "text/plain": [
       "0"
      ]
     },
     "execution_count": 24,
     "metadata": {},
     "output_type": "execute_result"
    }
   ],
   "source": [
    "ref_1236 = pd.read_csv(\"../Results/post_transcriptional_modifications/rna_binding_proteins/catrapid_ref_1236_len101.txt\", sep = \"\\t\")\n",
    "mut_1236 = pd.read_csv(\"../Results/post_transcriptional_modifications/rna_binding_proteins/catrapid_mut_1236_len101.txt\", sep = \"\\t\")\n",
    "\n",
    "delta_zscores = mut_1236[\"Z-score\"] - ref_1236[\"Z-score\"]\n",
    "np.sum(abs(delta_zscores) > 1)"
   ]
  },
  {
   "cell_type": "code",
   "execution_count": 25,
   "id": "ea5a4954-ae62-4103-b532-052cd46436b1",
   "metadata": {},
   "outputs": [
    {
     "data": {
      "text/plain": [
       "0"
      ]
     },
     "execution_count": 25,
     "metadata": {},
     "output_type": "execute_result"
    }
   ],
   "source": [
    "ref_2677 = pd.read_csv(\"../Results/post_transcriptional_modifications/rna_binding_proteins/catrapid_ref_2677_len101.txt\", sep = \"\\t\")\n",
    "mut_2677 = pd.read_csv(\"../Results/post_transcriptional_modifications/rna_binding_proteins/catrapid_mut_2677_len101.txt\", sep = \"\\t\")\n",
    "\n",
    "delta_zscores = mut_2677[\"Z-score\"] - ref_2677[\"Z-score\"]\n",
    "np.sum(abs(delta_zscores) > 1)"
   ]
  },
  {
   "cell_type": "code",
   "execution_count": 26,
   "id": "7fb904b7-ba1b-4655-b681-6839e7a2bf9b",
   "metadata": {},
   "outputs": [
    {
     "data": {
      "text/plain": [
       "0"
      ]
     },
     "execution_count": 26,
     "metadata": {},
     "output_type": "execute_result"
    }
   ],
   "source": [
    "ref_3435 = pd.read_csv(\"../Results/post_transcriptional_modifications/rna_binding_proteins/catrapid_ref_3435_len101.txt\", sep = \"\\t\")\n",
    "mut_3435 = pd.read_csv(\"../Results/post_transcriptional_modifications/rna_binding_proteins/catrapid_mut_3435_len101.txt\", sep = \"\\t\")\n",
    "\n",
    "delta_zscores = mut_3435[\"Z-score\"] - ref_3435[\"Z-score\"]\n",
    "np.sum(abs(delta_zscores) > 1)"
   ]
  },
  {
   "cell_type": "markdown",
   "id": "6a497bda-9297-45f5-bfda-a935b3e24657",
   "metadata": {},
   "source": [
    "## Predict whether a sequence contains m6A sites (Deepm6ASeq)"
   ]
  },
  {
   "cell_type": "code",
   "execution_count": 52,
   "id": "7f0eb0b5-e038-4b2e-b9d9-dba10b384bcb",
   "metadata": {},
   "outputs": [
    {
     "name": "stdout",
     "output_type": "stream",
     "text": [
      "No changed m6A sites detected\n"
     ]
    }
   ],
   "source": [
    "ref_1236 = \"../Results/post_transcriptional_modifications/DeepM6ASeq/predictions/ref_1236_len101\"\n",
    "ref_1236 = pd.read_csv(ref_1236, header = None, sep = \"\\t\")\n",
    "ref_1236 = ref_1236.rename(columns={0: \"sequence_name\", 1: \"probability_m6A\"})\n",
    "\n",
    "mut_1236 = \"../Results/post_transcriptional_modifications/DeepM6ASeq/predictions/mut_1236_len101\"\n",
    "mut_1236 = pd.read_csv(mut_1236, header = None, sep = \"\\t\")\n",
    "mut_1236 = mut_1236.rename(columns={0: \"sequence_name\", 1: \"probability_m6A\"})\n",
    "\n",
    "res_1236 = mut_1236[\"probability_m6A\"].values[0] - ref_1236[\"probability_m6A\"].values[0] >= 0.5\n",
    "\n",
    "if res_1236:\n",
    "    print(\"There are changed m6A sites near T1236C\")\n",
    "else:\n",
    "    print(\"No changed m6A sites detected\")\n"
   ]
  },
  {
   "cell_type": "code",
   "execution_count": 55,
   "id": "77c3fb4a-a474-4bdf-8607-e8beb60487dd",
   "metadata": {},
   "outputs": [
    {
     "name": "stdout",
     "output_type": "stream",
     "text": [
      "No changed m6A sites detected\n"
     ]
    }
   ],
   "source": [
    "ref_2677= \"../Results/post_transcriptional_modifications/DeepM6ASeq/predictions/ref_2677_len101\"\n",
    "ref_2677 = pd.read_csv(ref_2677, header = None, sep = \"\\t\")\n",
    "ref_2677 = ref_2677.rename(columns={0: \"sequence_name\", 1: \"probability_m6A\"})\n",
    "\n",
    "mut_2677 = \"../Results/post_transcriptional_modifications/DeepM6ASeq/predictions/mut_2677_len101\"\n",
    "mut_2677 = pd.read_csv(mut_2677, header = None, sep = \"\\t\")\n",
    "mut_2677 = mut_2677.rename(columns={0: \"sequence_name\", 1: \"probability_m6A\"})\n",
    "\n",
    "res_2677= mut_2677[\"probability_m6A\"].values[0] - ref_2677[\"probability_m6A\"].values[0] >= 0.5\n",
    "\n",
    "if res_2677:\n",
    "    print(\"There are changed m6A sites near T2677G\")\n",
    "else:\n",
    "    print(\"No changed m6A sites detected\")\n"
   ]
  },
  {
   "cell_type": "code",
   "execution_count": 56,
   "id": "9e59d1f8-1d7d-455a-ae5f-96a4f2f11826",
   "metadata": {},
   "outputs": [
    {
     "name": "stdout",
     "output_type": "stream",
     "text": [
      "No changed m6A sites detected\n"
     ]
    }
   ],
   "source": [
    "ref_3435= \"../Results/post_transcriptional_modifications/DeepM6ASeq/predictions/ref_3435_len101\"\n",
    "ref_3435 = pd.read_csv(ref_3435, header = None, sep = \"\\t\")\n",
    "ref_3435 = ref_3435.rename(columns={0: \"sequence_name\", 1: \"probability_m6A\"})\n",
    "\n",
    "mut_3435 = \"../Results/post_transcriptional_modifications/DeepM6ASeq/predictions/mut_3435_len101\"\n",
    "mut_3435 = pd.read_csv(mut_3435, header = None, sep = \"\\t\")\n",
    "mut_3435 = mut_3435.rename(columns={0: \"sequence_name\", 1: \"probability_m6A\"})\n",
    "\n",
    "res_3435= mut_3435[\"probability_m6A\"].values[0] - ref_3435[\"probability_m6A\"].values[0] >= 0.5\n",
    "\n",
    "if res_3435:\n",
    "    print(\"There are changed m6A sites near T3435C\")\n",
    "else:\n",
    "    print(\"No changed m6A sites detected\")\n"
   ]
  },
  {
   "cell_type": "code",
   "execution_count": null,
   "id": "22960e4d-96b6-4953-b3af-74843c408a16",
   "metadata": {},
   "outputs": [],
   "source": []
  }
 ],
 "metadata": {
  "kernelspec": {
   "display_name": "Python 3",
   "language": "python",
   "name": "python3"
  },
  "language_info": {
   "codemirror_mode": {
    "name": "ipython",
    "version": 3
   },
   "file_extension": ".py",
   "mimetype": "text/x-python",
   "name": "python",
   "nbconvert_exporter": "python",
   "pygments_lexer": "ipython3",
   "version": "3.6.13"
  }
 },
 "nbformat": 4,
 "nbformat_minor": 5
}
