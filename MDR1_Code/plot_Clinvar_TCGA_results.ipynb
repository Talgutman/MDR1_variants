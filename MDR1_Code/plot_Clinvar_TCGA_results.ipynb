{
 "cells": [
  {
   "cell_type": "markdown",
   "id": "cbf333b9-e5a0-4a4c-9bdb-d0bb797f7eb5",
   "metadata": {},
   "source": [
    "In this notebook we plot the results of the analysis in \"Validation_zscores_clinvar.ipynb\"\n",
    "and \"Validation_zscores_TCGA.ipynb\" that are both under the co-trans code directory"
   ]
  },
  {
   "cell_type": "code",
   "execution_count": 10,
   "id": "af0ca752-ea33-417d-8fa2-fd028604470f",
   "metadata": {
    "tags": []
   },
   "outputs": [],
   "source": [
    "import seaborn as sns\n",
    "import matplotlib.pyplot as plt\n",
    "import pandas as pd\n"
   ]
  },
  {
   "cell_type": "code",
   "execution_count": 1,
   "id": "71ddd640-8910-4280-a1f5-8bfb6e77f263",
   "metadata": {},
   "outputs": [],
   "source": [
    "def plot_significance(p_value: float) -> str:\n",
    "    ''' \n",
    "    Defines the number of significance stars that need to be ploted above a given bar\n",
    "    '''\n",
    "    if p_value >= 10**-2:\n",
    "        sign = ''\n",
    "    elif (p_value < 10**-2) & (p_value >= 10**-10): # 10^-10<p<10^-2\n",
    "        sign = \"*\"\n",
    "    elif (p_value < 10**-10) & (p_value >= 10**-50): # 10^-50<p<10^-10\n",
    "        sign = \"**\"\n",
    "    else: # p<10^-50\n",
    "        sign = \"***\" \n",
    "        \n",
    "    return(sign)"
   ]
  },
  {
   "cell_type": "markdown",
   "id": "4c0004f3-2a1a-40f5-8316-422b95571c8c",
   "metadata": {},
   "source": [
    "## Clinvar variants - Figure 7a in the main paper"
   ]
  },
  {
   "cell_type": "code",
   "execution_count": 12,
   "id": "55d3b587-c1b1-4da0-9fcb-400c7c694fa9",
   "metadata": {},
   "outputs": [],
   "source": [
    "''' Obtain the data '''\n",
    "\n",
    "\n",
    "mfe_1 = pd.read_pickle(\"../Results/validation/ClinVar/mfe_v_z_percentile1.pickle\")\n",
    "mfe_01 = pd.read_pickle(\"../Results/validation/ClinVar/mfe_v_z_percentile0.1.pickle\")\n",
    "mfe_5 = pd.read_pickle(\"../Results/validation/ClinVar/mfe_v_z_percentile5.pickle\")\n"
   ]
  },
  {
   "cell_type": "code",
   "execution_count": 21,
   "id": "265f9ef6-f826-47d7-9380-feead5a7801f",
   "metadata": {},
   "outputs": [
    {
     "data": {
      "image/png": "[encoded data removed]",
      "text/plain": [
       "<Figure size 720x432 with 1 Axes>"
      ]
     },
     "metadata": {
      "needs_background": "light"
     },
     "output_type": "display_data"
    }
   ],
   "source": [
    "# Define the groups and corresponding data for measurements_1 and measurements_2\n",
    "groups = ['<0.1', '<1', '<5', 'All', '>95', '>99', '>99.9'] # \"for example, group \"<1\" contains the\n",
    "#variants that are in the bottom 1 percent of z-scores out of all ClinVar variants\n",
    "\n",
    "mfe_res = [mfe_01[\"ratios_df\"].loc[\"Pathogenic\", \"ratio_low\"], \n",
    "           mfe_1[\"ratios_df\"].loc[\"Pathogenic\", \"ratio_low\"], \n",
    "           mfe_5[\"ratios_df\"].loc[\"Pathogenic\", \"ratio_low\"],\n",
    "           mfe_5[\"ratios_df\"].loc[\"Pathogenic\", \"original\"],\n",
    "           mfe_5[\"ratios_df\"].loc[\"Pathogenic\", \"ratio_high\"],\n",
    "           mfe_1[\"ratios_df\"].loc[\"Pathogenic\", \"ratio_high\"],\n",
    "           mfe_01[\"ratios_df\"].loc[\"Pathogenic\", \"ratio_high\"]]\n",
    "\n",
    "mfe_res = [res*100 for res in mfe_res] #change to percentanges\n",
    "\n",
    "# Create a DataFrame for easier plotting\n",
    "df = pd.DataFrame({'Group': groups , \n",
    "                   'Measure': ['MFE'] * len(groups),\n",
    "                   'Percent of Pathogenic Mutations': mfe_res})\n",
    "\n",
    "# Sort the DataFrame based on the specified order of groups\n",
    "group_order = ['<0.1', '<1', '<5', 'All', '>95', '>99', '>99.9']\n",
    "df['Group'] = pd.Categorical(df['Group'], categories=group_order, ordered=True)\n",
    "df = df.sort_values('Group')\n",
    "\n",
    "# Plotting\n",
    "plt.figure(figsize=(10, 6))\n",
    "colors = {'MFE': 'orchid'}\n",
    "sns.barplot(x='Percent of Pathogenic Mutations', y='Group', hue='Measure', data=df, palette=colors)\n",
    "\n",
    "# Change y-axis label\n",
    "plt.ylabel('z-score Percentiles', size = 15)\n",
    "plt.xlabel('Pathogenic Mutations (%)', size = 15)\n",
    "plt.xticks(fontsize=13)  # Adjust fontsize as needed\n",
    "plt.yticks(fontsize=13)  # Adjust fontsize as needed\n",
    "\n",
    "# Remove legend\n",
    "plt.legend().set_visible(False)\n",
    "\n",
    "#significance: p<10^-2: (*), p<10^-10: (**), p<10^-50: (***). p values can be found in the variables uploaded in \n",
    "#the previous cell (''' Obtain the data ''')\n",
    "margin = 3 #distance from the end of the bar to the ploting of the significance marker\n",
    "plt.text(mfe_res[1] + margin, 1.05, plot_significance(mfe_01[\"low-p\"]), color='black', fontsize=15, ha='center', va='center')\n",
    "plt.text(mfe_res[1] + margin, 1.05, plot_significance(mfe_1[\"low-p\"]), color='black', fontsize=15, ha='center', va='center')\n",
    "plt.text(mfe_res[2] + margin, 2.05, plot_significance(mfe_5[\"low-p\"]), color='black', fontsize=15, ha='center', va='center')\n",
    "plt.text(mfe_res[4] + margin, 4.05, plot_significance(mfe_5[\"high-p\"]), color='black', fontsize=15, ha='center', va='center')\n",
    "plt.text(mfe_res[5] + margin, 5.05, plot_significance(mfe_1[\"high-p\"]), color='black', fontsize=15, ha='center', va='center')\n",
    "plt.text(mfe_res[6] + margin, 6.05, plot_significance(mfe_01[\"high-p\"]), color='black', fontsize=15, ha='center', va='center')\n",
    "\n",
    "plt.savefig('../Figures/clinvar_validation_mfe.png', dpi=300, bbox_inches='tight')\n"
   ]
  },
  {
   "cell_type": "markdown",
   "id": "56258b1b-e63e-4ca6-9a3d-03ae44fb8eea",
   "metadata": {},
   "source": [
    "## TCGA variants, using 1000G - Figure 7b in the main paper"
   ]
  },
  {
   "cell_type": "code",
   "execution_count": null,
   "id": "68a17357-baba-4a17-b08e-dc5b58f3c2b9",
   "metadata": {},
   "outputs": [],
   "source": [
    "''' Obtain the data '''\n",
    "\n",
    "mfe_1 = pd.read_pickle(\"../Results/validation/TCGA/mfe_v_z_percentile1.pickle\")\n",
    "mfe_01 = pd.read_pickle(\"../Results/validation/TCGA/mfe_v_z_percentile0.1.pickle\")\n",
    "mfe_5 = pd.read_pickle(\"../Results/validation/TCGA/mfe_v_z_percentile5.pickle\")\n"
   ]
  },
  {
   "cell_type": "code",
   "execution_count": 6,
   "id": "123c196e-9589-471c-8f25-f7f21fd6ec5d",
   "metadata": {},
   "outputs": [
    {
     "data": {
      "text/html": [
       "<div>\n",
       "<style scoped>\n",
       "    .dataframe tbody tr th:only-of-type {\n",
       "        vertical-align: middle;\n",
       "    }\n",
       "\n",
       "    .dataframe tbody tr th {\n",
       "        vertical-align: top;\n",
       "    }\n",
       "\n",
       "    .dataframe thead th {\n",
       "        text-align: right;\n",
       "    }\n",
       "</style>\n",
       "<table border=\"1\" class=\"dataframe\">\n",
       "  <thead>\n",
       "    <tr style=\"text-align: right;\">\n",
       "      <th></th>\n",
       "      <th>Original</th>\n",
       "      <th>Percentile_low</th>\n",
       "      <th>Percentile_high</th>\n",
       "    </tr>\n",
       "  </thead>\n",
       "  <tbody>\n",
       "    <tr>\n",
       "      <th>False</th>\n",
       "      <td>0.961816</td>\n",
       "      <td>0.981081</td>\n",
       "      <td>0.978619</td>\n",
       "    </tr>\n",
       "    <tr>\n",
       "      <th>True</th>\n",
       "      <td>0.038184</td>\n",
       "      <td>0.018919</td>\n",
       "      <td>0.021381</td>\n",
       "    </tr>\n",
       "  </tbody>\n",
       "</table>\n",
       "</div>"
      ],
      "text/plain": [
       "       Original  Percentile_low  Percentile_high\n",
       "False  0.961816        0.981081         0.978619\n",
       "True   0.038184        0.018919         0.021381"
      ]
     },
     "execution_count": 6,
     "metadata": {},
     "output_type": "execute_result"
    }
   ],
   "source": [
    "mfe_01[\"ratios_df\"]"
   ]
  },
  {
   "cell_type": "code",
   "execution_count": 26,
   "id": "c6e824f1-fa5d-4bc2-8f2d-d563564be54f",
   "metadata": {},
   "outputs": [
    {
     "data": {
      "image/png": "[encoded data removed]",
      "text/plain": [
       "<Figure size 720x432 with 1 Axes>"
      ]
     },
     "metadata": {
      "needs_background": "light"
     },
     "output_type": "display_data"
    }
   ],
   "source": [
    "# Define the groups and corresponding data for measurements_1 and measurements_2\n",
    "groups = ['<0.1', '<1', '<5', 'All', '>95', '>99', '>99.9']\n",
    "\n",
    "mfe_res = [mfe_01[\"ratios_df\"].loc[True, \"Percentile_low\"], \n",
    "           mfe_1[\"ratios_df\"].loc[True, \"Percentile_low\"], \n",
    "           mfe_5[\"ratios_df\"].loc[True, \"Percentile_low\"],\n",
    "           mfe_5[\"ratios_df\"].loc[True, \"Original\"],\n",
    "           mfe_5[\"ratios_df\"].loc[True, \"Percentile_high\"],\n",
    "           mfe_1[\"ratios_df\"].loc[True, \"Percentile_high\"],\n",
    "           mfe_01[\"ratios_df\"].loc[True, \"Percentile_high\"]]\n",
    "\n",
    "mfe_res = [res*100 for res in mfe_res]\n",
    "\n",
    "# Create a DataFrame for easier plotting\n",
    "df = pd.DataFrame({'Group': groups , \n",
    "                   'Measure': ['MFE'] * len(groups),\n",
    "                   'Percent of Polymorphisms': mfe_res})\n",
    "\n",
    "# Sort the DataFrame based on the specified order of groups\n",
    "group_order = ['<0.1', '<1', '<5', 'All', '>95', '>99', '>99.9']\n",
    "df['Group'] = pd.Categorical(df['Group'], categories=group_order, ordered=True)\n",
    "df = df.sort_values('Group')\n",
    "\n",
    "# Plotting\n",
    "plt.figure(figsize=(10, 6))\n",
    "colors = {'MFE': 'turquoise'}\n",
    "sns.barplot(x='Percent of Polymorphisms', y='Group', hue='Measure', data=df, palette=colors)\n",
    "\n",
    "# Change y-axis label\n",
    "plt.ylabel('z-score Percentiles', size = 15)\n",
    "plt.xlabel('Polymorphisms (%)', size = 15)\n",
    "plt.xticks(fontsize=13)  # Adjust fontsize as needed\n",
    "plt.yticks(fontsize=13)  # Adjust fontsize as needed\n",
    "\n",
    "# Remove legend\n",
    "plt.legend().set_visible(False)\n",
    "\n",
    "#significance: p<10^-2: (*), p<10^-10: (**), p<10^-50: (***). p values can be found in the variables uploaded in \n",
    "#the previous cell (''' Obtain the data ''')\n",
    "margin = 0.12 #distance from the end of the bar to the ploting of the significance marker\n",
    "plt.text(mfe_res[0] + margin, 0.08, plot_significance(mfe_01[\"p_low\"]), color='black', fontsize=15, ha='center', va='center')\n",
    "plt.text(mfe_res[1] + margin, 1.08, plot_significance(mfe_1[\"p_low\"]), color='black', fontsize=15, ha='center', va='center')\n",
    "plt.text(mfe_res[2] + margin, 2.08, plot_significance(mfe_5[\"p_low\"]), color='black', fontsize=15, ha='center', va='center')\n",
    "plt.text(mfe_res[4] + margin, 4.08, plot_significance(mfe_5[\"p_high\"]), color='black', fontsize=15, ha='center', va='center')\n",
    "plt.text(mfe_res[5] + margin, 5.08, plot_significance(mfe_1[\"p_high\"]), color='black', fontsize=15, ha='center', va='center')\n",
    "plt.text(mfe_res[6] + margin, 6.08, plot_significance(mfe_01[\"p_high\"]), color='black', fontsize=15, ha='center', va='center')\n",
    "plt.savefig('../Figures/TCGA_validation_mfe.png', dpi=300, bbox_inches='tight')\n"
   ]
  },
  {
   "cell_type": "code",
   "execution_count": null,
   "id": "39fcd768-cc2d-46c9-b7d0-bda17156f19f",
   "metadata": {},
   "outputs": [],
   "source": []
  }
 ],
 "metadata": {
  "kernelspec": {
   "display_name": "Python 3",
   "language": "python",
   "name": "python3"
  },
  "language_info": {
   "codemirror_mode": {
    "name": "ipython",
    "version": 3
   },
   "file_extension": ".py",
   "mimetype": "text/x-python",
   "name": "python",
   "nbconvert_exporter": "python",
   "pygments_lexer": "ipython3",
   "version": "3.6.13"
  }
 },
 "nbformat": 4,
 "nbformat_minor": 5
}
