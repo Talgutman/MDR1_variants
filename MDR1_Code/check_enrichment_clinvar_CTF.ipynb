{
 "cells": [
  {
   "cell_type": "markdown",
   "id": "16476154-dd64-4aac-8b38-233d4de3e836",
   "metadata": {},
   "source": [
    "We found hundreds of variants in the ClinVar database that potentially effect CTF. \n",
    "We want to see whether specific conditions are enriched for that group. \n",
    "\n",
    "\n",
    "Note: we use the openai API in this notebook. Because of enviroment incompatibilities it should be run in an enviroment compatible with openAI"
   ]
  },
  {
   "cell_type": "code",
   "execution_count": 84,
   "id": "97ebc4f9-188d-4893-b1a1-8f319a0a701e",
   "metadata": {},
   "outputs": [],
   "source": [
    "import pickle\n",
    "import pandas as pd\n",
    "import numpy as np\n",
    "import openai\n",
    "from tqdm import tqdm\n",
    "import json\n",
    "from scipy.stats import hypergeom\n",
    "import os\n"
   ]
  },
  {
   "cell_type": "code",
   "execution_count": 2,
   "id": "ad608ae2-9303-45ea-bd06-0afe0bddcc1a",
   "metadata": {},
   "outputs": [],
   "source": [
    "def merge_2dicts(dict1: dict, dict2: dict) -> dict:\n",
    "    ''' \n",
    "    This function merges two dictionaries to a single one. Combine the values to a list for overlaping keys\n",
    "    '''\n",
    "    # Merge dictionaries with values combined into a list\n",
    "    merged_dict = {}\n",
    "\n",
    "    # Update values for keys in dict1\n",
    "    for key, value in dict1.items():\n",
    "        if not isinstance(value, list):\n",
    "            value = [value]\n",
    "        dict2_value = dict2.get(key, [])\n",
    "        if not isinstance(dict2_value, list):\n",
    "            dict2_value = [dict2_value]\n",
    "        merged_dict[key] = value + dict2_value\n",
    "\n",
    "    # Update values for keys in dict2 that are not in dict1\n",
    "    for key, value in dict2.items():\n",
    "        if key not in dict1:\n",
    "            if not isinstance(value, list):\n",
    "                value = [value]\n",
    "            merged_dict[key] = value\n",
    "\n",
    "    return merged_dict"
   ]
  },
  {
   "cell_type": "code",
   "execution_count": 4,
   "id": "0a0c3642-83ca-4ecf-b6e0-b64887d946ba",
   "metadata": {},
   "outputs": [],
   "source": [
    "''' Load the ClinVar df '''\n",
    "\n",
    "clinvar_df = pd.read_pickle(\"../Data/ClinVar/ClinVar_processed_df.pickle\")\n",
    "clinvar_df = clinvar_df[~clinvar_df[\"Protein change\"].isna()].copy() #keep only CDS variants\n",
    "clinvar_df = clinvar_df[clinvar_df[\"Variant_Type\"] == \"SNP\"].copy()"
   ]
  },
  {
   "cell_type": "code",
   "execution_count": 5,
   "id": "690fa86e-b4c9-414c-94d6-7de0aded5913",
   "metadata": {},
   "outputs": [
    {
     "data": {
      "text/plain": [
       "(89465, 30)"
      ]
     },
     "execution_count": 5,
     "metadata": {},
     "output_type": "execute_result"
    }
   ],
   "source": [
    "clinvar_df.shape"
   ]
  },
  {
   "cell_type": "code",
   "execution_count": 22,
   "id": "b8cae2f5-8917-479f-a818-7d10c2db3769",
   "metadata": {},
   "outputs": [],
   "source": [
    "''' Get all unique conditions on ClinVar '''\n",
    "conditions = clinvar_df[\"Condition(s)\"].unique()\n"
   ]
  },
  {
   "cell_type": "code",
   "execution_count": 43,
   "id": "5566d392-fbfb-4a16-99fe-7b6180244ea5",
   "metadata": {},
   "outputs": [
    {
     "name": "stderr",
     "output_type": "stream",
     "text": [
      "29it [20:49, 43.08s/it]\n"
     ]
    }
   ],
   "source": [
    "''' \n",
    "We have a long list of conditions. We want to cluster them to large categories such as cancer, heart disease, mental illnesses, developmental diseases, etc. \n",
    "We use the API of chatGPT to perform this clustering \n",
    "'''\n",
    "\n",
    "classification_dict = {} #initilize results dict\n",
    "\n",
    "# Split the list into batches of 500 names for chatGPT to handle. \n",
    "batch_size = 500\n",
    "condition_batches = [conditions[i:i+batch_size] for i in range(0, len(conditions), batch_size)]\n",
    "\n",
    "# Use chatgpt4 to classify the conditions to categories\n",
    "key = os.environ[\"OPENAI_API_KEY\"]\n",
    "client = openai.OpenAI(api_key=key)\n",
    "\n",
    "#first batch\n",
    "\n",
    "completion = client.chat.completions.create(\n",
    "  model=\"gpt-4o\",\n",
    "  response_format={ \"type\": \"json_object\" },\n",
    "  messages=[\n",
    "    {\"role\": \"system\", \"content\": \"You are an experienced doctor.\"},\n",
    "    {\"role\": \"user\", \"content\": f\"I am going to send batches of medical conditions in several following messages. Classify the following medical conditions into appropriate categories. Add an 'others' category for the ones you are unsure of. Generate new categories if necessary based on the conditions listed. This is the first batch: {condition_batches[0]}. Return a json, the keys are the categories and the values are the conditions.\"}])\n",
    "\n",
    "dict_current_batch = json.loads(completion.choices[0].message.content)\n",
    "classification_dict = merge_2dicts(classification_dict, dict_current_batch)\n",
    "\n",
    "# all other batches: \n",
    "\n",
    "previous_message = completion.choices[0].message.content #the previous answer of the chat needs to be fed to it\n",
    "for num_batch, batch in tqdm(enumerate(condition_batches[1:])):\n",
    "    \n",
    "    try:\n",
    "    \n",
    "        completion = client.chat.completions.create(\n",
    "          model=\"gpt-4o\",\n",
    "          response_format={ \"type\": \"json_object\" },\n",
    "          messages=[\n",
    "            {\"role\": \"user\", \"content\": f\"Again, classify the following medical conditions into appropriate categories. Generate new categories if necessary based on the conditions listed. This is the next batch: {batch}. Return a json, the keys are the categories and the values are the conditions.\"}, \n",
    "            {\"role\": \"assistant\", \"content\": f\"This is your previous answer: {previous_message}\"}])\n",
    "\n",
    "        #save the message content to avoid running again everytime there is an issue\n",
    "        with open(f'../Results/classified_clinvar_conditions_batch{num_batch}.pickle', 'wb') as handle:\n",
    "            pickle.dump(completion.choices[0].message.content, handle)\n",
    "\n",
    "        dict_current_batch = json.loads(completion.choices[0].message.content)\n",
    "        classification_dict = merge_2dicts(classification_dict, dict_current_batch)\n",
    "    except: \n",
    "        print(f\"There was a problem with batch {num_batch}\")\n"
   ]
  },
  {
   "cell_type": "code",
   "execution_count": 46,
   "id": "f2b75670-1d84-42de-8167-de8f7a646bb2",
   "metadata": {},
   "outputs": [],
   "source": [
    "with open('../Results/classified_clinvar_conditions.pickle', 'wb') as handle:\n",
    "    pickle.dump(classification_dict, handle)\n"
   ]
  },
  {
   "cell_type": "code",
   "execution_count": 113,
   "id": "8638e642-2f06-4e92-9bf8-e632040a67ac",
   "metadata": {},
   "outputs": [],
   "source": [
    "''' Because the chat can't see the categories it created for the previous batches, each round it might created different categories with similar meanings. \n",
    "Here we cluster them as well ''' \n",
    "\n",
    "\n",
    "def merge_categories(original_dict: dict, merge_map: dict) -> dict:\n",
    "    merged_dict = {}\n",
    "\n",
    "    # Create a reverse mapping from each original category to its new category\n",
    "    reverse_merge_map = {}\n",
    "    for new_cat, old_cats in merge_map.items():\n",
    "        for old_cat in old_cats:\n",
    "            reverse_merge_map[old_cat] = new_cat\n",
    "\n",
    "    # Merge the original dictionary according to the reverse mapping\n",
    "    for category, conditions in original_dict.items():\n",
    "        new_category = reverse_merge_map.get(category, category)\n",
    "        if new_category not in merged_dict:\n",
    "            merged_dict[new_category] = []\n",
    "        merged_dict[new_category].extend(conditions)\n",
    "\n",
    "    # Remove duplicates in each category's condition list\n",
    "    for category in merged_dict:\n",
    "        merged_dict[category] = list(set(merged_dict[category]))\n",
    "\n",
    "    return merged_dict\n",
    "\n",
    "\n",
    "merge_map = {\n",
    "    \"Genetic Disorders\": [\"Epileptic Disorders\", \"Genomic Disorders\", \"Genetic Epilepsy\", \"Inborn Genetic Conditions\", \"Genetic Disorders\", \"Genetic Syndromes\", \"Genetic Polymorphisms\", \"Inborn Genetic Diseases\", \"Inborn Genetic Disorders and Syndromes\", \"Hereditary Disorders\", \"Other Genetic Disorders\", \"Genetic Eye Disorders\", \"Genetic Bone and Skeletal Disorders\", \"Genetic Conditions\", \"Genetic and Inherited Conditions\", \"Other Genetic Diseases\", \"Genetic Syndromes and Disorders\", \"Inherited Disorder\"],\n",
    "    \"Neurological Disorders\": [\"Neurological Diseases\", \"Epilepsy\", \"Muscle Disorders and Neurological Disorders\", \"Genetic Epilepsy\", \"Leukodystrophies and Neurodegenerations\", \"Epilepsies and Seizure Disorders\", \"Neurological Disorders\", \"Neurodevelopmental Disorders\", \"Neurodegenerative Disorders\", \"Neuromuscular Disorders\", \"Neurological and Cerebral Disorders\", \"Neurological and Developmental Disorders\", \"Neurodevelopmental Disorders and Syndromes\", \"Neurological/Neurodegenerative Diseases\", \"Epileptic and Seizure Disorders\", \"Epilepsy and Seizure Disorders\", \"Epilepsy-related Disorders\", \"Peripheral Neuropathies and Spastic Paraplegias\"],\n",
    "    \"Muscular Disorders\": [\"Muscle and Skeletal Disorders\", \"Muscle Disorders and Neurological Disorders\", \"Muscular Disorders\", \"Myopathies\", \"Muscle Diseases\", \"Myopathies and Muscular Disorders\", \"Neuromuscular Disorders\"],\n",
    "    \"Immunological Disorders\": [\"Autoimmune Diseases\", \"Auto Immuno Disorders\", \"Infections and Immune Disorders\", \"Immunodeficiency Disorders\", \"Immunological Disorders\", \"Autoimmune Disorders\", \"Autoimmune and Immunodeficiency Conditions\", \"Inflammatory Disorders\", \"Inflammatory and Autoimmune Diseases\", \"Immune System Disorders\", \"Immune Disorders\"],\n",
    "    \"Bone and Skeletal Disorders\": [\"Skeletal Abnormalities\", \"Connective Tissue Disorders and Syndromes\", \"Craniofacial and Skeletal Disorders\", \"Connective Tissue and Bone Disorders\", \"Bone Disorders\", \"Bone and Skeletal Disorders\", \"Bone and Joint Disorders\", \"Bone and Growth Disorders\", \"Skeletal Dysplasias\", \"Skeletal Dysplasia\", \"Skeletal Disorders\", \"Bone and Cartilage Disorders\", \"Bone and Skeletal Conditions\"],\n",
    "    \"Cardiovascular Disorders\": [\"Heart-Related Disorders\", \"Cardiological Disorders\", \"Cardiovascular Disorders\", \"Cardiovascular Conditions\", \"Cardiovascular Diseases\", \"Vascular and Cardiac Conditions\", \"Cardiac Disorders\", \"Cardiomyopathies\"],\n",
    "    \"Blood Disorders\": [\"Vascular and Blood Disorders\", \"Vascular Disorders\", \"Blood Disorders\", \"Hematological Disorders\", \"Hemoglobin Disorders\", \"Hematological Conditions\", \"Blood and Circulatory Disorders\", \"Blood and Coagulation Disorders\", \"Blood-related Disorders\", \"Bleeding and Blood Disorders\", \"Hemostatic Disorders\"],\n",
    "    \"Metabolic Disorders\": [\"Inherited Metabolic and Endocrine Disorders\", \"Metabolic Conditions\", \"Metabolic Disorders\", \"Endocrine and Metabolic Disorders\", \"Metabolic and Endocrine Disorders\", \"Endocrine and Metabolic Conditions\", \"Diabetes and Metabolic Disorders\", \"Complex Metabolic Disorders\", \"Metabolic and Mitochondrial Disorders\", \"Diseases of Protein Metabolism\"],\n",
    "    \"Ophthalmic Disorders\": [\"Ophthalmic Disorders\", \"Eye Disorders\", \"Vision Disorders\", \"Visual Disorders\", \"Visual Pathologies\", \"Corneal and Ophthalmic Disorders\", \"Vision and Eye Disorders\", \"Ocular Disorders\", \"Ocular Abnormalities\"],\n",
    "    \"Oncological Disorders\": [\"Cancer and Predisposing Syndromes\", \"Cancer\", \"Oncology\", \"Oncological Disorders\", \"Cancer-Related Disorders\", \"Cancer and Neoplastic Disorders\", \"Cancer Predisposition Syndromes\", \"Cancer Predisposition Disorders\", \"Cancer and Tumor Disorders\", \"Cancers and Tumors\", \"Cancers and Pre-Cancerous Conditions\", \"Tumors and Cancer-Related Syndromes\", \"Hereditary Cancer-Prone Disorders\", \"Cancer Disorders\", \"Cancer and Tumor Predisposition\", \"Cancer-Predisposing Syndromes\"],\n",
    "    \"Endocrinological Disorders\": [\"Inherited Metabolic and Endocrine Disorders\", \"Reproductive and Endocrine Disorders\", \"Endocrinological Disorders\", \"Endocrine Disorders\", \"Endocrine and Metabolic Disorders\", \"Endocrine and Hormonal Disorders\", \"Endocrine Disorders and Syndromes\", \"Endocrine Gland Disorders\"],\n",
    "    \"Respiratory Disorders\": [\"Respiratory Diseases\", \"Respiratory Disorders\", \"Pulmonary Conditions\", \"Respiratory Conditions\", \"Pulmonary and Immune Disorders\", \"Lung Disorders\"],\n",
    "    \"Developmental Disorders\": [\"Developmental Disorders\", \"Developmental Conditions\", \"Developmental and Intellectual Disabilities\", \"Developmental Delay\"],\n",
    "    \"Liver Disorders\": [\"Liver Disorders\", \"Digestive and Liver Disorders\", \"Liver and Metabolic Conditions\"],\n",
    "    \"Renal Disorders\": [\"Nephrological Disorders\", \"Renal Disorders\", \"Kidney Disorders\", \"Renal and Urinary Disorders\", \"Kidney and Urinary Disorders\", \"Kidney and Urinary Tract Disorders\", \"Kidney and Urological Disorders\"],\n",
    "    \"Musculoskeletal Disorders\": [\"Musculoskeletal Disorders\", \"Joint and Muscle Disorders\", \"Musculoskeletal Conditions\"],\n",
    "    \"Miscellaneous Conditions\": [\"Miscellaneous Conditions\", \"Miscellaneous Disorders\", \"Other Conditions\", \"Miscellaneous Genetic Disorders\", \"Miscellaneous Autism Spectrum Disorders\", \"Miscellaneous\"],\n",
    "    \"Congenital Syndromes\": [\"Congenital Anomalies\", \"Congenital Disorders and Syndromes\", \"Congenital Disorders\", \"Congenital Defects\"], \"Other Disorders\": [\"Not Provided\", \"Unknown\", \"Unspecified Categories\", \"Undetermined Disorders\"], \n",
    "    \"Hearing Disorders\": [\"Deafness and Hearing Disorders\", \"Hearing and Balance Disorders\", \"Syndromic Hearing Loss\", \"Hearing Loss and Sensory Disorders\", \"Hearing Loss Disorders\", \"Hearing & Balance Disorders\"],\n",
    "    \"Brain Disorders\": [\"Intellectual Disabilities and Developmental Disorders\", \"Intellectual Disability Disorders\", \"Microcephaly and Brain Structure Disorders\", \"Intellectual Disabilities and Brain Disorders\"],\n",
    "    \"Skin Disorders\":[\"Skin and Hair Conditions\", \"Dermatological Disorders\", \"Dermatological Conditions\", \"Skin Disorders\"], \"Diabetes Mellitus\": [\"Diabetes\", \"Hyperinsulinism and Hypoglycemia\"]\n",
    "}\n",
    "\n",
    "merged_dict = merge_categories(classification_dict, merge_map)\n"
   ]
  },
  {
   "cell_type": "code",
   "execution_count": 115,
   "id": "a2a9cd4d-11b8-43c8-b4b8-7de891815898",
   "metadata": {},
   "outputs": [],
   "source": [
    "with open('../Results/classified_clinvar_conditions_clustered.pickle', 'wb') as handle:\n",
    "    pickle.dump(merged_dict, handle)\n"
   ]
  },
  {
   "cell_type": "code",
   "execution_count": 116,
   "id": "2f208c95-e505-432c-9526-c9443f0a31ef",
   "metadata": {},
   "outputs": [],
   "source": [
    "''' Check for enrichments of certain categories in the extreme df relative to the entire clinvar df. \n",
    "remember to correct for FDR '''\n",
    "\n",
    "\n",
    "def check_category(row, category_conditions):\n",
    "    '''\n",
    "    Function to check if any condition from a category is in the row\n",
    "    '''\n",
    "    conditions = row['Condition(s)'].lower().split(',') #there could be more than a single condition the variant is related with\n",
    "    return any(any(cond.lower() in condition for condition in conditions) for cond in category_conditions)\n",
    "\n",
    "def count_category_occurrences(df, categories_dict):\n",
    "    '''\n",
    "    Function to count category occurrences\n",
    "    '''\n",
    "    category_counts = {}\n",
    "    \n",
    "    for category, conditions in categories_dict.items():\n",
    "        category_counts[category] = df[df['Condition(s)'].apply(lambda x: check_category(pd.Series({'Condition(s)': x}), conditions))].shape[0]\n",
    "    \n",
    "    return category_counts\n",
    "\n",
    "# Count occurrences in the entire clinvar ds\n",
    "counts_clinvar = count_category_occurrences(clinvar_df, merged_dict)\n"
   ]
  },
  {
   "cell_type": "code",
   "execution_count": 117,
   "id": "d4fafdf6-a23c-49d8-9b6c-51ae0877b91f",
   "metadata": {},
   "outputs": [],
   "source": [
    "# Count occurrences in the extreme ds\n",
    "\n",
    "extreme_df = pd.read_csv(\"../Results/clinvar_extreme_mfe.txt\")\n",
    "counts_extreme = count_category_occurrences(extreme_df, merged_dict)\n"
   ]
  },
  {
   "cell_type": "code",
   "execution_count": 118,
   "id": "6f1212c6-f1da-4178-9784-31675107a7d3",
   "metadata": {},
   "outputs": [],
   "source": [
    "#save both\n",
    "with open('../Results/counts_clinvar.pickle', 'wb') as handle:\n",
    "    pickle.dump(counts_clinvar, handle)\n",
    "\n",
    "with open('../Results/counts_extreme.pickle', 'wb') as handle:\n",
    "    pickle.dump(counts_extreme, handle)\n"
   ]
  },
  {
   "cell_type": "code",
   "execution_count": 119,
   "id": "1247c17d-52d7-403e-83be-9767b88b7880",
   "metadata": {},
   "outputs": [],
   "source": [
    "''' Check for enrichment '''\n",
    "\n",
    "enrichment_df = pd.DataFrame(columns = [\"Enrichment\", \"p-value\"])\n",
    "\n",
    "num_variants = clinvar_df.shape[0]\n",
    "num_extreme_variants = extreme_df.shape[0]\n",
    "\n",
    "for category in merged_dict.keys():\n",
    "    try:\n",
    "    \n",
    "        num_variants_in_category = counts_clinvar[category]\n",
    "        num_extreme_variants_in_category = counts_extreme[category]\n",
    "\n",
    "        enrichment = np.round((num_extreme_variants_in_category / num_extreme_variants) / (num_variants_in_category / num_variants),2)\n",
    "        p_value = hypergeom.sf(num_extreme_variants_in_category - 1, num_variants, num_variants_in_category, num_extreme_variants)\n",
    "\n",
    "        enrichment_df.loc[category, \"Enrichment\"] = enrichment\n",
    "        enrichment_df.loc[category, \"p-value\"] = p_value\n",
    "    except:\n",
    "        pass"
   ]
  },
  {
   "cell_type": "code",
   "execution_count": 125,
   "id": "b22aef5a-6a65-48d8-9cfc-36285bf0b4b6",
   "metadata": {},
   "outputs": [
    {
     "data": {
      "text/html": [
       "<div>\n",
       "<style scoped>\n",
       "    .dataframe tbody tr th:only-of-type {\n",
       "        vertical-align: middle;\n",
       "    }\n",
       "\n",
       "    .dataframe tbody tr th {\n",
       "        vertical-align: top;\n",
       "    }\n",
       "\n",
       "    .dataframe thead th {\n",
       "        text-align: right;\n",
       "    }\n",
       "</style>\n",
       "<table border=\"1\" class=\"dataframe\">\n",
       "  <thead>\n",
       "    <tr style=\"text-align: right;\">\n",
       "      <th></th>\n",
       "      <th>Enrichment</th>\n",
       "      <th>p-value</th>\n",
       "    </tr>\n",
       "  </thead>\n",
       "  <tbody>\n",
       "    <tr>\n",
       "      <th>Syndromes with Global Spectrum</th>\n",
       "      <td>4.03</td>\n",
       "      <td>0.039254</td>\n",
       "    </tr>\n",
       "    <tr>\n",
       "      <th>Systemic Disorders</th>\n",
       "      <td>22.73</td>\n",
       "      <td>0.043121</td>\n",
       "    </tr>\n",
       "    <tr>\n",
       "      <th>Congenital Syndromes</th>\n",
       "      <td>1.51</td>\n",
       "      <td>0.057444</td>\n",
       "    </tr>\n",
       "    <tr>\n",
       "      <th>Connective Tissue Disorders</th>\n",
       "      <td>1.46</td>\n",
       "      <td>0.064802</td>\n",
       "    </tr>\n",
       "    <tr>\n",
       "      <th>Cardiovascular Disorders</th>\n",
       "      <td>1.43</td>\n",
       "      <td>0.069455</td>\n",
       "    </tr>\n",
       "    <tr>\n",
       "      <th>Ceroid Lipofuscinosis</th>\n",
       "      <td>12.99</td>\n",
       "      <td>0.074241</td>\n",
       "    </tr>\n",
       "    <tr>\n",
       "      <th>Immunological Disorders</th>\n",
       "      <td>1.67</td>\n",
       "      <td>0.081501</td>\n",
       "    </tr>\n",
       "    <tr>\n",
       "      <th>Diabetes Mellitus</th>\n",
       "      <td>2.63</td>\n",
       "      <td>0.107169</td>\n",
       "    </tr>\n",
       "    <tr>\n",
       "      <th>Oncological Disorders</th>\n",
       "      <td>1.26</td>\n",
       "      <td>0.112036</td>\n",
       "    </tr>\n",
       "    <tr>\n",
       "      <th>Developmental Disorders</th>\n",
       "      <td>1.36</td>\n",
       "      <td>0.128171</td>\n",
       "    </tr>\n",
       "  </tbody>\n",
       "</table>\n",
       "</div>"
      ],
      "text/plain": [
       "                               Enrichment   p-value\n",
       "Syndromes with Global Spectrum       4.03  0.039254\n",
       "Systemic Disorders                  22.73  0.043121\n",
       "Congenital Syndromes                 1.51  0.057444\n",
       "Connective Tissue Disorders          1.46  0.064802\n",
       "Cardiovascular Disorders             1.43  0.069455\n",
       "Ceroid Lipofuscinosis               12.99  0.074241\n",
       "Immunological Disorders              1.67  0.081501\n",
       "Diabetes Mellitus                    2.63  0.107169\n",
       "Oncological Disorders                1.26  0.112036\n",
       "Developmental Disorders              1.36  0.128171"
      ]
     },
     "execution_count": 125,
     "metadata": {},
     "output_type": "execute_result"
    }
   ],
   "source": [
    "enrichment_df.sort_values(by = \"p-value\")[:10]"
   ]
  }
 ],
 "metadata": {
  "kernelspec": {
   "display_name": "Python 3",
   "language": "python",
   "name": "python3"
  },
  "language_info": {
   "codemirror_mode": {
    "name": "ipython",
    "version": 3
   },
   "file_extension": ".py",
   "mimetype": "text/x-python",
   "name": "python",
   "nbconvert_exporter": "python",
   "pygments_lexer": "ipython3",
   "version": "3.6.13"
  }
 },
 "nbformat": 4,
 "nbformat_minor": 5
}
