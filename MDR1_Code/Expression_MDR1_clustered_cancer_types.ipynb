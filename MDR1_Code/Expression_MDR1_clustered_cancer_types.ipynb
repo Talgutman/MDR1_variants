{
 "cells": [
  {
   "cell_type": "code",
   "execution_count": 1,
   "id": "193e33cf-432b-4dda-96d8-22250005bb9f",
   "metadata": {},
   "outputs": [],
   "source": [
    "import pandas as pd \n",
    "import numpy as np\n",
    "from Utils_MDR1 import cancertype_clusters, variant_info\n",
    "from typing import Tuple"
   ]
  },
  {
   "cell_type": "markdown",
   "id": "2e3179ae-84a7-4686-8509-f11ffbdb407b",
   "metadata": {
    "tags": []
   },
   "source": [
    "## Functions"
   ]
  },
  {
   "cell_type": "code",
   "execution_count": 5,
   "id": "3b93600e-ba7b-4206-a72e-36c2dd1c8fe4",
   "metadata": {},
   "outputs": [],
   "source": [
    "''' Gets the expression of patients in a certain cancer type cluster. Calc p-value '''\n",
    "\n",
    "def get_pval_per_cluster(cluster_name: str, expression_df: pd.DataFrame, patients_with_mut: list, num_randomizations: int) -> Tuple[float, float, float]:\n",
    "    \n",
    "    cancers = cancertype_clusters[cluster_name] #cancer types in the cluster\n",
    "\n",
    "    expressions_cur_cluster = expression_df[expression_df[\"project\"].isin(cancers)].copy() #all the expression data of patients in this cluster\n",
    "    expression_with_mut = expressions_cur_cluster[expressions_cur_cluster[\"case_id\"].isin(patients_with_mut)].copy() #out of those, keep the expresssion of mutated patients\n",
    "    if expression_with_mut.shape[0] == 0: \n",
    "        print(f\"No patients in the mutated group are in the {cluster_name} cluster\")\n",
    "    \n",
    "    expression_without_mut = expressions_cur_cluster[~expressions_cur_cluster['case_id'].isin(patients_with_mut)].copy() #out of those, keep the expresssion of non-mutated patients\n",
    "    num_with_mut = expression_with_mut.shape[0]\n",
    "\n",
    "    #get the mean and std of the carriers group\n",
    "    mean_expression_mutated =  expression_with_mut[\"MDR1_expression (FPKM)\"].mean() #get the mean of all ptients with the mutation\n",
    "    std_expression_mutated = expression_with_mut[\"MDR1_expression (FPKM)\"].std() \n",
    "\n",
    "    #sample from the control group, \"num_randomizations\" groups of the same size as the control group\n",
    "    mean_expressions = np.zeros((num_randomizations,1)) #initilize results vector\n",
    "    for i in range(num_randomizations):\n",
    "        mean_sampled_expression = expression_without_mut.sample(n = num_with_mut)[\"MDR1_expression (FPKM)\"].mean() #get the mean expression of the randomly sampled patients\n",
    "        mean_expressions[i,0] = mean_sampled_expression\n",
    "\n",
    "    # Check p-value\n",
    "    p_value_larger = 1 - (np.sum(mean_expression_mutated > mean_expressions) / num_randomizations)\n",
    "    return(p_value_larger, mean_expression_mutated, np.mean(mean_expressions))\n",
    "\n"
   ]
  },
  {
   "cell_type": "markdown",
   "id": "a558deaf-458e-4687-82cf-4fbb615b8f98",
   "metadata": {},
   "source": [
    "## Main - Table S1"
   ]
  },
  {
   "cell_type": "code",
   "execution_count": 15,
   "id": "7f0ea5c6-7a42-4bb0-827f-d811b9c255e6",
   "metadata": {},
   "outputs": [],
   "source": [
    "#create a df that holds the MDR1 expression levels of all TCGA patients that have measuremets.\n",
    "expression_df = pd.read_pickle(f\"../Data/MDR1_expression_df.pickle\")\n",
    "#get a dictionary containing the lists of patients with each mut and with the haplotypes. \n",
    "patients_dict = pd.read_pickle(f\"../Data/mutated_patients_dict.pickle\")\n",
    "\n",
    "num_randomizations = 1000\n"
   ]
  },
  {
   "cell_type": "code",
   "execution_count": 16,
   "id": "7dd25661-451c-47fa-9d6a-b8e492deeada",
   "metadata": {},
   "outputs": [],
   "source": [
    "dict_for_table = {}"
   ]
  },
  {
   "cell_type": "markdown",
   "id": "61088ebc-573b-493a-ada6-3d275c5663c8",
   "metadata": {},
   "source": [
    "## T1236C"
   ]
  },
  {
   "cell_type": "code",
   "execution_count": 17,
   "id": "86665b78-a478-4616-98b7-e593202fd652",
   "metadata": {},
   "outputs": [
    {
     "name": "stdout",
     "output_type": "stream",
     "text": [
      "No patients in the mutated group are in the Metabolic Cancers cluster\n"
     ]
    }
   ],
   "source": [
    "variant_name = variant_info[1][\"variant_name\"]\n",
    "patients_with_mut = patients_dict[variant_name]\n",
    "\n",
    "dict_for_table[variant_name] = {}\n",
    "\n",
    "for cluster in cancertype_clusters.keys():\n",
    "    dict_for_table[variant_name][cluster] = {}\n",
    "\n",
    "    pval, carrier_expression, non_carrier_expression = get_pval_per_cluster(cluster, expression_df, patients_with_mut, num_randomizations)\n",
    "    dict_for_table[variant_name][cluster][\"pval\"] = pval\n",
    "    dict_for_table[variant_name][cluster][\"effect_size\"] = carrier_expression / non_carrier_expression\n"
   ]
  },
  {
   "cell_type": "markdown",
   "id": "f9b3a3d9-3fdd-49ca-b9dc-1e4cf274dbac",
   "metadata": {},
   "source": [
    "## T2677G"
   ]
  },
  {
   "cell_type": "code",
   "execution_count": 18,
   "id": "934c88ab-0b95-44a2-b71e-da06f72a121f",
   "metadata": {},
   "outputs": [],
   "source": [
    "variant_name = variant_info[2][\"variant_name\"]\n",
    "patients_with_mut = patients_dict[variant_name]\n",
    "\n",
    "dict_for_table[variant_name] = {}\n",
    "\n",
    "for cluster in cancertype_clusters.keys():\n",
    "    dict_for_table[variant_name][cluster] = {}\n",
    "\n",
    "    pval, carrier_expression, non_carrier_expression = get_pval_per_cluster(cluster, expression_df, patients_with_mut, num_randomizations)\n",
    "    dict_for_table[variant_name][cluster][\"pval\"] = pval\n",
    "    dict_for_table[variant_name][cluster][\"effect_size\"] = carrier_expression / non_carrier_expression\n"
   ]
  },
  {
   "cell_type": "markdown",
   "id": "f288a57b-293b-4583-98ed-915e0a609f27",
   "metadata": {},
   "source": [
    "## T3435C"
   ]
  },
  {
   "cell_type": "code",
   "execution_count": 19,
   "id": "d6068dbf-ab5b-4df0-95d8-a6212d2efcac",
   "metadata": {},
   "outputs": [
    {
     "name": "stdout",
     "output_type": "stream",
     "text": [
      "No patients in the mutated group are in the Metabolic Cancers cluster\n"
     ]
    }
   ],
   "source": [
    "variant_name = variant_info[3][\"variant_name\"]\n",
    "patients_with_mut = patients_dict[variant_name]\n",
    "\n",
    "dict_for_table[variant_name] = {}\n",
    "\n",
    "for cluster in cancertype_clusters.keys():\n",
    "    dict_for_table[variant_name][cluster] = {}\n",
    "\n",
    "    pval, carrier_expression, non_carrier_expression = get_pval_per_cluster(cluster, expression_df, patients_with_mut, num_randomizations)\n",
    "    dict_for_table[variant_name][cluster][\"pval\"] = pval\n",
    "    dict_for_table[variant_name][cluster][\"effect_size\"] = carrier_expression / non_carrier_expression\n"
   ]
  },
  {
   "cell_type": "code",
   "execution_count": 20,
   "id": "9317827b-82be-48bc-b04d-2490e37a07dd",
   "metadata": {},
   "outputs": [
    {
     "data": {
      "text/plain": [
       "{'T1236C': {'Metabolic Cancers': {'pval': 1.0, 'effect_size': nan},\n",
       "  'Proliferative Cancers': {'pval': 0.15900000000000003,\n",
       "   'effect_size': 1.608421042685652},\n",
       "  'Inflammatory Cancers': {'pval': 0.471, 'effect_size': 0.7589521705718972}},\n",
       " 'T2677G': {'Metabolic Cancers': {'pval': 0.10199999999999998,\n",
       "   'effect_size': 2.767549401864334},\n",
       "  'Proliferative Cancers': {'pval': 0.42100000000000004,\n",
       "   'effect_size': 0.895082451478333},\n",
       "  'Inflammatory Cancers': {'pval': 0.268, 'effect_size': 1.1971016229986857}},\n",
       " 'T3435C': {'Metabolic Cancers': {'pval': 1.0, 'effect_size': nan},\n",
       "  'Proliferative Cancers': {'pval': 0.42800000000000005,\n",
       "   'effect_size': 0.9448640981559827},\n",
       "  'Inflammatory Cancers': {'pval': 0.41800000000000004,\n",
       "   'effect_size': 0.9411369441147944}}}"
      ]
     },
     "execution_count": 20,
     "metadata": {},
     "output_type": "execute_result"
    }
   ],
   "source": [
    "dict_for_table"
   ]
  },
  {
   "cell_type": "code",
   "execution_count": null,
   "id": "690fd9a5-42cc-4259-9cd0-5f0ea26bc26d",
   "metadata": {},
   "outputs": [],
   "source": []
  }
 ],
 "metadata": {
  "kernelspec": {
   "display_name": "Python 3",
   "language": "python",
   "name": "python3"
  },
  "language_info": {
   "codemirror_mode": {
    "name": "ipython",
    "version": 3
   },
   "file_extension": ".py",
   "mimetype": "text/x-python",
   "name": "python",
   "nbconvert_exporter": "python",
   "pygments_lexer": "ipython3",
   "version": "3.6.13"
  }
 },
 "nbformat": 4,
 "nbformat_minor": 5
}
