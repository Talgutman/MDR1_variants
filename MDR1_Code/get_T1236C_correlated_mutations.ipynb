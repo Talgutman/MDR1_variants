{
 "cells": [
  {
   "cell_type": "markdown",
   "id": "e983526d-c09b-4a26-8620-2c5f974ad70b",
   "metadata": {},
   "source": [
    "For the TCGA survival analysis we obtained a significant correlation between T1236C and decrease overall survivability. \n",
    "We cannot know if this is causation or simply correlation, but we can examine mutations correlated with T1236C and see if they could be the actual MDR1 regulators. \n",
    "\n",
    "In this notebook we check which TCGA mutations are highly correlated with T1236C. Are they located in MDR1 as well? \n",
    "Are they located in genes regulated to MDR1? \n"
   ]
  },
  {
   "cell_type": "markdown",
   "id": "5df9926c-3b0e-4e3b-a3ef-c7611b1d2b8b",
   "metadata": {},
   "source": [
    "## Imports"
   ]
  },
  {
   "cell_type": "code",
   "execution_count": 2,
   "id": "d7e48ef5-41d1-4ea4-8ed0-c1abcf1c5a59",
   "metadata": {},
   "outputs": [],
   "source": [
    "import pandas as pd\n",
    "from Utils_MDR1 import get_muts_single_patient, variant_info\n",
    "from tqdm import tqdm\n",
    "import pickle\n",
    "import os"
   ]
  },
  {
   "cell_type": "markdown",
   "id": "e2f0b913-ec30-4185-b25c-16ee9c80a0aa",
   "metadata": {},
   "source": [
    "## Main"
   ]
  },
  {
   "cell_type": "code",
   "execution_count": null,
   "id": "6f3778c9-8e31-4d64-bb6d-11bf346479a2",
   "metadata": {},
   "outputs": [],
   "source": [
    "''' For each patient with T1236C, get all its mutations '''\n",
    "\n",
    "mut_id = 1 #T1236C\n",
    "\n",
    "#get the list of patients with T1236C\n",
    "patients_dict = pd.read_pickle(\"../Data/mutated_patients_dict.pickle\")\n",
    "patients_with_mut = patients_dict[variant_info[mut_id][\"variant_name\"]]\n",
    "\n",
    "#get a list of other mutations that these patients have\n",
    "patients_and_types = pd.read_pickle(\"../Data/TCGA_patients_and_cancer_types_df.pickle\") #get a dict[patient] -> cancer tpye\n",
    "\n",
    "for patient in tqdm(patients_with_mut): #iterate over patients with the current mutation\n",
    "    cancer_type = patients_and_types[patients_and_types[\"case_id\"] == patient][\"Cancer_Type\"].values[0] #get their cancer type (needed for the path for the rest of the mutations)\n",
    "    cur_patient_muts = get_muts_single_patient(patient, cancer_type) #a df with all of the mutations of this patient\n",
    "    #this process takes a long time so we will save the results in a pickle, to only run it once. \n",
    "    with open(f\"../Data/T1236C_patients_muts/{patient}.pickle\",'wb') as f:\n",
    "        pickle.dump(cur_patient_muts, f)\n",
    "        "
   ]
  },
  {
   "cell_type": "code",
   "execution_count": 64,
   "id": "e57f7c08-09b2-4d97-ba8f-c100361f4300",
   "metadata": {},
   "outputs": [],
   "source": [
    "''' Concatinate mutations from all T1236C carriers '''\n",
    "\n",
    "# get the patients with T1236C and all their other TCGA mutations\n",
    "path = \"../Data/T1236C_patients_muts/\"\n",
    "#iterate over all the files in the folder and concatinate the mutations of all the patients\n",
    "df_all_muts = pd.DataFrame()\n",
    "\n",
    "for filename in os.listdir(path):\n",
    "    muts_this_patient = pd.read_pickle(f\"{path}{filename}\")\n",
    "    df_all_muts = pd.concat([df_all_muts, muts_this_patient])\n"
   ]
  },
  {
   "cell_type": "code",
   "execution_count": 61,
   "id": "0b6a5a01-5896-4bfc-a8e2-2e076f585d96",
   "metadata": {},
   "outputs": [],
   "source": [
    "''' create a mutation id and then count- how many T1236C carriers also carry this mutation? ''' \n",
    "\n",
    "#create mut_id\n",
    "cols_mut_id = [\"Gene\", \"Chromosome\", \"Start_Position\", \"End_Position\", \"Reference_Allele\", \"Tumor_Seq_Allele2\"]        \n",
    "df_all_muts[\"mut_id\"] = df_all_muts.apply(lambda x: \":\".join([str(x[col]) for col in cols_mut_id]), axis = 1)\n",
    "\n",
    "#correlated mutations counts\n",
    "shared_muts_value_counts = df_all_muts[\"mut_id\"].value_counts()[1:] #removing T1236C itself from the list\n",
    "with open(f\"../Data/muts_correlated_with_T1236C.pickle\",'wb') as f:\n",
    "    pickle.dump(shared_muts_value_counts, f)\n"
   ]
  },
  {
   "cell_type": "code",
   "execution_count": null,
   "id": "1f36777e-dda0-4037-9add-b2333915423d",
   "metadata": {},
   "outputs": [],
   "source": []
  }
 ],
 "metadata": {
  "kernelspec": {
   "display_name": "Python 3",
   "language": "python",
   "name": "python3"
  },
  "language_info": {
   "codemirror_mode": {
    "name": "ipython",
    "version": 3
   },
   "file_extension": ".py",
   "mimetype": "text/x-python",
   "name": "python",
   "nbconvert_exporter": "python",
   "pygments_lexer": "ipython3",
   "version": "3.6.13"
  }
 },
 "nbformat": 4,
 "nbformat_minor": 5
}
