{
 "cells": [
  {
   "cell_type": "markdown",
   "id": "a852f382-9e55-4540-b9e6-1c0e461ecd56",
   "metadata": {},
   "source": [
    "In this notebook we want to check whether the mutations change transcription regulation and affect mRNA expression, using the Enformer model. \n",
    "Note: this notebook runs in a different environment that is compatible with Enformer. \n",
    "\n",
    "What do I need to do in this notebook? \n",
    "\n",
    "1. Create a df for the mutations with the following columns, required to run Enformer: 'mut_id', 'Chromosome', 'Variant_Type', 'TSS', 'Transcript stable ID','ref_allele', 'mut_allele', 'Start_Position', 'End_Position'\n",
    "\n",
    "2. Do the same for random mutations that are in the range of the TSS (100 random mutations synonymous T->C, 100 non-synonymous mutations T->G. \n",
    "\n",
    "3. Save the results of the metrics and compare to see if our mutations received a significant score. \n"
   ]
  },
  {
   "cell_type": "markdown",
   "id": "329e57df-3096-478a-93b2-adfdac104f99",
   "metadata": {},
   "source": [
    "## Imports"
   ]
  },
  {
   "cell_type": "code",
   "execution_count": null,
   "id": "ed75d75a-b7af-4f1d-8a2b-d6f18b390bac",
   "metadata": {
    "tags": []
   },
   "outputs": [],
   "source": [
    "import os\n",
    "import pathlib\n",
    "from typing import Callable\n",
    "import pandas as pd\n",
    "import numpy as np\n",
    "\n",
    "import enformer_utils as efut\n",
    "from Alphabet_seq_enc import Alphabet_N_seq_enc\n"
   ]
  },
  {
   "cell_type": "code",
   "execution_count": 2,
   "id": "be348a55-8933-4d56-893e-9ecf5a25d51d",
   "metadata": {},
   "outputs": [],
   "source": [
    "TSS = 87600884 # location of the TSS\n",
    "mut1 = 87550285 #T1236C\n",
    "mut2 = 87541302 #T2677G\n",
    "mut3 = 87509329 #T3435C\n",
    "\n",
    "#distance from the mutations and the TSS\n",
    "dist1 = TSS - mut1 \n",
    "dist2 = TSS - mut2\n",
    "dist3 = TSS - mut3\n"
   ]
  },
  {
   "cell_type": "code",
   "execution_count": 3,
   "id": "fd088f53-d5ca-478f-8049-cf9cb385187b",
   "metadata": {},
   "outputs": [
    {
     "data": {
      "text/plain": [
       "50599"
      ]
     },
     "execution_count": 3,
     "metadata": {},
     "output_type": "execute_result"
    }
   ],
   "source": [
    "dist1"
   ]
  },
  {
   "cell_type": "code",
   "execution_count": 4,
   "id": "6e1d6e73-37a5-4193-9f2f-e64fcf722739",
   "metadata": {},
   "outputs": [
    {
     "data": {
      "text/plain": [
       "59582"
      ]
     },
     "execution_count": 4,
     "metadata": {},
     "output_type": "execute_result"
    }
   ],
   "source": [
    "dist2"
   ]
  },
  {
   "cell_type": "code",
   "execution_count": 5,
   "id": "7321af81-fb71-455f-806d-438c4c13de7c",
   "metadata": {},
   "outputs": [
    {
     "data": {
      "text/plain": [
       "91555"
      ]
     },
     "execution_count": 5,
     "metadata": {},
     "output_type": "execute_result"
    }
   ],
   "source": [
    "dist3 #not in the Enformer range! to far from the TSS... "
   ]
  },
  {
   "cell_type": "markdown",
   "id": "51388504-4918-4ace-997f-3bd3effed560",
   "metadata": {},
   "source": [
    "## Main"
   ]
  },
  {
   "cell_type": "code",
   "execution_count": 2,
   "id": "191c1a25-f166-48e4-9f65-72cafe373a7a",
   "metadata": {},
   "outputs": [],
   "source": [
    "'''\n",
    "Define variables relevant for all MDR1 mutations \n",
    "'''\n",
    "\n",
    "Chromosome = \"chr7\" \n",
    "Variant_Type = \"SNP\"\n",
    "TSS = 87550485 #Note: This is not really the TSS. However, we created a code that utilizes Enformer such that the mutation has to be relatively close \n",
    "#to the TSS. This is not the case for T2677G and T3435C so we create this false TSS site. Notice that this does not affect the output of the Enformer\n",
    "#at all! only let's it run without issuing an error. \n",
    "\n",
    "#TSS = 87600884 The real location of the TSS. \n",
    "\n",
    "Transcript_stable_ID = \"ENST00000622132\"\n",
    "Gene = \"MDR1\"\n",
    "\n",
    "''' \n",
    "Define variables needed to run Enformer, regardless of the specific df \n",
    "'''\n",
    "\n",
    "chromosome_path = pathlib.Path(\"../Data/Genomes/Human/human_hg38/Chromosome\") #path to obtain the chromosome sequence for the enformer input\n",
    "df_tracks=pd.read_pickle(efut.Enformer_target_info_file) #CAGE tracks\n"
   ]
  },
  {
   "cell_type": "code",
   "execution_count": 5,
   "id": "62c34b54-a3ab-42f5-9f59-31545cb1a825",
   "metadata": {},
   "outputs": [
    {
     "name": "stdout",
     "output_type": "stream",
     "text": [
      "The dataframe with the original mutations:\n"
     ]
    },
    {
     "data": {
      "text/html": [
       "<div>\n",
       "<style scoped>\n",
       "    .dataframe tbody tr th:only-of-type {\n",
       "        vertical-align: middle;\n",
       "    }\n",
       "\n",
       "    .dataframe tbody tr th {\n",
       "        vertical-align: top;\n",
       "    }\n",
       "\n",
       "    .dataframe thead th {\n",
       "        text-align: right;\n",
       "    }\n",
       "</style>\n",
       "<table border=\"1\" class=\"dataframe\">\n",
       "  <thead>\n",
       "    <tr style=\"text-align: right;\">\n",
       "      <th></th>\n",
       "      <th>mut_id</th>\n",
       "      <th>gene_affected</th>\n",
       "      <th>Gene</th>\n",
       "      <th>Chromosome</th>\n",
       "      <th>Start_Position</th>\n",
       "      <th>End_Position</th>\n",
       "      <th>ref_allele</th>\n",
       "      <th>mut_allele</th>\n",
       "      <th>Variant_Type</th>\n",
       "      <th>Variant_Classification</th>\n",
       "      <th>Transcript stable ID</th>\n",
       "      <th>is_forward</th>\n",
       "      <th>cds_position</th>\n",
       "      <th>TSS</th>\n",
       "    </tr>\n",
       "  </thead>\n",
       "  <tbody>\n",
       "    <tr>\n",
       "      <th>0</th>\n",
       "      <td>ABCB1:chr7:87509329:A:G</td>\n",
       "      <td>ENSG00000085563</td>\n",
       "      <td>ABCB1</td>\n",
       "      <td>chr7</td>\n",
       "      <td>87509329</td>\n",
       "      <td>87509329</td>\n",
       "      <td>A</td>\n",
       "      <td>G</td>\n",
       "      <td>SNP</td>\n",
       "      <td>Silent</td>\n",
       "      <td>ENST00000622132</td>\n",
       "      <td>False</td>\n",
       "      <td>3435</td>\n",
       "      <td>87550485</td>\n",
       "    </tr>\n",
       "    <tr>\n",
       "      <th>1</th>\n",
       "      <td>ABCB1:chr7:87550285:A:G</td>\n",
       "      <td>ENSG00000085563</td>\n",
       "      <td>ABCB1</td>\n",
       "      <td>chr7</td>\n",
       "      <td>87550285</td>\n",
       "      <td>87550285</td>\n",
       "      <td>A</td>\n",
       "      <td>G</td>\n",
       "      <td>SNP</td>\n",
       "      <td>Silent</td>\n",
       "      <td>ENST00000622132</td>\n",
       "      <td>False</td>\n",
       "      <td>1236</td>\n",
       "      <td>87550485</td>\n",
       "    </tr>\n",
       "    <tr>\n",
       "      <th>2</th>\n",
       "      <td>ABCB1:chr7:87531302:A:C</td>\n",
       "      <td>ENSG00000085563</td>\n",
       "      <td>ABCB1</td>\n",
       "      <td>chr7</td>\n",
       "      <td>87531302</td>\n",
       "      <td>87531302</td>\n",
       "      <td>A</td>\n",
       "      <td>C</td>\n",
       "      <td>SNP</td>\n",
       "      <td>Missense_Mutation</td>\n",
       "      <td>ENST00000622132</td>\n",
       "      <td>False</td>\n",
       "      <td>2677</td>\n",
       "      <td>87550485</td>\n",
       "    </tr>\n",
       "  </tbody>\n",
       "</table>\n",
       "</div>"
      ],
      "text/plain": [
       "                    mut_id    gene_affected   Gene Chromosome Start_Position  \\\n",
       "0  ABCB1:chr7:87509329:A:G  ENSG00000085563  ABCB1       chr7       87509329   \n",
       "1  ABCB1:chr7:87550285:A:G  ENSG00000085563  ABCB1       chr7       87550285   \n",
       "2  ABCB1:chr7:87531302:A:C  ENSG00000085563  ABCB1       chr7       87531302   \n",
       "\n",
       "  End_Position ref_allele mut_allele Variant_Type Variant_Classification  \\\n",
       "0     87509329          A          G          SNP                 Silent   \n",
       "1     87550285          A          G          SNP                 Silent   \n",
       "2     87531302          A          C          SNP      Missense_Mutation   \n",
       "\n",
       "  Transcript stable ID  is_forward  cds_position       TSS  \n",
       "0      ENST00000622132       False          3435  87550485  \n",
       "1      ENST00000622132       False          1236  87550485  \n",
       "2      ENST00000622132       False          2677  87550485  "
      ]
     },
     "metadata": {},
     "output_type": "display_data"
    }
   ],
   "source": [
    "''' Create the df with our info about the mutations '''\n",
    "\n",
    "original_df = pd.read_pickle(\"../Data/MDR1_3_muts_df.pickle\")\n",
    "\n",
    "#change the format of the df to fit the input of Enformer\n",
    "original_df[\"Chromosome\"] = original_df[\"Chromosome\"].apply(lambda x: \"chr\"+str(x)) #instead of Chromosome = 7, Chromosome = chr7 \n",
    "original_df[\"TSS\"] = TSS\n",
    "original_df = original_df.rename(columns = {'Transcript_ID': 'Transcript stable ID', 'Reference_Allele': 'ref_allele',\n",
    "                                            'Tumor_Seq_Allele2': 'mut_allele'}) #rename several columns\n",
    "cols_mut_id = [\"Gene\", \"Chromosome\", \"Start_Position\", \"ref_allele\", \"mut_allele\"] #different format of \"mut_id\"\n",
    "original_df['mut_id'] = original_df.apply(lambda x: \":\".join([str(x[col]) for col in cols_mut_id]), axis = 1)\n",
    "    \n",
    "print(\"The dataframe with the original mutations:\")\n",
    "display(original_df)"
   ]
  },
  {
   "cell_type": "code",
   "execution_count": 3,
   "id": "53799d26-ed6e-40d0-a572-1306f24c82c3",
   "metadata": {},
   "outputs": [
    {
     "name": "stderr",
     "output_type": "stream",
     "text": [
      "2023-06-28 22:23:51.280241: W tensorflow/stream_executor/platform/default/dso_loader.cc:64] Could not load dynamic library 'libcuda.so.1'; dlerror: libcuda.so.1: cannot open shared object file: No such file or directory\n",
      "2023-06-28 22:23:51.280309: W tensorflow/stream_executor/cuda/cuda_driver.cc:326] failed call to cuInit: UNKNOWN ERROR (303)\n",
      "2023-06-28 22:23:51.280374: I tensorflow/stream_executor/cuda/cuda_diagnostics.cc:156] kernel driver does not appear to be running on this host (compute-0-340.power): /proc/driver/nvidia/version does not exist\n",
      "2023-06-28 22:23:51.281448: I tensorflow/core/platform/cpu_feature_guard.cc:142] This TensorFlow binary is optimized with oneAPI Deep Neural Network Library (oneDNN) to use the following CPU instructions in performance-critical operations:  AVX2 AVX512F FMA\n",
      "To enable them in other operations, rebuild TensorFlow with the appropriate compiler flags.\n"
     ]
    }
   ],
   "source": [
    "'''\n",
    "Load the Enformer model\n",
    "'''\n",
    "\n",
    "# load the model\n",
    "enformer = efut.load_enformer()\n",
    "\n",
    "# one-hot encoder\n",
    "one_hot_encoder: Callable[[str], np.ndarray] = Alphabet_N_seq_enc(alphabet='ACGT', non_char='N', non_char_val=0.0).one_hot_enc_seq\n"
   ]
  },
  {
   "cell_type": "code",
   "execution_count": 7,
   "id": "870473db-dad5-4b57-a387-ec97b55fb3d2",
   "metadata": {},
   "outputs": [
    {
     "name": "stderr",
     "output_type": "stream",
     "text": [
      "2023-06-28 13:46:36.873259: I tensorflow/compiler/mlir/mlir_graph_optimization_pass.cc:176] None of the MLIR Optimization Passes are enabled (registered 2)\n",
      "2023-06-28 13:46:36.989471: I tensorflow/core/platform/profile_utils/cpu_utils.cc:114] CPU Frequency: 2300000000 Hz\n"
     ]
    }
   ],
   "source": [
    "''' Run Enformer on the dataframe of original mutations '''\n",
    "\n",
    "store_path = pathlib.Path(\"../Results/Enformer/Original_raw\") #path to store the results\n",
    "\n",
    "#Enformer output is very large. We save only a summation of the output using several different metrics.  \n",
    "efut.run_enformer_on_dataframe(original_df, store_path, chromosome_path, one_hot_encoder, enformer)\n",
    "#efut.run_enformer_on_dataframe(original_df, store_path, chromosome_path, one_hot_encoder, enformer, metric_funcs = [efut.metric_wrapper_function], df_tracks = df_tracks)\n"
   ]
  },
  {
   "cell_type": "code",
   "execution_count": 10,
   "id": "e70581c7-6250-488f-8614-93a78804dcf6",
   "metadata": {},
   "outputs": [],
   "source": [
    "''' Create the dataframe for random synonymous T->C mutations (to compare to T1236C and T3435G) '''\n",
    "\n",
    "#lets get all the possible synonymous T->C mutation in the MDR1 gene (created in \"create_MDR1_randomization_dfs.ipynb\")\n",
    "df_syn_T_C = pd.read_pickle(\"../Data/random_mutations_for_pvals/synonymous_T2C.pickle\")\n",
    "\n",
    "#change the format of the df to fit the input of Enformer\n",
    "df_syn_T_C[\"Chromosome\"] = Chromosome\n",
    "df_syn_T_C[\"Variant_Type\"] = Variant_Type\n",
    "df_syn_T_C[\"Transcript stable ID\"] = Transcript_stable_ID\n",
    "df_syn_T_C[\"ref_allele\"] = df_syn_T_C[\"Changed_from\"].apply(lambda x: efut.reverse_complement(x))\n",
    "df_syn_T_C[\"mut_allele\"] = df_syn_T_C[\"Changed_to\"].apply(lambda x: efut.reverse_complement(x))\n",
    "df_syn_T_C[\"Start_Position\"] = df_syn_T_C[\"Chromosome_position_1_based\"]\n",
    "df_syn_T_C[\"End_Position\"] = df_syn_T_C[\"Start_Position\"]\n",
    "df_syn_T_C[\"Gene\"] = Gene\n",
    "df_syn_T_C['mut_id'] = df_syn_T_C.apply(lambda x: \":\".join([str(x[col]) for col in cols_mut_id]), axis = 1)\n",
    "df_syn_T_C['TSS'] = TSS\n",
    "\n",
    "\n",
    "#sample 100 mutations from the df and predict using Enformer\n",
    "num_muts =  100\n",
    "# ==================\n",
    "df_syn_T_C_sampled = df_syn_T_C.sample(n=num_muts, axis='index')\n"
   ]
  },
  {
   "cell_type": "code",
   "execution_count": null,
   "id": "c72a1c9e-c991-4b9e-8c00-ff61151d2edb",
   "metadata": {},
   "outputs": [],
   "source": [
    "''' Run Enformer on the dataframe of random T->C mutations '''\n",
    "\n",
    "store_path = pathlib.Path(\"../Results/Enformer/synT2C_raw\") #path to store the results\n",
    "\n",
    "#Enformer output is very large. We save only a summation of the output using several different metrics.  \n",
    "efut.run_enformer_on_dataframe(df_syn_T_C_sampled, store_path, chromosome_path, one_hot_encoder, enformer)\n"
   ]
  },
  {
   "cell_type": "code",
   "execution_count": 6,
   "id": "97588aba-1002-40e7-81eb-7b4ce87fc7ca",
   "metadata": {},
   "outputs": [],
   "source": [
    "''' Create the dataframe for random non-synonymous T->G mutations (to compare to T2677G) '''\n",
    "\n",
    "#lets get all the possible synonymous T->C mutation in the MDR1 gene (created in \"create_MDR1_valid_mutations_dfs_new.ipynb\")\n",
    "df_nonsyn_T_G = pd.read_pickle(\"../Data/random_mutations_for_pvals/nonsynonymous_T2G.pickle\")\n",
    "\n",
    "#change the format of the df to fit the input of Enformer\n",
    "df_nonsyn_T_G[\"Chromosome\"] = Chromosome\n",
    "df_nonsyn_T_G[\"Variant_Type\"] = Variant_Type\n",
    "df_nonsyn_T_G[\"Transcript stable ID\"] = Transcript_stable_ID\n",
    "df_nonsyn_T_G[\"ref_allele\"] = df_nonsyn_T_G[\"Changed_from\"].apply(lambda x: efut.reverse_complement(x))\n",
    "df_nonsyn_T_G[\"mut_allele\"] = df_nonsyn_T_G[\"Changed_to\"].apply(lambda x: efut.reverse_complement(x))\n",
    "df_nonsyn_T_G[\"Start_Position\"] = df_nonsyn_T_G[\"Chromosome_position_1_based\"]\n",
    "df_nonsyn_T_G[\"End_Position\"] = df_nonsyn_T_G[\"Start_Position\"]\n",
    "df_nonsyn_T_G[\"Gene\"] = Gene\n",
    "df_nonsyn_T_G['mut_id'] = df_nonsyn_T_G.apply(lambda x: \":\".join([str(x[col]) for col in cols_mut_id]), axis = 1)\n",
    "df_nonsyn_T_G['TSS'] = TSS\n",
    "\n",
    "#sample 100 mutations from the df and predict using Enformer\n",
    "num_muts =  100\n",
    "# ==================\n",
    "df_nonsyn_T_G_sampled = df_nonsyn_T_G.sample(n=num_muts, axis='index')\n"
   ]
  },
  {
   "cell_type": "code",
   "execution_count": 7,
   "id": "afbab969-e010-481a-bd97-bbb61863a6b3",
   "metadata": {},
   "outputs": [
    {
     "name": "stderr",
     "output_type": "stream",
     "text": [
      "2023-06-28 22:24:42.322785: I tensorflow/compiler/mlir/mlir_graph_optimization_pass.cc:176] None of the MLIR Optimization Passes are enabled (registered 2)\n",
      "2023-06-28 22:24:42.452976: I tensorflow/core/platform/profile_utils/cpu_utils.cc:114] CPU Frequency: 2300000000 Hz\n"
     ]
    },
    {
     "name": "stdout",
     "output_type": "stream",
     "text": [
      "Processed 50 rows ...\n"
     ]
    }
   ],
   "source": [
    "''' Run Enformer on the dataframe of random T->G mutations '''\n",
    "\n",
    "store_path = pathlib.Path(\"../Results/Enformer/nonsynT2G_raw\") #path to store the results\n",
    "\n",
    "#Enformer output is very large. We save only a summation of the output using several different metrics.  \n",
    "efut.run_enformer_on_dataframe(df_nonsyn_T_G_sampled, store_path, chromosome_path, one_hot_encoder, enformer)\n"
   ]
  },
  {
   "cell_type": "markdown",
   "id": "6baf5907-ee0a-4f0b-b4d8-3c12d67b41d7",
   "metadata": {},
   "source": [
    "## Compare T1236C, T2677G and T3435C to random variants with similar characteristics"
   ]
  },
  {
   "cell_type": "code",
   "execution_count": 33,
   "id": "6fe7109e-d14f-453d-85c9-694c5fd9ac31",
   "metadata": {},
   "outputs": [
    {
     "name": "stdout",
     "output_type": "stream",
     "text": [
      "P-value of metric bmean_tmean_smean is 0.51\n",
      "P-value of metric bmean_tmeanCAGE_smean is 0.56\n",
      "P-value of metric bmean_tmeanMDR1_smean is 0.41\n",
      "P-value of metric bmean_tmeanCAGEMDR1_smean is 0.53\n"
     ]
    }
   ],
   "source": [
    "'''\n",
    "T1236C\n",
    "'''\n",
    "\n",
    "'''original results'''\n",
    "\n",
    "#get the enformer output\n",
    "original = pd.read_pickle(f\"../Results/Enformer/Original_raw/ABCB1_chr7_87550285_A_G__ENST00000622132_87550485.pkl\")\n",
    "tss_bin, _ = efut.pos2bin(original[\"predt_start\"], original[\"TSS\"])\n",
    "df_tracks = pd.read_pickle(\"./enformer_targets_df.pkl\")\n",
    "\n",
    "#take the raw output and use several metrics to create a single score from it \n",
    "metrics_dict = efut.metric_wrapper_function_mdr1(original[\"Enformer\"], tss_bin, df_tracks = df_tracks)\n",
    "metrics = metrics_dict.keys()\n",
    "\n",
    "#map the scores from a dictionary to a df for convinience\n",
    "original_results_df = pd.DataFrame()\n",
    "for metric in metrics:\n",
    "    original_results_df.loc[0,metric] = metrics_dict[metric]\n",
    "    \n",
    "'''do the same for random (T->C synonmous mutations) variants'''\n",
    "\n",
    "#get the enformer output\n",
    "directory = f\"../Results/Enformer/synT2C_raw/\" #iterate over the results of the random variants\n",
    "random_results_df = pd.DataFrame()\n",
    "    \n",
    "for i, filename in enumerate(os.listdir(directory)):\n",
    "    f = os.path.join(directory, filename)\n",
    "    res = pd.read_pickle(f)\n",
    "    tss_bin, _ = efut.pos2bin(res[\"predt_start\"], res[\"TSS\"])\n",
    "    #take the raw output and use several metrics to create a single score from it \n",
    "    metrics_dict = efut.metric_wrapper_function_mdr1(res[\"Enformer\"], tss_bin, df_tracks = df_tracks)\n",
    "    #map the scores from a dictionary to a df for convinience\n",
    "    for metric in metrics:\n",
    "        random_results_df.loc[i,metric] = metrics_dict[metric]\n",
    "        \n",
    "#compare - does T1236C get a higher score than the random variants for any of the metrics? \n",
    "for metric in metrics:\n",
    "    pval = np.sum(original_results_df[metric].values > random_results_df[metric].values) / (len(random_results_df[metric].values))\n",
    "    print(f\"P-value of metric {metric} is {pval}\")\n",
    "\n",
    "        "
   ]
  },
  {
   "cell_type": "code",
   "execution_count": 35,
   "id": "b9b10512-3df1-454c-aafa-e9ca04e9f6cc",
   "metadata": {},
   "outputs": [
    {
     "name": "stdout",
     "output_type": "stream",
     "text": [
      "P-value of metric bmean_tmean_smean is 0.44\n",
      "P-value of metric bmean_tmeanCAGE_smean is 0.4\n",
      "P-value of metric bmean_tmeanMDR1_smean is 0.36\n",
      "P-value of metric bmean_tmeanCAGEMDR1_smean is 0.39\n"
     ]
    }
   ],
   "source": [
    "'''\n",
    "T2677G\n",
    "'''\n",
    "\n",
    "'''original results'''\n",
    "\n",
    "#get the enformer output\n",
    "original = pd.read_pickle(f\"../Results/Enformer/Original_raw/ABCB1_chr7_87531302_A_C__ENST00000622132_87550485.pkl\")\n",
    "tss_bin, _ = efut.pos2bin(original[\"predt_start\"], original[\"TSS\"])\n",
    "df_tracks = pd.read_pickle(\"./enformer_targets_df.pkl\")\n",
    "\n",
    "#take the raw output and use several metrics to create a single score from it \n",
    "metrics_dict = efut.metric_wrapper_function_mdr1(original[\"Enformer\"], tss_bin, df_tracks = df_tracks)\n",
    "metrics = metrics_dict.keys()\n",
    "\n",
    "#map the scores from a dictionary to a df for convinience\n",
    "original_results_df = pd.DataFrame()\n",
    "for metric in metrics:\n",
    "    original_results_df.loc[0,metric] = metrics_dict[metric]\n",
    "    \n",
    "'''do the same for random (T->G non-synonmous mutations) variants'''\n",
    "\n",
    "#get the enformer output\n",
    "directory = f\"../Results/Enformer/nonsynT2G_raw/\" #iterate over the results of the random variants\n",
    "random_results_df = pd.DataFrame()\n",
    "    \n",
    "for i, filename in enumerate(os.listdir(directory)):\n",
    "    f = os.path.join(directory, filename)\n",
    "    res = pd.read_pickle(f)\n",
    "    tss_bin, _ = efut.pos2bin(res[\"predt_start\"], res[\"TSS\"])\n",
    "    #take the raw output and use several metrics to create a single score from it \n",
    "    metrics_dict = efut.metric_wrapper_function_mdr1(res[\"Enformer\"], tss_bin, df_tracks = df_tracks)\n",
    "    #map the scores from a dictionary to a df for convinience\n",
    "    for metric in metrics:\n",
    "        random_results_df.loc[i,metric] = metrics_dict[metric]\n",
    "        \n",
    "#compare - does T1236C get a higher score than the random variants for any of the metrics? \n",
    "for metric in metrics:\n",
    "    pval = np.sum(original_results_df[metric].values > random_results_df[metric].values) / (len(random_results_df[metric].values))\n",
    "    print(f\"P-value of metric {metric} is {pval}\")\n",
    "\n",
    "        "
   ]
  },
  {
   "cell_type": "code",
   "execution_count": 36,
   "id": "7b0d4d55-eda0-461c-b294-e7cf3e486a4a",
   "metadata": {},
   "outputs": [
    {
     "name": "stdout",
     "output_type": "stream",
     "text": [
      "P-value of metric bmean_tmean_smean is 0.61\n",
      "P-value of metric bmean_tmeanCAGE_smean is 0.59\n",
      "P-value of metric bmean_tmeanMDR1_smean is 0.59\n",
      "P-value of metric bmean_tmeanCAGEMDR1_smean is 0.56\n"
     ]
    }
   ],
   "source": [
    "'''\n",
    "T3435C\n",
    "'''\n",
    "\n",
    "'''original results'''\n",
    "\n",
    "#get the enformer output\n",
    "original = pd.read_pickle(f\"../Results/Enformer/Original_raw/ABCB1_chr7_87509329_A_G__ENST00000622132_87550485.pkl\")\n",
    "tss_bin, _ = efut.pos2bin(original[\"predt_start\"], original[\"TSS\"])\n",
    "df_tracks = pd.read_pickle(\"./enformer_targets_df.pkl\")\n",
    "\n",
    "#take the raw output and use several metrics to create a single score from it \n",
    "metrics_dict = efut.metric_wrapper_function_mdr1(original[\"Enformer\"], tss_bin, df_tracks = df_tracks)\n",
    "metrics = metrics_dict.keys()\n",
    "\n",
    "#map the scores from a dictionary to a df for convinience\n",
    "original_results_df = pd.DataFrame()\n",
    "for metric in metrics:\n",
    "    original_results_df.loc[0,metric] = metrics_dict[metric]\n",
    "    \n",
    "'''do the same for random (T->C synonmous mutations) variants'''\n",
    "\n",
    "#get the enformer output\n",
    "directory = f\"../Results/Enformer/synT2C_raw/\" #iterate over the results of the random variants\n",
    "random_results_df = pd.DataFrame()\n",
    "    \n",
    "for i, filename in enumerate(os.listdir(directory)):\n",
    "    f = os.path.join(directory, filename)\n",
    "    res = pd.read_pickle(f)\n",
    "    tss_bin, _ = efut.pos2bin(res[\"predt_start\"], res[\"TSS\"])\n",
    "    #take the raw output and use several metrics to create a single score from it \n",
    "    metrics_dict = efut.metric_wrapper_function_mdr1(res[\"Enformer\"], tss_bin, df_tracks = df_tracks)\n",
    "    #map the scores from a dictionary to a df for convinience\n",
    "    for metric in metrics:\n",
    "        random_results_df.loc[i,metric] = metrics_dict[metric]\n",
    "        \n",
    "#compare - does T1236C get a higher score than the random variants for any of the metrics? \n",
    "for metric in metrics:\n",
    "    pval = np.sum(original_results_df[metric].values > random_results_df[metric].values) / (len(random_results_df[metric].values))\n",
    "    print(f\"P-value of metric {metric} is {pval}\")\n",
    "\n",
    "        "
   ]
  },
  {
   "cell_type": "code",
   "execution_count": null,
   "id": "7fae39d1-bd0c-45a5-82be-9d4d3fa15e80",
   "metadata": {},
   "outputs": [],
   "source": []
  }
 ],
 "metadata": {
  "kernelspec": {
   "display_name": "Python 3 (ipykernel)",
   "language": "python",
   "name": "python3"
  },
  "language_info": {
   "codemirror_mode": {
    "name": "ipython",
    "version": 3
   },
   "file_extension": ".py",
   "mimetype": "text/x-python",
   "name": "python",
   "nbconvert_exporter": "python",
   "pygments_lexer": "ipython3",
   "version": "3.7.16"
  }
 },
 "nbformat": 4,
 "nbformat_minor": 5
}
