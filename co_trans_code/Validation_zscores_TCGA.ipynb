{
 "cells": [
  {
   "cell_type": "markdown",
   "id": "8b2c0ccd-745c-4c17-801c-6ea199ff3f7c",
   "metadata": {},
   "source": [
    "In this notebook we validate that mutations in positions with extreme mfe z-scores are depleted in healthy genomes. \n",
    "\n",
    "The rationale - mutations in these positions are more harmful than mutations in random positions (effect on co-translational folding and translation) and so will be depleted in healthy genomes. \n",
    "\n",
    "We consider mutations in 1000G as \"null\", which is *usually* a true assumption. \n",
    "We take TCGA mutations (all snps from the CDS of all human protein coding genes) and we see the ratio of mutations (in 1000G / not in 1000G).\n",
    "Then we look at the 1% with lowest/highest mfe/CAI and check the ratio. We expect this ratio to be smaller for the extreme positions. \n",
    "\n",
    "We also obtain a hyper-geometric p-value and an empirical p-value using randomizations. "
   ]
  },
  {
   "cell_type": "markdown",
   "id": "506fb28e-07e0-48b6-b9a2-59bafd9a0809",
   "metadata": {
    "tags": []
   },
   "source": [
    "## Imports"
   ]
  },
  {
   "cell_type": "code",
   "execution_count": 1,
   "id": "490e72ae-937e-4e96-b8ba-3741e9d0c1e0",
   "metadata": {},
   "outputs": [],
   "source": [
    "import pandas as pd\n",
    "import concurrent.futures\n",
    "import pickle\n",
    "import numpy as np\n",
    "from scipy.stats import hypergeom\n",
    "import matplotlib.pyplot as plt\n",
    "from typing import Tuple"
   ]
  },
  {
   "cell_type": "markdown",
   "id": "7ec87553-d63b-4953-b75d-3b63f4d24a68",
   "metadata": {},
   "source": [
    "## functions"
   ]
  },
  {
   "cell_type": "code",
   "execution_count": 2,
   "id": "7108892b-63ea-4f3c-8749-8742dd87b026",
   "metadata": {},
   "outputs": [],
   "source": [
    "def get_zscores_and_pvals(mut_info: dict, gene_protein_dict: dict, chr2cds_allgenes: dict) -> Tuple[float, float, float, float, float, float, float, float]:\n",
    "    '''\n",
    "    Get the z-scores and respective p-values for our current examined variant\n",
    "    '''\n",
    "    try:\n",
    "    \n",
    "        #basic info of the mutation\n",
    "        mut_start = mut_info[\"Start_Position\"] # 1-based start position, relative to the chromosome\n",
    "\n",
    "        gene_id = mut_info[\"Gene\"]\n",
    "        protein_id = gene_protein_dict[gene_id]\n",
    "        \n",
    "        assert(mut_info[\"ENSP\"] == protein_id)\n",
    "\n",
    "        chr2cds = chr2cds_allgenes[gene_id, protein_id] #mapping chrm_pos -> cds_pos of the current gene. 0-based. \n",
    "        cds_mut_start = chr2cds[mut_start - 1] #0-based start position relative to the CDS. \n",
    "        aa_mut_start = int(np.floor(cds_mut_start / 3)) #results of CAI are in codons, not nts\n",
    "\n",
    "        #mfe\n",
    "        mfe_ver = pd.read_pickle(f\"../Results/z-scores/{gene_id}_vertical.pickle\")\n",
    "        mfe_ver_zscore = mfe_ver.loc[cds_mut_start][\"z-score\"]\n",
    "        mfe_ver_pval = mfe_ver.loc[cds_mut_start][\"p-value\"]\n",
    "\n",
    "        mfe_col = pd.read_pickle(f\"../Results/z-scores/{gene_id}_column.pickle\")\n",
    "        mfe_col_zscore = mfe_col.loc[cds_mut_start][\"z-score\"]\n",
    "        mfe_col_pval = mfe_col.loc[cds_mut_start][\"p-value\"]\n",
    "\n",
    "\n",
    "        return(mfe_ver_zscore, mfe_ver_pval, mfe_col_zscore, mfe_col_pval)\n",
    "    \n",
    "    except:\n",
    "        \n",
    "        return(None, None, None, None)"
   ]
  },
  {
   "cell_type": "code",
   "execution_count": 3,
   "id": "bbac8d26-5683-471c-99de-f5e48a6a1616",
   "metadata": {},
   "outputs": [],
   "source": [
    "def get_zscores_single_chromosome(chromo: str) -> None:\n",
    "    ''' \n",
    "    we have a file with all the TCGA CDS mutations in a specific chromosome. Given the chromosome this function\n",
    "    retrieve this file, adds the z-scores and p-values for each of the mutations and saves only columns needed for downstream analysis in another df\n",
    "    '''\n",
    "    path_tcga_muts = f\"../co_trans_data/TCGA/cds_mutations_chr{chromo}.txt\" #contains cds mutations of all genes on the current chromosome\n",
    "    df_cur_chrom = pd.read_csv(path_tcga_muts, delimiter=',')\n",
    "    \n",
    "    # add the z-scores to our df\n",
    "    df_partial = df_cur_chrom[[\"Gene\", \"Chromosome\", \"Start_Position\", \"End_Position\", \"Variant_Classification\", \"Reference_Allele\", \"Tumor_Seq_Allele2\", \"Transcript_ID\", \"ENSP\", \"Variant_Type\"]].copy()\n",
    "    df_partial[[\"mfe_v_z\",\"mfe_v_p\",\"mfe_c_z\",\"mfe_c_p\"]] = df_partial.apply(lambda x: pd.Series(get_zscores_and_pvals(x, gene_protein_dict, chr2cds_allgenes)), axis = 1)\n",
    "\n",
    "    with open(f\"../co_trans_data/TCGA/cds_mutations_chr{chromo}_with_zscores.pickle\", 'wb') as handle:\n",
    "        pickle.dump(df_partial, handle)\n"
   ]
  },
  {
   "cell_type": "code",
   "execution_count": null,
   "id": "19aaf9fa",
   "metadata": {},
   "outputs": [],
   "source": [
    "def in_1000G(start_pos: int, ref_allele: str, mut_allele: str, df_1000g: pd.DataFrame) -> bool:\n",
    "    ''' \n",
    "    This function checks if a specific mutation is in 1000G database or not\n",
    "    '''\n",
    "    cur_pos_df = df_1000g[df_1000g[\"POS\"] == start_pos].copy()\n",
    "\n",
    "    if len(cur_pos_df) == 0:  #if \"start_pos\" is not on 1000g, return False.\n",
    "        return(False)\n",
    "\n",
    "    else:\n",
    "        right_nucs = np.any((cur_pos_df[\"REF\"] == ref_allele) & (cur_pos_df[\"ALT\"] == mut_allele)) #start position is in 1000G. check if the nuc change is the same.\n",
    "        #if it is the same - the mutation is in 1000G, return True. Else, return False.\n",
    "        return(right_nucs)  "
   ]
  },
  {
   "cell_type": "code",
   "execution_count": 12,
   "id": "ebbaf461-87ff-45a2-8103-c67cbeb5eeaf",
   "metadata": {},
   "outputs": [],
   "source": [
    "def patch_single_chromosome(chromo:str) -> None:\n",
    "    ''' This function is a \"patch\". The function \"get_zscores_single_chromosome\" creates a smaller df that has needed info for checking\n",
    "    the depletion of mutations with extreme z-scores in 1000G. We are creating a few changes to this df - \n",
    "    1. Keeping only snps (in the 1000G we have no variant end-position,  so we will check only snps)\n",
    "    2. Keeping only unique mutations. \n",
    "    3. Add a column that indicates whether the mutation is in 1000G or not\n",
    "    '''\n",
    "    #get the df with the z-scores and info on each mut\n",
    "    tcga_cur_chrom = pd.read_pickle(f\"../co_trans_data/TCGA/cds_mutations_chr{chromo}_with_zscores.pickle\")\n",
    "    #keep only snps\n",
    "    tcga_cur_chrom = tcga_cur_chrom[tcga_cur_chrom[\"Variant_Type\"] == \"SNP\"].copy() #we keep only snps when comparing to 1000G currently\n",
    "    #keep only unique mutations\n",
    "    tcga_cur_chrom[\"mut_id\"] = tcga_cur_chrom.apply(lambda x: x[\"Gene\"] + \":\" + x[\"Chromosome\"] + \":\" + str(x[\"Start_Position\"]) + \":\" +  \n",
    "                                                    x[\"Variant_Classification\"] + \":\" + x[\"Reference_Allele\"] + \":\" + x[\"Tumor_Seq_Allele2\"], axis = 1)\n",
    "    tcga_cur_chrom = tcga_cur_chrom.drop_duplicates(subset=['mut_id'])\n",
    "\n",
    "\n",
    "    #get the 1000G data of this chromosome\n",
    "    thousand_genomes_cur_chrom = pd.read_pickle(f\"Data/1000_Genomes_Project/1000G_chr{chromo}_GRCh38.pkl\")\n",
    "    thousand_genomes_cur_chrom = thousand_genomes_cur_chrom[thousand_genomes_cur_chrom[\"VT\"] == \"SNP\"] #keep only snps\n",
    "\n",
    "    #check whether each of our TCGA mutations is in 1000G or not\n",
    "    tcga_cur_chrom[\"in_1000g\"] = tcga_cur_chrom.apply(lambda x: in_1000G(x[\"Start_Position\"], x[\"Reference_Allele\"], x[\"Tumor_Seq_Allele2\"] , thousand_genomes_cur_chrom), axis = 1)\n",
    "\n",
    "    #save the new df\n",
    "    with open(f\"../co_trans_data/TCGA/cds_mutations_chr{chromo}_with_zscores_1000G.pickle\", 'wb') as handle:\n",
    "        pickle.dump(tcga_cur_chrom, handle)\n",
    "\n"
   ]
  },
  {
   "cell_type": "code",
   "execution_count": 5,
   "id": "f8168c82-0392-4878-8bbe-cf72a01a33d6",
   "metadata": {},
   "outputs": [],
   "source": [
    "def calc_hg_pval(counts_df: pd.DataFrame) -> Tuple[float, float]:\n",
    "    ''' This function calculates a hypergeometric p-value. \n",
    "    \"population_size\" - how many TCGA variants are there? (in our analysis - all SNPs in the CDSs of all genes)\n",
    "    \"total_success\" - how many of these TCGA variants are *not* in 1000G (\"therefore treated as \"non-null\")\n",
    "    \"num_draws\" - how many variants are in our \"sample\"? in our case, how many variants received the lowest / highest\n",
    "    1% of z-scores?\n",
    "    \"observed_success\" - how many of the variants in the sample are *not* in 1000G? \n",
    "    '''\n",
    "    population_size = counts_df[\"Original\"].sum()\n",
    "    total_success = counts_df.loc[False,\"Original\"] \n",
    "    num_draws_low = counts_df[\"Percentile_low\"].sum()\n",
    "    num_draws_high = counts_df[\"Percentile_high\"].sum()\n",
    "\n",
    "    #assert(num_draws == counts_df.loc[\"Percentile99\"].sum())\n",
    "    observed_success_low = counts_df.loc[False,\"Percentile_low\"]\n",
    "    observed_success_high = counts_df.loc[False,\"Percentile_high\"]\n",
    "\n",
    "    \n",
    "    hg_p_low = hypergeom.sf(observed_success_low - 1, population_size, total_success, num_draws_low)\n",
    "    hg_p_high = hypergeom.sf(observed_success_high - 1, population_size, total_success, num_draws_high)\n",
    "    \n",
    "    return(hg_p_low, hg_p_high)"
   ]
  },
  {
   "cell_type": "code",
   "execution_count": 6,
   "id": "ec269d5e-d050-437c-aad5-11587c0e9cfe",
   "metadata": {},
   "outputs": [],
   "source": [
    "def get_counts_per_chromosome(chromo: str, measures: list , percentiles: dict, low_perc: str, high_perc: str) -> dict:\n",
    "    ''' This function creates a df that counts that variant in the complete \"original\" dataset of TCGA variants and on the \n",
    "    \"sampled\" datasets (TCGA variants with lowest and highest 1% z-scores for example). This df counts the amount of variants\n",
    "    in 1000G and not in 1000G for each of these groups. \n",
    "    '''\n",
    "    counts = {} #initiliaze dictionary to contain the results\n",
    "   \n",
    "    tcga_cur_chrom = pd.read_pickle(f\"../co_trans_data/TCGA/cds_mutations_chr{chromo}_with_zscores_1000G.pickle\") #get the data of the current chromosome\n",
    "        \n",
    "    counts[\"original\"] = tcga_cur_chrom[\"in_1000g\"].value_counts() #original ratio -> How many TCGA variants of tghis chromosome are in 1000G and how many are'nt\n",
    "        \n",
    "    for measure in measures:\n",
    "        low_perc_counts = tcga_cur_chrom[tcga_cur_chrom[measure] <= percentiles[measure,low_perc]][\"in_1000g\"].value_counts() #ratio in the lowest 1st percent\n",
    "        high_perc_counts = tcga_cur_chrom[tcga_cur_chrom[measure] >= percentiles[measure,high_perc]][\"in_1000g\"].value_counts() #ratio in the highest 1st percent\n",
    "        counts[measure, \"perc_low\"] = low_perc_counts\n",
    "        counts[measure, \"perc_high\"] = high_perc_counts\n",
    "        \n",
    "    with open(f\"../co_trans_data/TCGA/1000G_value_counts_chr{chromo}_{low_perc}.pickle\", 'wb') as handle:\n",
    "        pickle.dump(counts, handle)\n",
    "\n",
    "    "
   ]
  },
  {
   "cell_type": "code",
   "execution_count": 7,
   "id": "fcf5a6a2-1a06-4f53-97da-7c6350152fb0",
   "metadata": {},
   "outputs": [],
   "source": [
    "def get_results_all_chromosomes(measure: str, chrom_nums: list, low_perc: float, high_perc: float) -> Tuple[pd.DataFrame, float, float]:\n",
    "    ''' \n",
    "    The results (how many TCGA mutations are in 1000G, from the original set and the top low_perc/high_perc percent)\n",
    "    are saved per chromosome. Here we combine the results\n",
    "    '''\n",
    "    #initilize result dfs\n",
    "    original_df, low_perc_df, high_perc_df = pd.DataFrame(), pd.DataFrame(), pd.DataFrame()\n",
    "\n",
    "    #iterate over chromosomes and get the results per chromosome\n",
    "    for chromo in chrom_nums: #no Y chromosome in our 1000G data\n",
    "\n",
    "        counts = pd.read_pickle(f\"../co_trans_data/TCGA/1000G_value_counts_chr{chromo}_{low_perc}.pickle\")\n",
    "\n",
    "        orig_counts = counts[\"original\"]\n",
    "        low_perc_counts = counts[measure,\"perc_low\"]\n",
    "        high_perc_counts = counts[measure,\"perc_high\"]\n",
    "\n",
    "        #update results dfs\n",
    "        original_df = pd.concat([original_df, orig_counts])\n",
    "        low_perc_df = pd.concat([low_perc_df, low_perc_counts])\n",
    "        high_perc_df = pd.concat([high_perc_df, high_perc_counts])\n",
    "\n",
    "    original_df = original_df.groupby(original_df.index).sum().rename(columns={0: \"Original\"}) #sum the False category (not in 1000G) and True category (in 1000G) for all chromosomess\n",
    "    low_perc_df = low_perc_df.groupby(low_perc_df.index).sum().rename(columns={0: \"Percentile_low\"})\n",
    "    high_perc_df = high_perc_df.groupby(high_perc_df.index).sum().rename(columns={0: f\"Percentile_high\"})\n",
    "\n",
    "    #merged, final df\n",
    "    counts_df = original_df.merge(low_perc_df, left_index=True, right_index=True).merge(high_perc_df, left_index=True, right_index=True)\n",
    "\n",
    "    #calculate hypergeometric p-value\n",
    "    hg_p_low, hg_p_high = calc_hg_pval(counts_df)\n",
    "        \n",
    "    return(counts_df, hg_p_low, hg_p_high)\n",
    "\n",
    "    "
   ]
  },
  {
   "cell_type": "code",
   "execution_count": 9,
   "id": "8aa5592a-edfb-47fc-a359-6e6c07a342d1",
   "metadata": {},
   "outputs": [],
   "source": [
    "def in_1000G_rand_mut(chromosome: str, ilocation: int) -> bool:\n",
    "    ''' \n",
    "    Here we check if a single random mutation is in 1000G or not (to create a permutation p-value)\n",
    "    '''\n",
    "    cur_chr_mutations = pd.read_pickle(f\"../co_trans_data/TCGA/cds_mutations_chr{chromosome}_with_zscores_1000G.pickle\")\n",
    "    in_1000g = cur_chr_mutations.iloc[ilocation][\"in_1000g\"]\n",
    "    return(in_1000g)"
   ]
  },
  {
   "cell_type": "code",
   "execution_count": 10,
   "id": "0db466f2-f3ec-44cd-a0f5-37e92c465bcd",
   "metadata": {},
   "outputs": [],
   "source": [
    "def num_in1000G_single_random_group(chosen_low: pd.DataFrame, chosen_high: pd.DataFrame) -> Tuple[float, float]:\n",
    "    ''' We choose random groups of mutations in the same size as the group with the high percentile \n",
    "    and the group with the low percentile for a fair comparison. We check how many of the mutations in\n",
    "    the random groups are in 1000G \n",
    "    '''\n",
    "    in_1000g_rand_group_low = chosen_low.apply(lambda x: in_1000G_rand_mut(x[\"Chromosome\"], x[\"ilocation\"]), axis = 1)\n",
    "    num_in_1000g_low = np.sum(in_1000g_rand_group_low)\n",
    "    \n",
    "    in_1000g_rand_group_high = chosen_high.apply(lambda x: in_1000G_rand_mut(x[\"Chromosome\"], x[\"ilocation\"]), axis = 1)\n",
    "    num_in_1000g_high = np.sum(in_1000g_rand_group_high)\n",
    "    \n",
    "    return(num_in_1000g_low, num_in_1000g_high)"
   ]
  },
  {
   "cell_type": "code",
   "execution_count": 11,
   "id": "34dcba20-20e4-40fb-b102-a75caf6d5b8c",
   "metadata": {},
   "outputs": [],
   "source": [
    "def num_in1000G_all_rands(measure: str, chrom_nums: list, num_random_groups: int, low_perc: float, \n",
    "                          high_perc: float, choose_from: pd.DataFrame)-> Tuple[np.ndarray, np.ndarray]:\n",
    "    ''' \n",
    "    In this function we create \"num_random_groups\" randomizations and return a list of the number of mutations in 1000g in the random groups\n",
    "    '''\n",
    "    #get the number of \"null\" mutations in the original groups\n",
    "    counts_df, _, _ = get_results_all_chromosomes(measure, chrom_nums, low_perc, high_perc)\n",
    "    num_muts_low, num_muts_high = int(counts_df[\"Percentile_low\"].sum()), int(counts_df[\"Percentile_high\"].sum())\n",
    "    num_1000g_low, num_1000g_high = counts_df.loc[True, \"Percentile_low\"], counts_df.loc[True, \"Percentile_high\"]\n",
    "    \n",
    "    #get the number of \"null\" mutations in randomly chosen groups of the same size:\n",
    "    num_1000g_rand_low = np.zeros(num_random_groups)\n",
    "    num_1000g_rand_high = np.zeros(num_random_groups)\n",
    "    \n",
    "    chosens_dict = {} #cant choose randomly cocurrently because its not really random\n",
    "    for i in range(num_random_groups):\n",
    "        chosens_dict[i, \"perc_low\"] = choose_from.sample(n = num_muts_low).copy()\n",
    "        chosens_dict[i, \"perc_high\"] = choose_from.sample(n = num_muts_high).copy()\n",
    "     \n",
    "    with concurrent.futures.ProcessPoolExecutor() as executor:\n",
    "        futures = []\n",
    "        for i in range(num_random_groups):\n",
    "            futures.append(executor.submit(num_in1000G_single_random_group, chosens_dict[i, \"perc_low\"], chosens_dict[i, \"perc_high\"]))\n",
    "\n",
    "    for ind in range(num_random_groups):\n",
    "        num_1000g_rand_low[ind] = futures[ind].result()[0]\n",
    "        num_1000g_rand_high[ind] = futures[ind].result()[1]\n",
    "        \n",
    "    return(num_1000g_rand_low, num_1000g_rand_high)\n",
    "        "
   ]
  },
  {
   "cell_type": "markdown",
   "id": "cea1affd-b2ac-41c7-bc36-77438ca60f72",
   "metadata": {},
   "source": [
    "## Main"
   ]
  },
  {
   "cell_type": "markdown",
   "id": "131331ec-af87-4a73-8454-de049988d7d6",
   "metadata": {},
   "source": [
    "### create a df with relevant identifying fields per mutation and its mfe scores. "
   ]
  },
  {
   "cell_type": "code",
   "execution_count": 7,
   "id": "136dd664-f20f-44b2-9671-ced41a6afc83",
   "metadata": {},
   "outputs": [],
   "source": [
    "# map the mut_start to position on the genes cds sequence\n",
    "\n",
    "# get the z-scores and p-vals\n",
    "\n",
    "# a dictionary that maps the gene ids to the protein ids that we used: \n",
    "gene_protein_dict = pd.read_pickle(\"../co_trans_data/gene_protein_dict.pickle\") #map between the gene to the protein id used by ensembl\n",
    "\n",
    "# a dictionary that maps the cds positions to the chromosome positions of our genes\n",
    "chr2cds_allgenes = pd.read_pickle(\"../co_trans_data/chr2cds.pickle\") #dictionary mapping between CDS to chromosome positions\n",
    "\n",
    "chrom_nums = [str(i) for i in range(1, 23)] + [\"X\"]\n"
   ]
  },
  {
   "cell_type": "code",
   "execution_count": null,
   "id": "3fddbcde-eef4-4b5a-aeef-f7e7c0173278",
   "metadata": {},
   "outputs": [],
   "source": [
    "with concurrent.futures.ProcessPoolExecutor() as executor:\n",
    "    futures = []\n",
    "    for chromo in chrom_nums:\n",
    "        futures.append(executor.submit(get_zscores_single_chromosome, chromo))\n",
    "                      "
   ]
  },
  {
   "cell_type": "code",
   "execution_count": 43,
   "id": "e5489a3d-4a72-46fc-ae37-e40e5f77e5a6",
   "metadata": {},
   "outputs": [],
   "source": [
    "with concurrent.futures.ProcessPoolExecutor() as executor:\n",
    "    futures = []\n",
    "    for chromo in chrom_nums:\n",
    "        futures.append(executor.submit(patch_single_chromosome, chromo))\n",
    "                      "
   ]
  },
  {
   "cell_type": "markdown",
   "id": "b7e667fb-6ea9-4cb3-8bcd-0d28a5233a90",
   "metadata": {},
   "source": [
    "### Check the if mutations in highly scored positions are depleted in 1000GP. "
   ]
  },
  {
   "cell_type": "markdown",
   "id": "a69c38da-917e-45ed-99a2-cdb1d5e23614",
   "metadata": {},
   "source": [
    "Because the data is very large we keep the mutations on multiple files, according to the chromosome. However, we need to find the 1 and 99 perecentile of mfe/cai for all mutations \n"
   ]
  },
  {
   "cell_type": "code",
   "execution_count": 45,
   "id": "8450b6e2-4533-40ce-8c6b-63c480f5512f",
   "metadata": {},
   "outputs": [],
   "source": [
    "''' Get the low and high percentile according to each measure '''\n",
    "\n",
    "low_perc = 0.1\n",
    "high_perc = 99.9\n",
    "\n",
    "chrom_nums = [str(i) for i in range(1, 23)] + [\"X\"]\n",
    "\n",
    "measures = [\"mfe_v_z\", \"mfe_c_z\"]\n",
    "\n",
    "res = {}    \n",
    "\n",
    "for chromo in chrom_nums: \n",
    "    #get the df with the z-scores for all mutations of this chromosome\n",
    "    df_cur_chrom = pd.read_pickle(f\"../co_trans_data/TCGA/cds_mutations_chr{chromo}_with_zscores_1000G.pickle\")\n",
    "    \n",
    "    #update the dictionary with the z-scores of each measure\n",
    "    for measure in measures:\n",
    "        if measure in res.keys():\n",
    "            res[measure].extend(df_cur_chrom[measure][~df_cur_chrom[measure].isna()])\n",
    "        else:\n",
    "            res[measure] = []\n",
    "            res[measure].extend(df_cur_chrom[measure][~df_cur_chrom[measure].isna()])\n",
    "                        \n",
    "#calculate the percentiles to find the threshold for each group\n",
    "percentiles = {}\n",
    "for measure in measures:\n",
    "    percentiles[measure, low_perc] = np.percentile(res[measure], low_perc)\n",
    "    percentiles[measure, high_perc] = np.percentile(res[measure], high_perc)\n",
    "\n",
    "\n"
   ]
  },
  {
   "cell_type": "code",
   "execution_count": 36,
   "id": "c255cdb3-82f0-465e-a642-78b93f2270d6",
   "metadata": {},
   "outputs": [],
   "source": [
    "''' Given the percentiles, seperate to groups and get the amount of variants in 1000G and not in 1000G '''\n",
    "with concurrent.futures.ProcessPoolExecutor() as executor:\n",
    "    futures = []\n",
    "    for chromo in chrom_nums:\n",
    "        futures.append(executor.submit(get_counts_per_chromosome, chromo, measures, percentiles, low_perc, high_perc)) "
   ]
  },
  {
   "cell_type": "code",
   "execution_count": 60,
   "id": "dcf35800-5447-4ef9-9f28-fbd351fa862d",
   "metadata": {},
   "outputs": [],
   "source": [
    "''' Obtain an empirical p-value as well '''\n",
    "\n",
    "#we need to choose randomly a group of mutations *from all chromosomes* so we will create a df with all possibilities to choose from, \n",
    "#containing both the chromosome number and the iloc of the mutation in the df of the chromosome, and choose the needed amount from that. \n",
    "\n",
    "chrom_nums = [str(i) for i in range(1, 23)] + [\"X\"]\n",
    "\n",
    "choose_from = pd.DataFrame(columns = [\"Chromosome\", \"ilocation\"]) \n",
    "\n",
    "for chromo in chrom_nums:\n",
    "    \n",
    "    tcga_cur_chrom = pd.read_pickle(f\"../co_trans_data/TCGA/cds_mutations_chr{chromo}_with_zscores_1000G.pickle\") #get the data of the current chromosome\n",
    "    num_muts_cur_chrom = tcga_cur_chrom.shape[0]\n",
    "    iloc = np.arange(num_muts_cur_chrom)\n",
    "    chromosome = [chromo] * num_muts_cur_chrom\n",
    "    temp_df = pd.DataFrame()\n",
    "    temp_df[\"Chromosome\"], temp_df[\"ilocation\"] = chromosome, iloc\n",
    "    \n",
    "    choose_from = pd.concat([choose_from, temp_df])\n",
    "  "
   ]
  },
  {
   "cell_type": "code",
   "execution_count": 12,
   "id": "bea7ff12-905f-4522-8a07-4c347d3bc648",
   "metadata": {},
   "outputs": [],
   "source": [
    "def get_emp_pval(measure: str, chrom_nums: list, num_random_groups: int, low_perc: float, high_perc: float) -> Tuple[float, float]:\n",
    "    ''' \n",
    "    here we create randomizations for the group of low z-scores and high z-scores, meaning that we\n",
    "    take the same amount of random TCGA variants and see how many of the random group are in 1000G. \n",
    "    We do this many times and thus create and empirical p-value \n",
    "    ''' \n",
    "    #get counts for randomizations\n",
    "    num_1000g_rands_low, num_1000g_rands_high = num_in1000G_all_rands(measure, chrom_nums, num_random_groups, low_perc, high_perc)\n",
    "    \n",
    "    #get counts for the true low and high percentages\n",
    "    counts_df, _, _ = get_results_all_chromosomes(measure, chrom_nums, low_perc, high_perc)\n",
    "    num_muts_low, num_muts_high = int(counts_df[\"Percentile_low\"].sum()), int(counts_df[\"Percentile_high\"].sum())\n",
    "    num_1000g_low, num_1000g_high = counts_df.loc[True, \"Percentile_low\"], counts_df.loc[True, \"Percentile_high\"]\n",
    "    \n",
    "    #calculate empirical pvalues\n",
    "    pval_low = 1 - np.sum(num_1000g_low < num_1000g_rands_low) / num_1000g_rands_low.shape[0]\n",
    "    pval_high = 1 - np.sum(num_1000g_high < num_1000g_rands_high) / num_1000g_rands_high.shape[0]\n",
    "    \n",
    "    return(pval_low, pval_high)\n"
   ]
  },
  {
   "cell_type": "code",
   "execution_count": 65,
   "id": "1e081b03-0d2b-4bfc-b8c4-cef169284815",
   "metadata": {},
   "outputs": [],
   "source": [
    "measure = \"mfe_v_z\"\n",
    "num_random_groups = 100\n",
    "low_perc = 0.1\n",
    "high_perc = 99.9\n",
    "\n",
    "pval_low, pval_high = get_emp_pval(measure, chrom_nums, num_random_groups, low_perc, high_perc)\n",
    "\n",
    "with open(f\"../Results/validation/{measure}_perc{low_perc}_pval.pickle\", 'wb') as handle:\n",
    "                pickle.dump(pval_low, handle)\n",
    "        \n",
    "with open(f\"../Results/validation/{measure}_perc{high_perc}_pval.pickle\", 'wb') as handle:\n",
    "                pickle.dump(pval_high, handle)\n",
    "        "
   ]
  }
 ],
 "metadata": {
  "kernelspec": {
   "display_name": "Python 3",
   "language": "python",
   "name": "python3"
  },
  "language_info": {
   "codemirror_mode": {
    "name": "ipython",
    "version": 3
   },
   "file_extension": ".py",
   "mimetype": "text/x-python",
   "name": "python",
   "nbconvert_exporter": "python",
   "pygments_lexer": "ipython3",
   "version": "3.6.13"
  }
 },
 "nbformat": 4,
 "nbformat_minor": 5
}
