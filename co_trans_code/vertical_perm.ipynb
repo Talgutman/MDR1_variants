{
 "cells": [
  {
   "cell_type": "markdown",
   "metadata": {},
   "source": [
    "In this notebook we want to create randomizations for an MSA. The randomizations have to preserve certain qualities. Here, we will only permute synonymous codons in each column of the MSA. \n",
    "\n",
    "The output of this notebook will be the randomized versions of the MSAs. For each gene we will save a dictionary holding the locations were the randomizations are different than the original MSA (to save space), and the codons in those locations.  \n"
   ]
  },
  {
   "cell_type": "markdown",
   "metadata": {},
   "source": [
    "*this notebook should run on the power cluster*"
   ]
  },
  {
   "cell_type": "markdown",
   "metadata": {},
   "source": [
    "## Imports"
   ]
  },
  {
   "cell_type": "code",
   "execution_count": 1,
   "metadata": {},
   "outputs": [],
   "source": [
    "#general imports, common to all projects\n",
    "import numpy as np\n",
    "import pandas as pd\n",
    "import os\n",
    "import sys\n",
    "import pickle\n",
    "from tqdm import tqdm"
   ]
  },
  {
   "cell_type": "code",
   "execution_count": 2,
   "metadata": {},
   "outputs": [],
   "source": [
    "#import relevant for this notebook\n",
    "from Bio import AlignIO\n",
    "import random\n",
    "import concurrent.futures\n",
    "import gc\n",
    "from Bio import SeqIO\n",
    "from pathlib import Path\n",
    "import io\n",
    "from Utils_Tal import SynonymousCodons, AAs, reverse_dict\n",
    "from scipy import stats\n"
   ]
  },
  {
   "cell_type": "markdown",
   "metadata": {},
   "source": [
    "## Functions"
   ]
  },
  {
   "cell_type": "code",
   "execution_count": 3,
   "metadata": {},
   "outputs": [],
   "source": [
    "'''This function gets the msa and checks which positions have a dominant amino-acid (an amino-acid that is\n",
    "prevalent in more than \"threshold_same_AA\" of the orthologs. It returns a boolian vector, True for the\n",
    "positions that do have a dominant amino acid. '''\n",
    "\n",
    "def get_mask_dominant_aa(aa_array:np.ndarray, threshold_same_AA:float, num_organisms:int,num_randomizations:int) -> np.ndarray:\n",
    "    vals,counts = stats.mode(aa_array) \n",
    "    #vals: a 1D numpy array of length \"num_positions\" (codon positions) holding the dominant amino-acid of each column. *could also be a deletion*\n",
    "    #counts: a 1D numpy array of the same length, indicating how many times the dominant aa appeared in the column.\n",
    "    counts[vals == '-'] = 0 #dont consider positions where the dominant character is a deletion\n",
    "    \n",
    "    percent_in_reality = counts/num_organisms\n",
    "    mask_dominant_aa = percent_in_reality > threshold_same_AA # a 1D boolian vector of length \"num_positions\".\n",
    "    mask_dominant_aa = mask_dominant_aa + np.full((num_randomizations,aa_array.shape[0], aa_array.shape[1]), False) #broadcast to the shape of the randomizations\n",
    "    return(mask_dominant_aa)\n"
   ]
  },
  {
   "cell_type": "code",
   "execution_count": 9,
   "metadata": {},
   "outputs": [],
   "source": [
    "'''\n",
    "This function takes a matrix and shuffles its non-zero elements that are in the same column.\n",
    "It returns the shuffled version of the matrix. \n",
    "\n",
    "threeD_array: a 3D numpy array (size: (num_orthologs,num_codon_positions, num_randomizations)) holding all codons of a single amino acid, duplicated \"num_randomizations\" times in the third axis. The rest of the positions are 0.\n",
    "For example- lets say this is our MSA: ['ATG','TAT','AAG'],['ATG','TAT,'TAC'] (2 orthologs, 3 codons)\n",
    "and in amino acids it is ['M','Y','K],['M','Y','Y'] and we are now cosidering amino-acid Y- \n",
    "then, threeD_array would be [0,'TAT',0],[0,'TAT','TAC'], duplicated \"num_randomizations\" times at the third\n",
    "axis. This function would permute the non-zero elements, meaning the synonymous codons of Y, in the column axis only. \n",
    "This solution is based on [https://stackoverflow.com/questions/45764955/shuffling-non-zero-elements-of-each-row-in-an-array-python-numpy]\n",
    "and it was done so we can shuffle in a vectorized manner.\n",
    "i: the column indices of the non-zeros elements (the elements to shuffle)\n",
    "j: the row indices of the non-zeros elements (the elements to shuffle)\n",
    "random_nums: random numbers assigned for each randomization (numpy array of size (num_randomizations,len(i)) \n",
    "\n",
    "'''\n",
    "\n",
    "def permute_non_zeros(threeD_array: np.ndarray, i:list, j:list, random_nums:np.ndarray) -> np.ndarray:\n",
    "    for d in range(len(threeD_array)): #d - depth. we iterate through the randomizations,0-999.\n",
    "        cur_randomization = threeD_array[d,:,:]\n",
    "        cur_random_nums = random_nums[d,:] #take the random numbers assigned for the current randomization\n",
    "        k = np.argsort(i + cur_random_nums)\n",
    "        cur_randomization[i,j] = cur_randomization[i,j[k]]\n",
    "        threeD_array[d,:,:] = cur_randomization\n",
    "    return(threeD_array)"
   ]
  },
  {
   "cell_type": "code",
   "execution_count": 10,
   "metadata": {},
   "outputs": [],
   "source": [
    "'''This function receives the randomizations of the msa of a single gene and the original msa of that gene, and returns \n",
    "a dictionary with the positions where the randomizations and the original gene differ, and the difference. \n",
    "Saving only the differences saves a lot of memory.'''\n",
    "\n",
    "def compress_rands(randomizations: np.ndarray, codons_array_original:np.ndarray) -> dict:\n",
    "    locations_of_diff = np.where(randomizations != codons_array_original)\n",
    "    codons_of_diff = randomizations[locations_of_diff]\n",
    "    diff_dict = {}\n",
    "    diff_dict['locations'] = locations_of_diff\n",
    "    diff_dict['codons'] = codons_of_diff\n",
    "    return(diff_dict)\n",
    "    "
   ]
  },
  {
   "cell_type": "code",
   "execution_count": 11,
   "metadata": {},
   "outputs": [],
   "source": [
    "''' Create all randomized MSAs for a single gene'''\n",
    "def create_randomizations_single_gene(gene:str, num_randomizations:int) -> None:\n",
    "    try:\n",
    "        \n",
    "        path_AA = f\"../co_trans_data/orthologs/aa_after_msa/{gene}.fasta.gz\" #MSA in amino-acids\n",
    "        path_NT = f\"../co_trans_data/orthologs/nt_after_msa/{gene}.fasta.gz\" #MSA in nucleotides\n",
    "        local_aa_path = f\"./{gene}_aa.fasta\"\n",
    "        local_nt_path = f\"./{gene}_nt.fasta\"\n",
    "        !gzip -c -d $path_NT > $local_nt_path \n",
    "        !gzip -c -d $path_AA > $local_aa_path \n",
    "        \n",
    "        alignment_AA = AlignIO.read(local_aa_path, \"fasta\")\n",
    "        aa_array = np.array(alignment_AA) #changing to numpy for code efficiency\n",
    "        alignment_NT = AlignIO.read(local_nt_path, \"fasta\")\n",
    "        os.remove(local_aa_path)\n",
    "        os.remove(local_nt_path)\n",
    "        \n",
    "        #create codon array from nucleotide array\n",
    "        nuc_array = np.array(alignment_NT) # an array where each column is a nucleotide position\n",
    "        #lets merge every three columns into one, to obtain a numpy of codon positions instead of nucleotide positions\n",
    "        codons_array = np.zeros((nuc_array.shape[0],nuc_array.shape[1]//3),dtype=object)\n",
    "        for col in range(0,nuc_array.shape[1],3):\n",
    "            merged_to_codon = np.char.add(np.char.add(nuc_array[:,col],nuc_array[:,col+1]),nuc_array[:,col+2]) \n",
    "            codons_array[:,col//3] = merged_to_codon\n",
    "\n",
    "        #remove positions of AAs with ambigious nts:\n",
    "        codons_array_translation = codons_array.copy()\n",
    "        for cur_codon in reverse_dict.keys():\n",
    "            codons_array_translation[codons_array_translation == cur_codon] = reverse_dict[cur_codon] #translate valid codons to AAs\n",
    "        mask = codons_array_translation != aa_array #our translation will not translate \"GCN\" to Ala but \"aa_array\" will have Ala in that position. this will find ambigious codons. \n",
    "        aa_array[mask] = '-' #put this where there are ambigious nts (meaning, we are treating them the same as deletions)\n",
    "        codons_array[mask] = '---' #again, treat as deletions in the nt version of the matrix as well\n",
    "        \n",
    "        mask_dominant_aa = get_mask_dominant_aa(aa_array, threshold_same_AA = 0.5, num_organisms = aa_array.shape[0], num_randomizations = num_randomizations)\n",
    "    \n",
    "        # duplicating the aa array and nucleotide array \"num_randomizations\" times for the creations of the randomizations. \n",
    "        repeated_AAs = np.tile(aa_array,(num_randomizations,1,1)) \n",
    "        repeated_codons = np.tile(codons_array,(num_randomizations,1,1)) \n",
    "        repeated_AAs[~mask_dominant_aa] = '-' #for columns without a dominant aa: replace the codons with \"-\"\n",
    "\n",
    "        # for each AA, get the locations of the codons coding for that AA and then perform a vertical permutation between them. \n",
    "        for AA in tqdm(AAs):\n",
    "            repeated_this_AA = repeated_codons.copy() #create a copy of the original codons matrix\n",
    "            mask_this_AA = np.zeros(np.shape(repeated_codons),dtype=bool) # create a mask of the same size\n",
    "            this_AA_locations = np.where(np.isin(repeated_AAs,AA)) \n",
    "            mask_this_AA[this_AA_locations] = True # assign \"True\" in the mask where there are synonymous codons of the current amino acids\n",
    "            repeated_this_AA[~mask_this_AA] = 0 #take the copy of our original codon matrix and keep only the synonymous codons of this AA (the rest are zeros)\n",
    "\n",
    "            # now we want to shuffle all non-zero element column-wise. \n",
    "            # this solution is based on https://stackoverflow.com/questions/45764955/shuffling-non-zero-elements-of-each-row-in-an-array-python-numpy\n",
    "            #but is changed a bit to fit a 3D array\n",
    "            repeated_this_AA = repeated_this_AA.transpose(0,2,1) #we transpose because we know how to perform a shuffle in-row and not in-column\n",
    "            i, j = np.nonzero(repeated_this_AA[0].astype(bool)) # i, j are the same for all randomizations as the locations of the non-zeros elements are the same for them\n",
    "            random_nums = np.random.rand(i.size * num_randomizations) #create the random numbers that are needed for all the \"num_randomizations\" permutations (faster then doing it \"num_randomizations\" times)\n",
    "            random_nums = random_nums.reshape((num_randomizations, i.size)) #reshape to split it to the \"num_randomizations\" randomizations\n",
    "            repeated_this_AA = permute_non_zeros(repeated_this_AA,i,j,random_nums) # perform the shuffling\n",
    "            repeated_this_AA = repeated_this_AA.transpose(0,2,1) #tranpose back\n",
    "            repeated_codons[this_AA_locations] = repeated_this_AA[this_AA_locations] #assign our randomized version of this AA's codons to the original data\n",
    "             #save a dictionary with *the differences* of each randomization from the original msa (memory efficient)\n",
    "        \n",
    "        compressed_rands = compress_rands(repeated_codons, codons_array)\n",
    "        \n",
    "        #save the results of the current gene in a pickle\n",
    "        output_path = f\"../Results/AllGenes/vertical_permutations/{gene}.pickle\"\n",
    "        with open(output_path, 'wb') as handle:\n",
    "            pickle.dump(compressed_rands, handle)\n",
    "        #zip it\n",
    "        !gzip $output_path\n",
    "   \n",
    "    except Exception as e:\n",
    "        error_path = f\"../Results/AllGenes/vertical_permutations/error_genes_vertical_permutations.txt\"\n",
    "        file_object = open(error_path, 'a')\n",
    "        file_object.write(f\"gene {gene} failed with error: {e}\")\n",
    "        file_object.close()\n",
    "\n"
   ]
  },
  {
   "cell_type": "code",
   "execution_count": 3,
   "metadata": {},
   "outputs": [],
   "source": [
    "''' This function calls \"create_randomizations_single_gene\" sequentialy for each gene in the batch ''' \n",
    "def do_for_single_batch(single_batch_genes: list, num_randomizations:int) -> None:\n",
    "    for gene in single_batch_genes:\n",
    "        create_randomizations_single_gene(gene, num_randomizations)\n",
    "        "
   ]
  },
  {
   "cell_type": "markdown",
   "metadata": {},
   "source": [
    "## Main"
   ]
  },
  {
   "cell_type": "code",
   "execution_count": null,
   "metadata": {
    "tags": []
   },
   "outputs": [],
   "source": [
    "'''Create batches of genes'''\n",
    "num_wanted_cpus = 50\n",
    "num_genes = len(genes_list)\n",
    "num_genes_per_batch = int(np.round(num_genes /num_wanted_cpus))\n",
    "batches_of_genes = [genes_list[x:x+num_genes_per_batch] for x in range(0, num_genes, num_genes_per_batch)]\n"
   ]
  },
  {
   "cell_type": "code",
   "execution_count": null,
   "metadata": {},
   "outputs": [],
   "source": [
    "''' Call the batches parallely '''\n",
    "with concurrent.futures.ProcessPoolExecutor() as executor:\n",
    "    futures = []\n",
    "    for single_batch in batches_of_genes:\n",
    "        futures.append(executor.submit(do_for_single_batch, single_batch_genes = single_batch, num_randomizations = 101))\n",
    "                      "
   ]
  }
 ],
 "metadata": {
  "kernelspec": {
   "display_name": "Python 3",
   "language": "python",
   "name": "python3"
  },
  "language_info": {
   "codemirror_mode": {
    "name": "ipython",
    "version": 3
   },
   "file_extension": ".py",
   "mimetype": "text/x-python",
   "name": "python",
   "nbconvert_exporter": "python",
   "pygments_lexer": "ipython3",
   "version": "3.6.13"
  }
 },
 "nbformat": 4,
 "nbformat_minor": 4
}
