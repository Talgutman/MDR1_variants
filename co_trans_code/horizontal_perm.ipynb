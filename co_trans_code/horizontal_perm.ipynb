{
 "cells": [
  {
   "cell_type": "markdown",
   "metadata": {},
   "source": [
    "In this notebook we want to create randomizations for an MSA. The randomizations have to preserve certain qualities. Here, we will choose two columns of codons with the same dominant amino-acid and shuffle the synonymous codons of that amino-acid that are in the same row. \n",
    "For example, column_1 = ['TAT'(Y),'TAC'(Y),'CCT'(P),'TAT'(Y)], column_2 = ['TAC'(Y),'TAC'(Y),'ATG'(M),'TAC'(Y)]. The dominant amino-acid here is Y. so, we swap the synonynous codons coding Y, whom are at the same position -> column1_swaped = ['TAC','TAC','CCT','TAC'],\n",
    "column2_swaped = ['TAT','TAC','ATG',TAT'].\n",
    "\n",
    "In the first version of this code we chose two columns until all columns were shuffled. This was'nt random enough and created biases. Here, we shufle many more times (10Xlength of protein sequence for each aa)"
   ]
  },
  {
   "cell_type": "markdown",
   "metadata": {},
   "source": [
    "## Imports"
   ]
  },
  {
   "cell_type": "code",
   "execution_count": 1,
   "metadata": {},
   "outputs": [],
   "source": [
    "import numpy as np\n",
    "import pandas as pd\n",
    "import pickle\n",
    "import os\n",
    "from Bio import AlignIO\n",
    "from scipy import stats\n",
    "import concurrent.futures\n",
    "from pathlib import Path\n",
    "from Utils_co_trans import SynonymousCodons, AAs, reverse_dict\n",
    "from tqdm import tqdm\n"
   ]
  },
  {
   "cell_type": "markdown",
   "metadata": {},
   "source": [
    "## Functions"
   ]
  },
  {
   "cell_type": "code",
   "execution_count": 4,
   "metadata": {},
   "outputs": [],
   "source": [
    "def permute_between_pair(aa_array: np.ndarray,codons_array_cur_rand: np.ndarray, pair: np.ndarray, cur_AA:str) -> np.ndarray:\n",
    "    '''\n",
    "    This function takes two columns with the same dominant amino-acid and swaps between synonymous codons coding\n",
    "    for that amino-acid on the same row in the other column. It returns a the MSA in codons, after the randomizations of the two columns. \n",
    "    aa_array: a matrix containing the MSA in AAs (2D numpy array)\n",
    "    codons_array: a matrix containing the MSA in codons (2D numpy array)\n",
    "    pair: the pair of column indices chosen to be permuted (1D numpy array with two elements)\n",
    "    cur_AA: the amino-acid that is dominated in both of these columns (str)\n",
    "    '''\n",
    "    #find positions which have the current AA for both of these columns:\n",
    "    pos_this_pair_this_AA = (aa_array[:,pair[0]] == cur_AA) & (aa_array[:,pair[1]] == cur_AA)\n",
    "    temp_copy = codons_array_cur_rand[:,pair[0]].copy() #save a copy of the original first column\n",
    "    codons_array_cur_rand[:,pair[0]][pos_this_pair_this_AA] = codons_array_cur_rand[:,pair[1]][pos_this_pair_this_AA] #switch the codons in the first random column with the codons in the second random column for this AA\n",
    "    codons_array_cur_rand[:,pair[1]][pos_this_pair_this_AA] = temp_copy[pos_this_pair_this_AA] #switch the codons in the second random column with the codons in the first random column for this AA\n",
    "    return(codons_array_cur_rand)"
   ]
  },
  {
   "cell_type": "code",
   "execution_count": 5,
   "metadata": {},
   "outputs": [],
   "source": [
    "def create_single_randomization(codons_array:np.ndarray, AAs:list, positions_dominant_AA:dict, len_protein:float, aa_array:np.ndarray) -> np.ndarray:\n",
    "    ''' \n",
    "    Create a single randomized MSA. for each amino acid, we choose two columns whose dominant amino acid is the current one and\n",
    "    swap between their synonymous codons. We perform len_protein * 10 swaps for each AA.\n",
    "    '''\n",
    "    codons_array_cur_rand = codons_array.copy()\n",
    "    for cur_AA in AAs:\n",
    "        positions_this_AA = positions_dominant_AA[cur_AA]\n",
    "        if len(positions_this_AA) > 1:\n",
    "            #get all positions of columns for which the current AA is dominant \n",
    "            #we now need to choose random pairs of these columns and then permute synonymous codons between them.\n",
    "            #each time we will choose two columns randomly and permute their codons of this_AA. \n",
    "            #we will do this 10X(len_protein) times\n",
    "            for shuffle in range(int(len_protein * 10)):\n",
    "                pair = np.random.choice(positions_this_AA, 2, replace=False) #choose two columns of this dominant AA, randomly\n",
    "                codons_array_cur_rand = permute_between_pair(aa_array,codons_array_cur_rand,pair,cur_AA)\n",
    "    return(codons_array_cur_rand)\n"
   ]
  },
  {
   "cell_type": "code",
   "execution_count": 6,
   "metadata": {},
   "outputs": [],
   "source": [
    "def compress_rands(randomizations: np.ndarray, codons_array_original:np.ndarray) -> dict:\n",
    "    '''\n",
    "    This function receives the randomizations of the msa of a single gene and the original msa of that gene, and returns \n",
    "    a dictionary with the positions where the randomizations and the original gene differ, and the difference. \n",
    "    Saving only the differences saves a lot of memory.\n",
    "    '''\n",
    "    locations_of_diff = np.where(randomizations != codons_array_original)\n",
    "    codons_of_diff = randomizations[locations_of_diff]\n",
    "    diff_dict = {}\n",
    "    diff_dict['locations'] = locations_of_diff\n",
    "    diff_dict['codons'] = codons_of_diff\n",
    "    return(diff_dict)\n",
    "    "
   ]
  },
  {
   "cell_type": "code",
   "execution_count": 8,
   "metadata": {},
   "outputs": [],
   "source": [
    "def create_randomizations_single_gene(gene:str, num_randomizations:int) -> None:\n",
    "    '''\n",
    "    Create all randomized MSAs for a single gene\n",
    "    '''\n",
    "    try:\n",
    "        #get nt and aa msas of the current gene \n",
    "        path_AA = f\"../co_trans_data/orthologs/aa_after_msa/{gene}.fasta.gz\" #MSA in amino-acids\n",
    "        path_NT = f\"../co_trans_data/orthologs/nt_after_msa/{gene}.fasta.gz\" #MSA in nucleotides\n",
    "        local_aa_path = f\"./{gene}_aa.fasta\"\n",
    "        local_nt_path = f\"./{gene}_nt.fasta\"\n",
    "        !gzip -c -d $path_NT > $local_nt_path \n",
    "        !gzip -c -d $path_AA > $local_aa_path \n",
    "        \n",
    "        alignment_AA = AlignIO.read(local_aa_path, \"fasta\")\n",
    "        aa_array = np.array(alignment_AA) #changing to numpy for code efficiency\n",
    "        alignment_NT = AlignIO.read(local_nt_path, \"fasta\")\n",
    "        os.remove(local_aa_path)\n",
    "        os.remove(local_nt_path)\n",
    "\n",
    "        #create codon array from nucleotide array\n",
    "        nuc_array = np.array(alignment_NT) # an array where each column is a nucleotide position\n",
    "        #lets merge every three columns into one, to obtain a numpy of codon positions instead of nucleotide positions\n",
    "        codons_array = np.zeros((nuc_array.shape[0],nuc_array.shape[1]//3),dtype=object)\n",
    "        for col in range(0,nuc_array.shape[1],3):\n",
    "            merged_to_codon = np.char.add(np.char.add(nuc_array[:,col],nuc_array[:,col+1]),nuc_array[:,col+2]) \n",
    "            codons_array[:,col//3] = merged_to_codon\n",
    "            \n",
    "        #discard positions for which we know the AA but do not know the NTs. \n",
    "        codons_array_translation = codons_array.copy()\n",
    "        for cur_codon in reverse_dict.keys():\n",
    "            codons_array_translation[codons_array_translation == cur_codon] = reverse_dict[cur_codon] #translate codons to AAs\n",
    "        mask = codons_array_translation != aa_array #our translation will not translate \"GCN\" to Ala but \"aa_array\" will have Ala\n",
    "        aa_array[mask] = '-'\n",
    "        codons_array[mask] = '---'\n",
    "\n",
    "        num_organisms,num_positions = aa_array.shape\n",
    "\n",
    "        vals,counts = stats.mode(aa_array) \n",
    "        #vals: a 1D numpy array of length \"num_positions\" (codon positions) holding the dominant amino-acid of each column. *could also be a deletion*\n",
    "        #counts: a 1D numpy array of the same length, indicating how many times the dominant aa appeared in the column.\n",
    "\n",
    "        percent_required_same_AA = 0.5 #take only columns where more than 50% of the organisms have the same AA\n",
    "        percent_in_reality = counts/num_organisms\n",
    "\n",
    "        mask = percent_in_reality > percent_required_same_AA # a 1D boolian vector of length \"num_positions\".\n",
    "        #True indicating columns where the dominant amino-acid is more prevalent than \"percent_required_same_AA\" \n",
    "        vals[~mask] = '-' #we dont care about the AAs that are *less* common than the required threshold\n",
    "\n",
    "        #creating a dictionary that holds the positions where each AA is the dominant AA\n",
    "        positions_dominant_AA = {}\n",
    "        for cur_AA in AAs:\n",
    "            positions_dominant_AA[cur_AA] = np.where(np.isin(vals,cur_AA))[1]\n",
    "            \n",
    "        # creating randomizations of the gene\n",
    "        randomizations = np.zeros((num_randomizations,num_organisms,num_positions),dtype = 'object')\n",
    "        protein_data = pd.read_pickle(f\"../co_trans_data/orthologs/aa_dict/aa_{gene}.pickle.gz\")\n",
    "        len_protein = len(protein_data['data'][0]['homologies'][0]['source']['seq']) \n",
    "        \n",
    "        for cur_rand in range(num_randomizations):\n",
    "            this_rand = create_single_randomization(codons_array,AAs,positions_dominant_AA, len_protein, aa_array)\n",
    "            randomizations[cur_rand,:,:] = this_rand \n",
    "        \n",
    "        #save a dictionary with *the differences* of each randomization from the original msa (memory efficient)\n",
    "        compressed_rands = compress_rands(randomizations, codons_array)\n",
    "            \n",
    "        #save the results of the current gene in a pickle\n",
    "        output_path = f\"../Results/column_permutations/{gene}.pickle\"\n",
    "        with open(output_path, 'wb') as handle:\n",
    "            pickle.dump(compressed_rands, handle)\n",
    "        #zip it\n",
    "        !gzip $output_path\n",
    "        \n",
    "\n",
    "    except Exception as e:\n",
    "        file_object = open(f\"../Results/error_genes_column_permutations.txt\", 'a')\n",
    "        file_object.write(f\"gene {gene} failed with error: {e}\")\n",
    "        file_object.close()\n",
    "\n",
    "            \n",
    "            \n",
    "\n"
   ]
  },
  {
   "cell_type": "code",
   "execution_count": 9,
   "metadata": {},
   "outputs": [],
   "source": [
    "def do_for_single_batch(single_batch_genes: list, num_randomizations:int) -> None:\n",
    "    ''' This function calls \"create_randomizations_single_gene\" sequentialy for each gene in the batch ''' \n",
    "    for gene in single_batch_genes:\n",
    "        create_randomizations_single_gene(gene, num_randomizations)\n",
    "        "
   ]
  },
  {
   "cell_type": "markdown",
   "metadata": {},
   "source": [
    "## Main"
   ]
  },
  {
   "cell_type": "code",
   "execution_count": 12,
   "metadata": {},
   "outputs": [],
   "source": [
    "genes_list = pd.read_pickle('../co_trans_data/genes_for_msa.pickle') \n",
    "\n",
    "'''Create batches of genes'''\n",
    "num_wanted_cpus = 50\n",
    "num_genes = len(genes_list)\n",
    "num_genes_per_batch = int(np.round(num_genes /num_wanted_cpus))\n",
    "batches_of_genes = [genes_list[x:x+num_genes_per_batch] for x in range(0, num_genes, num_genes_per_batch)]\n"
   ]
  },
  {
   "cell_type": "code",
   "execution_count": 13,
   "metadata": {},
   "outputs": [
    {
     "name": "stdout",
     "output_type": "stream",
     "text": [
      "gzip: ../Data/AllGenes/orthologs/aa_after_msa/ENSG00000204403.fasta.gz: No such file or directory\n",
      "gzip: ../Data/AllGenes/orthologs/aa_after_msa/ENSG00000271503.fasta.gz: No such file or directory\n",
      "gzip: ../Data/AllGenes/orthologs/aa_after_msa/ENSG00000172752.fasta.gz: No such file or directory\n",
      "gzip: ../Data/AllGenes/orthologs/aa_after_msa/ENSG00000250913.fasta.gz: No such file or directory\n",
      "gzip: ../Data/AllGenes/orthologs/aa_after_msa/ENSG00000169246.fasta.gz: No such file or directory\n",
      "gzip: ../Data/AllGenes/orthologs/aa_after_msa/ENSG00000146707.fasta.gz: No such file or directory\n",
      "gzip: ../Data/AllGenes/orthologs/aa_after_msa/ENSG00000211454.fasta.gz: No such file or directory\n"
     ]
    }
   ],
   "source": [
    "''' Call the batches parallely '''\n",
    "with concurrent.futures.ProcessPoolExecutor() as executor:\n",
    "    futures = []\n",
    "    for single_batch in batches_of_genes:\n",
    "        futures.append(executor.submit(do_for_single_batch, single_batch_genes = single_batch, num_randomizations = 101))\n",
    "                      "
   ]
  }
 ],
 "metadata": {
  "kernelspec": {
   "display_name": "Python 3",
   "language": "python",
   "name": "python3"
  },
  "language_info": {
   "codemirror_mode": {
    "name": "ipython",
    "version": 3
   },
   "file_extension": ".py",
   "mimetype": "text/x-python",
   "name": "python",
   "nbconvert_exporter": "python",
   "pygments_lexer": "ipython3",
   "version": "3.6.13"
  }
 },
 "nbformat": 4,
 "nbformat_minor": 4
}
