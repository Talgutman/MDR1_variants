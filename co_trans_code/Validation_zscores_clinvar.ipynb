{
 "cells": [
  {
   "cell_type": "markdown",
   "id": "7c6b3db5-1de5-45df-92f5-b1ed57b0e80b",
   "metadata": {},
   "source": [
    "In this notebook we want to examine whether the mutations in positions with extreme mfe are more pathogenic than mutations found in other positions. We will use ClinVar data and keep variants labeled as Pathogenic or Benign. "
   ]
  },
  {
   "cell_type": "markdown",
   "id": "b2dd68d5-0c5b-4a5f-9c6d-69fa88522192",
   "metadata": {},
   "source": [
    "## Imports"
   ]
  },
  {
   "cell_type": "code",
   "execution_count": 1,
   "id": "c2a5d979-d313-4161-9073-c70c7d939c5a",
   "metadata": {},
   "outputs": [],
   "source": [
    "import pandas as pd\n",
    "import numpy as np\n",
    "import pickle\n",
    "import matplotlib.pyplot as plt\n",
    "from typing import Tuple\n",
    "from scipy.stats import hypergeom"
   ]
  },
  {
   "cell_type": "markdown",
   "id": "1e42b050-b350-4672-9d38-ee30f332ee34",
   "metadata": {},
   "source": [
    "## Functions"
   ]
  },
  {
   "cell_type": "code",
   "execution_count": 2,
   "id": "8d6fc4b4-c842-4ea0-882a-a8f878c309f7",
   "metadata": {},
   "outputs": [],
   "source": [
    "def get_scores_parameter_set(measure: str, permutation: str, gene_id: str, mut_start_pos: int) -> Tuple[float, float]:\n",
    "    ''' \n",
    "    For a given paramter set and a given mutation, get its z-score and p-value\n",
    "    '''\n",
    "    path = f\"../Results/z-scores/{gene_id}_{permutation}.pickle\"\n",
    "    df = pd.read_pickle(path)\n",
    "    zscore = df.loc[mut_start_pos][\"z-score\"]\n",
    "    pval = df.loc[mut_start_pos][\"corrected p-value\"]\n",
    "    \n",
    "    return(zscore, pval)\n",
    "   "
   ]
  },
  {
   "cell_type": "code",
   "execution_count": 8,
   "id": "d77253e1-f2c2-447d-9dc0-42251ae326d3",
   "metadata": {},
   "outputs": [],
   "source": [
    "def get_scores_and_pvals(mut_info: dict, gene_protein_dict: dict, cds_chrom_dict: dict) -> Tuple[float, float, float, float, float, float, float, float]:\n",
    "    ''' \n",
    "    Get the z-scores and p-vals of a single ClinVar variant according to all measures \n",
    "    '''\n",
    "    try:\n",
    "    \n",
    "        #basic info of the mutation\n",
    "        mut_start = mut_info[\"Start_Position\"] # 1-based start position, relative to the chromosome\n",
    "        gene_id = mut_info[\"Gene stable ID\"]\n",
    "        protein_id = gene_protein_dict[gene_id]\n",
    "\n",
    "        #map from a 1-based position relative to the chromosome to a 0-based position relative to the cds\n",
    "        cds2chr = cds_chrom_dict[gene_id, protein_id] #mapping cds_pos -> chrm_pos of the current gene. 0-based. \n",
    "        chr2cds = {v: k for k, v in cds2chr.items()} #reverse the dictionary, obtain a mapping of chrm_pos -> cds pos. 0-based. \n",
    "        cds_mut_start = chr2cds[mut_start - 1] #0-based start position relative to the CDS. \n",
    "        aa_mut_start = int(np.floor(cds_mut_start / 3)) #results of CAI are in codons, not nts\n",
    "\n",
    "        #get scores from the dfs. Each protein has a seperate df that containes the scores of each of its cds positions\n",
    "        mfe_ver_zscore, mfe_ver_pval = get_scores_parameter_set(\"mfe\", \"vertical\", gene_id, cds_mut_start)\n",
    "        mfe_col_zscore, mfe_col_pval = get_scores_parameter_set(\"mfe\", \"column\", gene_id, cds_mut_start)\n",
    "\n",
    "        return(mfe_ver_zscore, mfe_ver_pval,\n",
    "               mfe_col_zscore, mfe_col_pval)    \n",
    "    except:\n",
    "        \n",
    "        return(None, None, None, None)"
   ]
  },
  {
   "cell_type": "code",
   "execution_count": null,
   "id": "5b6681a1",
   "metadata": {},
   "outputs": [],
   "source": [
    "def calc_hg_pval(counts_df: pd.DataFrame) -> Tuple[float, float]:\n",
    "    ''' This function calculates a hypergeometric p-value. \n",
    "    \"population_size\" - how many TCGA variants are there? (in our analysis - all SNPs in the CDSs of all genes)\n",
    "    \"total_success\" - how many of these TCGA variants are *not* in 1000G (\"therefore treated as \"non-null\")\n",
    "    \"num_draws\" - how many variants are in our \"sample\"? in our case, how many variants received the lowest / highest\n",
    "    1% of z-scores?\n",
    "    \"observed_success\" - how many of the variants in the sample are *not* in 1000G? \n",
    "    '''\n",
    "    population_size = counts_df[\"Original\"].sum()\n",
    "    total_success = counts_df.loc[False,\"Original\"] \n",
    "    num_draws_low = counts_df[\"Percentile_low\"].sum()\n",
    "    num_draws_high = counts_df[\"Percentile_high\"].sum()\n",
    "\n",
    "    #assert(num_draws == counts_df.loc[\"Percentile99\"].sum())\n",
    "    observed_success_low = counts_df.loc[False,\"Percentile_low\"]\n",
    "    observed_success_high = counts_df.loc[False,\"Percentile_high\"]\n",
    "\n",
    "    \n",
    "    hg_p_low = hypergeom.sf(observed_success_low - 1, population_size, total_success, num_draws_low)\n",
    "    hg_p_high = hypergeom.sf(observed_success_high - 1, population_size, total_success, num_draws_high)\n",
    "    \n",
    "    return(hg_p_low, hg_p_high)"
   ]
  },
  {
   "cell_type": "code",
   "execution_count": 4,
   "id": "fdd4a4a1-2da2-46fa-b430-8b373ec31bc6",
   "metadata": {},
   "outputs": [],
   "source": [
    "def get_patho_benign_ratio(df: pd.DataFrame, measure: str, low_percentile: float, high_percentile: float) -> Tuple[pd.DataFrame, float, float, pd.DataFrame]:\n",
    "    '''\n",
    "    We have the group of all ClinVar variants, and the groups of ClinVar variants with extreme z-scores. \n",
    "    here we check the pathogenic/benign ratios in these groups\n",
    "    '''\n",
    "    df = df[~df[measure].isna()] #for example if we are looking at mfe z-scores - remove mutations that dont have this score\n",
    "    df = df.drop_duplicates(subset=['mut_id']) #some mutations have duplicates with the same scores and they shouldnt count more than once.. \n",
    "    original_ratio = df[\"Clinical significance\"].value_counts() / df[\"Clinical significance\"].shape[0]\n",
    "    \n",
    "    bottom_percentile = np.percentile(df[measure], low_percentile)\n",
    "    top_percentile = np.percentile(df[measure], high_percentile)\n",
    "\n",
    "    df_low = df[df[measure] <= bottom_percentile].copy()\n",
    "    df_high = df[df[measure] >= top_percentile].copy()\n",
    "\n",
    "    ratio_low = df_low[\"Clinical significance\"].value_counts() / df_low[\"Clinical significance\"].shape[0]\n",
    "    ratio_high = df_high[\"Clinical significance\"].value_counts() / df_high[\"Clinical significance\"].shape[0]\n",
    "    \n",
    "    ratios_df = pd.DataFrame()\n",
    "    ratios_df[\"original\"] = original_ratio\n",
    "    ratios_df[\"ratio_low\"] = ratio_low\n",
    "    ratios_df[\"ratio_high\"] = ratio_high\n",
    "    \n",
    "    nums_df = ratios_df * [df.shape[0], df_low.shape[0], df_high.shape[0]]\n",
    "    nums_df = nums_df.astype(int)\n",
    "\n",
    "    hg_p_low, hg_p_high = calc_hg_pval(nums_df)\n",
    "\n",
    "    return(ratios_df, hg_p_low, hg_p_high, nums_df) "
   ]
  },
  {
   "cell_type": "code",
   "execution_count": 6,
   "id": "7d21ca74-f2b2-439b-841b-452008a85d2c",
   "metadata": {},
   "outputs": [],
   "source": [
    "def plot_bar_chart(ratios_df: pd.DataFrame, nums_df: pd.DataFrame, measure: str, low_percentile: float, high_percentile: float) -> None:\n",
    "    ''' \n",
    "    Plot the pathogenic/benign ratios in the three groups and see if there is an enrichement\n",
    "    '''\n",
    "    group_data = np.array([\n",
    "        [ratios_df.loc['Pathogenic', 'original'], ratios_df.loc['Benign', 'original']],\n",
    "        [ratios_df.loc['Pathogenic', 'ratio_low'], ratios_df.loc['Benign', 'ratio_low']],\n",
    "        [ratios_df.loc['Pathogenic', 'ratio_high'], ratios_df.loc['Benign', 'ratio_high']]\n",
    "    ])\n",
    "    \n",
    "    # Calculate the pathogenic ratio and benign ratio for each group\n",
    "    patho_ratio = group_data[:, 0] / group_data.sum(axis=1)\n",
    "    benign_ratio = group_data[:, 1] / group_data.sum(axis=1)\n",
    "\n",
    "    # Create a bar chart with stacked bars for each group\n",
    "    x_labels = [f'original\\n(n = {int(nums_df[\"original\"].sum())})', \n",
    "                f'{low_percentile} percentile\\n(n = {int(nums_df[\"ratio_low\"].sum())})', \n",
    "                f'{high_percentile} percentile\\n(n = {int(nums_df[\"ratio_high\"].sum())})']\n",
    "    x_pos = np.arange(len(x_labels))\n",
    "\n",
    "    fig, ax = plt.subplots()\n",
    "\n",
    "    bar_width = 0.5\n",
    "\n",
    "    # Plot the bars for pathogenic ratio\n",
    "    patho_bars = ax.bar(x_pos, patho_ratio, bar_width, label='Pathogenic', color='blue')\n",
    "\n",
    "    # Add labels for pathogenic ratio on top of the bars\n",
    "    dist_from_bottom = 0.3\n",
    "    for bar in patho_bars:\n",
    "        height = bar.get_height()\n",
    "        ax.text(bar.get_x() + bar.get_width() / 2, dist_from_bottom, f'{height:.2f}', ha='center', color='white')\n",
    "\n",
    "    # Plot the bars for benign ratio\n",
    "    benign_bars = ax.bar(x_pos, benign_ratio, bar_width, label='Benign', color='orange', bottom=patho_ratio)\n",
    "\n",
    "    ax.set_xticks(x_pos)\n",
    "    ax.set_xticklabels(x_labels)\n",
    "\n",
    "    ax.set_ylabel('Ratio')\n",
    "    ax.legend([patho_bars[0], benign_bars[0]], ['Pathogenic', 'Benign'])\n",
    "    \n",
    "    m = \"MFE\" if \"mfe\" in measure else \"CAI\"\n",
    "    perm = \"vertical\" if \"v\" in measure else \"column\"\n",
    "    if \"z\" not in measure:\n",
    "        plt.title(f\"Z-scores obtained with {m}\")\n",
    "    else:\n",
    "        plt.title(f\"Z-scores obtained with {m}, {perm} permutations\")\n",
    "\n",
    "    plt.show()\n",
    "\n"
   ]
  },
  {
   "cell_type": "code",
   "execution_count": 7,
   "id": "ea4d5558-f7f4-4c91-875b-88c0625664b8",
   "metadata": {},
   "outputs": [],
   "source": [
    "def calc_emperical_pval(clinvar_df: pd.DataFrame, measure: str, num_random_groups: int, low_percentile: float, high_percentile: float) -> Tuple[float, float]:\n",
    "    ''' \n",
    "    Create randomizations (choose random ClinVar variants) in the size of the original groups to\n",
    "    obtain an empirical p-value \n",
    "    ''' \n",
    "    clinvar_df = clinvar_df[~clinvar_df[measure].isna()] #remove mutations that don't have a score for the current measure\n",
    "    clinvar_df = clinvar_df.drop_duplicates(subset=['mut_id']) #remove duplicate mutations\n",
    "    \n",
    "    bottom_percentile, top_percentile = np.percentile(clinvar_df[measure], low_percentile), np.percentile(clinvar_df[measure], high_percentile) #calculate \n",
    "    #percentile 1 and 99 for example\n",
    "    \n",
    "    df_low, df_high = clinvar_df[clinvar_df[measure] <= bottom_percentile].copy(),clinvar_df[clinvar_df[measure] >= top_percentile].copy() #get the mutations\n",
    "    #below bottom_percentile and above top_percentile for the current score\n",
    "    \n",
    "    num_muts_low, num_muts_high = df_low.shape[0], df_high.shape[0] # number of mutations in these two groups (should be very similar but not necceserily identical)\n",
    "    num_patho_low, num_patho_high = df_low[\"Clinical significance\"].value_counts()[\"Pathogenic\"] , df_high[\"Clinical significance\"].value_counts()[\"Pathogenic\"] #num \n",
    "    #pathogenic mutations in those groups\n",
    "    \n",
    "    #get the number of pathogenic mutations in randomly chosen groups of the same size:\n",
    "    num_patho_rand_low = np.zeros(num_random_groups)\n",
    "    num_patho_rand_high = np.zeros(num_random_groups)\n",
    "    \n",
    "    for i in range(num_random_groups):\n",
    "        patho_rand_low = clinvar_df.sample(n = num_muts_low)[\"Clinical significance\"].value_counts()[\"Pathogenic\"] #choose randomly a group of size \"num_muts1\"\n",
    "        #and see how many pathogenic mutations are in it \n",
    "        patho_rand_high = clinvar_df.sample(n = num_muts_high)[\"Clinical significance\"].value_counts()[\"Pathogenic\"] \n",
    "        num_patho_rand_low[i] = patho_rand_low #save the scores\n",
    "        num_patho_rand_high[i] = patho_rand_high\n",
    "        \n",
    "    p_val_low = 1 - np.sum(num_patho_rand_low < num_patho_low) / (num_random_groups)\n",
    "    p_val_high = 1 - np.sum(num_patho_rand_high < num_patho_high) / (num_random_groups)\n",
    "    \n",
    "    return(p_val_low, p_val_high)\n",
    " "
   ]
  },
  {
   "cell_type": "markdown",
   "id": "6e74b274-168c-4aaf-ab49-f03498a22696",
   "metadata": {},
   "source": [
    "## Main"
   ]
  },
  {
   "cell_type": "code",
   "execution_count": 3,
   "id": "b3ef43f3-2de2-4b8f-b9fb-3d46f9d5c164",
   "metadata": {},
   "outputs": [],
   "source": [
    "''' Get the variants from ClinVar '''\n",
    "clinvar_df = pd.read_pickle(\"../co_trans_data/ClinVar_processed_df.pickle\")"
   ]
  },
  {
   "cell_type": "code",
   "execution_count": 6,
   "id": "8b80ddc7-5bba-4248-9a64-7d7ea19a6f32",
   "metadata": {},
   "outputs": [],
   "source": [
    "''' Get needed variables to map the \"mut_start\" to  a position on the gene's cds sequence '''\n",
    "\n",
    "# a dictionary that maps the gene ids to the protein ids that we used: \n",
    "gene_protein_dict = pd.read_pickle(\"../co_trans_data/gene_protein_dict.pickle\") #map between the gene to the protein id used by ensembl\n",
    "\n",
    "# a dictionary that maps the cds positions to the chromosome positions of our genes\n",
    "cds_to_chrom_dict = pd.read_pickle(\"../co_trans_data/cds_to_chrom_dict_with_protein_id.pickle\") #dictionary mapping between CDS to chromosome positions\n"
   ]
  },
  {
   "cell_type": "code",
   "execution_count": 155,
   "id": "33cd1a1f-a5d1-461b-a060-d6bb91c12b19",
   "metadata": {},
   "outputs": [],
   "source": [
    "''' get the z-scores and p-vals for all variants on ClinVar, and save it'''\n",
    "\n",
    "clinvar_df[[\"mfe_v_z\",\"mfe_v_p\",\n",
    "            \"mfe_c_z\",\"mfe_c_p\"]] = clinvar_df.apply(lambda x: pd.Series(get_scores_and_pvals(x, gene_protein_dict, cds_to_chrom_dict)), axis = 1)\n",
    "\n",
    "with open('../Results/validation/clinvar_df_with_zscores_pvals', 'wb') as handle:\n",
    "    pickle.dump(clinvar_df, handle, protocol=3)\n"
   ]
  }
 ],
 "metadata": {
  "kernelspec": {
   "display_name": "Python 3",
   "language": "python",
   "name": "python3"
  },
  "language_info": {
   "codemirror_mode": {
    "name": "ipython",
    "version": 3
   },
   "file_extension": ".py",
   "mimetype": "text/x-python",
   "name": "python",
   "nbconvert_exporter": "python",
   "pygments_lexer": "ipython3",
   "version": "3.6.13"
  }
 },
 "nbformat": 4,
 "nbformat_minor": 5
}
