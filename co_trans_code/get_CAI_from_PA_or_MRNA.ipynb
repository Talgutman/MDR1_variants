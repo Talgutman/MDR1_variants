{
 "cells": [
  {
   "cell_type": "markdown",
   "metadata": {},
   "source": [
    "In order to claculate the CAI weights we need to find a group of HEG (Highly expressed genes) for each of our organizms. We will get protein abundance measurements for organisms that have them (from PAXdb). \n",
    "Then, for those who don not,  we will get mRNA abundance levels for those who have them (expression atlas). \n",
    "For oganisms who do not have PA or MRNA measurements we will compute ENC to get HEG, in the notebook \"get_CAI_from_ENC.ipynb\". The CAI weights for all organisms are saved in \"../Results/codon_usage_tables/\". \n",
    "\n",
    "*this notebook was ran on my local computer, not power*\n"
   ]
  },
  {
   "cell_type": "markdown",
   "metadata": {},
   "source": [
    "## Imports"
   ]
  },
  {
   "cell_type": "code",
   "execution_count": 1,
   "metadata": {},
   "outputs": [],
   "source": [
    "import pandas as pd\n",
    "import os\n",
    "import re\n",
    "import mygene\n",
    "import requests, sys\n",
    "from tqdm import tqdm\n",
    "import numpy as np\n",
    "from CAI import CAI, relative_adaptiveness\n",
    "import pickle\n",
    "import xlrd\n",
    "from Bio import SeqIO\n",
    "import re\n",
    "\n"
   ]
  },
  {
   "cell_type": "markdown",
   "metadata": {},
   "source": [
    "## Get a list of all species:"
   ]
  },
  {
   "cell_type": "code",
   "execution_count": 2,
   "metadata": {},
   "outputs": [],
   "source": [
    "species = []\n",
    "for filename in os.listdir(\"../Data/orthologs_df_per_gene\"):\n",
    "    cur_df = pd.read_pickle('../Data/orthologs_df_per_gene/'+filename)\n",
    "    cur_species = cur_df['species'].to_list()\n",
    "    species.extend(cur_species)\n"
   ]
  },
  {
   "cell_type": "code",
   "execution_count": 3,
   "metadata": {},
   "outputs": [
    {
     "data": {
      "text/plain": [
       "283"
      ]
     },
     "execution_count": 3,
     "metadata": {},
     "output_type": "execute_result"
    }
   ],
   "source": [
    "# we have a total of 283 species in our data!\n",
    "len(list(set(species)))"
   ]
  },
  {
   "cell_type": "code",
   "execution_count": 206,
   "metadata": {},
   "outputs": [
    {
     "data": {
      "text/plain": [
       "['acanthochromis_polyacanthus',\n",
       " 'accipiter_nisus',\n",
       " 'ailuropoda_melanoleuca',\n",
       " 'amazona_collaria',\n",
       " 'amphilophus_citrinellus',\n",
       " 'amphiprion_ocellaris',\n",
       " 'amphiprion_percula',\n",
       " 'anabas_testudineus',\n",
       " 'anas_platyrhynchos',\n",
       " 'anas_platyrhynchos_platyrhynchos',\n",
       " 'anas_zonorhyncha',\n",
       " 'anolis_carolinensis',\n",
       " 'anser_brachyrhynchus',\n",
       " 'anser_cygnoides',\n",
       " 'aotus_nancymaae',\n",
       " 'apteryx_haastii',\n",
       " 'apteryx_owenii',\n",
       " 'apteryx_rowi',\n",
       " 'aquila_chrysaetos_chrysaetos',\n",
       " 'astatotilapia_calliptera',\n",
       " 'astyanax_mexicanus',\n",
       " 'astyanax_mexicanus_pachon',\n",
       " 'athene_cunicularia',\n",
       " 'balaenoptera_musculus',\n",
       " 'betta_splendens',\n",
       " 'bison_bison_bison',\n",
       " 'bos_grunniens',\n",
       " 'bos_indicus_hybrid',\n",
       " 'bos_mutus',\n",
       " 'bos_taurus',\n",
       " 'bos_taurus_hybrid',\n",
       " 'bubo_bubo',\n",
       " 'buteo_japonicus',\n",
       " 'caenorhabditis_elegans',\n",
       " 'cairina_moschata_domestica',\n",
       " 'calidris_pugnax',\n",
       " 'calidris_pygmaea',\n",
       " 'callithrix_jacchus',\n",
       " 'callorhinchus_milii',\n",
       " 'camarhynchus_parvulus',\n",
       " 'camelus_dromedarius',\n",
       " 'canis_lupus_dingo',\n",
       " 'canis_lupus_familiaris',\n",
       " 'canis_lupus_familiarisbasenji',\n",
       " 'canis_lupus_familiarisgreatdane',\n",
       " 'capra_hircus',\n",
       " 'capra_hircus_blackbengal',\n",
       " 'carassius_auratus',\n",
       " 'carlito_syrichta',\n",
       " 'castor_canadensis',\n",
       " 'catagonus_wagneri',\n",
       " 'catharus_ustulatus',\n",
       " 'cavia_aperea',\n",
       " 'cavia_porcellus',\n",
       " 'cebus_capucinus',\n",
       " 'cercocebus_atys',\n",
       " 'cervus_hanglu_yarkandensis',\n",
       " 'chelonoidis_abingdonii',\n",
       " 'chelydra_serpentina',\n",
       " 'chinchilla_lanigera',\n",
       " 'chlorocebus_sabaeus',\n",
       " 'choloepus_hoffmanni',\n",
       " 'chrysemys_picta_bellii',\n",
       " 'chrysolophus_pictus',\n",
       " 'ciona_intestinalis',\n",
       " 'ciona_savignyi',\n",
       " 'clupea_harengus',\n",
       " 'colobus_angolensis_palliatus',\n",
       " 'corvus_moneduloides',\n",
       " 'cottoperca_gobio',\n",
       " 'coturnix_japonica',\n",
       " 'cricetulus_griseus_chok1gshd',\n",
       " 'cricetulus_griseus_crigri',\n",
       " 'cricetulus_griseus_picr',\n",
       " 'crocodylus_porosus',\n",
       " 'cyanistes_caeruleus',\n",
       " 'cyclopterus_lumpus',\n",
       " 'cynoglossus_semilaevis',\n",
       " 'cyprinodon_variegatus',\n",
       " 'cyprinus_carpio',\n",
       " 'cyprinus_carpio_germanmirror',\n",
       " 'cyprinus_carpio_hebaored',\n",
       " 'cyprinus_carpio_huanghe',\n",
       " 'danio_rerio',\n",
       " 'dasypus_novemcinctus',\n",
       " 'delphinapterus_leucas',\n",
       " 'denticeps_clupeoides',\n",
       " 'dicentrarchus_labrax',\n",
       " 'dipodomys_ordii',\n",
       " 'dromaius_novaehollandiae',\n",
       " 'drosophila_melanogaster',\n",
       " 'echeneis_naucrates',\n",
       " 'echinops_telfairi',\n",
       " 'electrophorus_electricus',\n",
       " 'eptatretus_burgeri',\n",
       " 'equus_asinus_asinus',\n",
       " 'equus_caballus',\n",
       " 'erinaceus_europaeus',\n",
       " 'erpetoichthys_calabaricus',\n",
       " 'erythrura_gouldiae',\n",
       " 'esox_lucius',\n",
       " 'falco_tinnunculus',\n",
       " 'felis_catus',\n",
       " 'ficedula_albicollis',\n",
       " 'fukomys_damarensis',\n",
       " 'fundulus_heteroclitus',\n",
       " 'gadus_morhua',\n",
       " 'gallus_gallus',\n",
       " 'gambusia_affinis',\n",
       " 'gasterosteus_aculeatus',\n",
       " 'geospiza_fortis',\n",
       " 'gopherus_agassizii',\n",
       " 'gopherus_evgoodei',\n",
       " 'gorilla_gorilla',\n",
       " 'gouania_willdenowi',\n",
       " 'haplochromis_burtoni',\n",
       " 'heterocephalus_glaber_female',\n",
       " 'heterocephalus_glaber_male',\n",
       " 'hippocampus_comes',\n",
       " 'homo_sapiens',\n",
       " 'hucho_hucho',\n",
       " 'ictalurus_punctatus',\n",
       " 'ictidomys_tridecemlineatus',\n",
       " 'jaculus_jaculus',\n",
       " 'junco_hyemalis',\n",
       " 'kryptolebias_marmoratus',\n",
       " 'labrus_bergylta',\n",
       " 'larimichthys_crocea',\n",
       " 'lates_calcarifer',\n",
       " 'laticauda_laticaudata',\n",
       " 'latimeria_chalumnae',\n",
       " 'lepidothrix_coronata',\n",
       " 'lepisosteus_oculatus',\n",
       " 'leptobrachium_leishanense',\n",
       " 'lonchura_striata_domestica',\n",
       " 'loxodonta_africana',\n",
       " 'lynx_canadensis',\n",
       " 'macaca_fascicularis',\n",
       " 'macaca_mulatta',\n",
       " 'macaca_nemestrina',\n",
       " 'malurus_cyaneus_samueli',\n",
       " 'manacus_vitellinus',\n",
       " 'mandrillus_leucophaeus',\n",
       " 'marmota_marmota_marmota',\n",
       " 'mastacembelus_armatus',\n",
       " 'maylandia_zebra',\n",
       " 'meleagris_gallopavo',\n",
       " 'melopsittacus_undulatus',\n",
       " 'meriones_unguiculatus',\n",
       " 'mesocricetus_auratus',\n",
       " 'microcebus_murinus',\n",
       " 'microtus_ochrogaster',\n",
       " 'mola_mola',\n",
       " 'monodelphis_domestica',\n",
       " 'monodon_monoceros',\n",
       " 'monopterus_albus',\n",
       " 'moschus_moschiferus',\n",
       " 'mus_caroli',\n",
       " 'mus_musculus',\n",
       " 'mus_pahari',\n",
       " 'mus_spicilegus',\n",
       " 'mus_spretus',\n",
       " 'mustela_putorius_furo',\n",
       " 'myotis_lucifugus',\n",
       " 'myripristis_murdjan',\n",
       " 'naja_naja',\n",
       " 'nannospalax_galili',\n",
       " 'neogobius_melanostomus',\n",
       " 'neolamprologus_brichardi',\n",
       " 'neovison_vison',\n",
       " 'nomascus_leucogenys',\n",
       " 'notamacropus_eugenii',\n",
       " 'notechis_scutatus',\n",
       " 'nothobranchius_furzeri',\n",
       " 'nothoprocta_perdicaria',\n",
       " 'numida_meleagris',\n",
       " 'ochotona_princeps',\n",
       " 'octodon_degus',\n",
       " 'oncorhynchus_kisutch',\n",
       " 'oncorhynchus_mykiss',\n",
       " 'oncorhynchus_tshawytscha',\n",
       " 'oreochromis_aureus',\n",
       " 'oreochromis_niloticus',\n",
       " 'ornithorhynchus_anatinus',\n",
       " 'oryctolagus_cuniculus',\n",
       " 'oryzias_javanicus',\n",
       " 'oryzias_latipes',\n",
       " 'oryzias_latipes_hni',\n",
       " 'oryzias_latipes_hsok',\n",
       " 'oryzias_melastigma',\n",
       " 'oryzias_sinensis',\n",
       " 'otolemur_garnettii',\n",
       " 'otus_sunia',\n",
       " 'ovis_aries',\n",
       " 'ovis_aries_rambouillet',\n",
       " 'pan_paniscus',\n",
       " 'pan_troglodytes',\n",
       " 'panthera_leo',\n",
       " 'panthera_pardus',\n",
       " 'panthera_tigris_altaica',\n",
       " 'papio_anubis',\n",
       " 'parambassis_ranga',\n",
       " 'paramormyrops_kingsleyae',\n",
       " 'parus_major',\n",
       " 'pavo_cristatus',\n",
       " 'pelodiscus_sinensis',\n",
       " 'pelusios_castaneus',\n",
       " 'periophthalmus_magnuspinnatus',\n",
       " 'peromyscus_maniculatus_bairdii',\n",
       " 'petromyzon_marinus',\n",
       " 'phascolarctos_cinereus',\n",
       " 'phasianus_colchicus',\n",
       " 'phocoena_sinus',\n",
       " 'physeter_catodon',\n",
       " 'piliocolobus_tephrosceles',\n",
       " 'podarcis_muralis',\n",
       " 'poecilia_formosa',\n",
       " 'poecilia_latipinna',\n",
       " 'poecilia_mexicana',\n",
       " 'poecilia_reticulata',\n",
       " 'pogona_vitticeps',\n",
       " 'pongo_abelii',\n",
       " 'procavia_capensis',\n",
       " 'prolemur_simus',\n",
       " 'propithecus_coquereli',\n",
       " 'pseudonaja_textilis',\n",
       " 'pteropus_vampyrus',\n",
       " 'pundamilia_nyererei',\n",
       " 'pygocentrus_nattereri',\n",
       " 'rattus_norvegicus',\n",
       " 'rhinolophus_ferrumequinum',\n",
       " 'rhinopithecus_bieti',\n",
       " 'rhinopithecus_roxellana',\n",
       " 'saccharomyces_cerevisiae',\n",
       " 'saimiri_boliviensis_boliviensis',\n",
       " 'salarias_fasciatus',\n",
       " 'salmo_salar',\n",
       " 'salmo_trutta',\n",
       " 'salvator_merianae',\n",
       " 'sander_lucioperca',\n",
       " 'sarcophilus_harrisii',\n",
       " 'sciurus_vulgaris',\n",
       " 'scleropages_formosus',\n",
       " 'scophthalmus_maximus',\n",
       " 'serinus_canaria',\n",
       " 'seriola_dumerili',\n",
       " 'seriola_lalandi_dorsalis',\n",
       " 'sinocyclocheilus_anshuiensis',\n",
       " 'sinocyclocheilus_grahami',\n",
       " 'sinocyclocheilus_rhinocerous',\n",
       " 'sorex_araneus',\n",
       " 'sparus_aurata',\n",
       " 'spermophilus_dauricus',\n",
       " 'sphaeramia_orbicularis',\n",
       " 'sphenodon_punctatus',\n",
       " 'stachyris_ruficeps',\n",
       " 'stegastes_partitus',\n",
       " 'strigops_habroptila',\n",
       " 'strix_occidentalis_caurina',\n",
       " 'struthio_camelus_australis',\n",
       " 'suricata_suricatta',\n",
       " 'sus_scrofa',\n",
       " 'taeniopygia_guttata',\n",
       " 'takifugu_rubripes',\n",
       " 'terrapene_carolina_triunguis',\n",
       " 'tetraodon_nigroviridis',\n",
       " 'theropithecus_gelada',\n",
       " 'tupaia_belangeri',\n",
       " 'tursiops_truncatus',\n",
       " 'urocitellus_parryii',\n",
       " 'ursus_americanus',\n",
       " 'ursus_maritimus',\n",
       " 'ursus_thibetanus_thibetanus',\n",
       " 'varanus_komodoensis',\n",
       " 'vicugna_pacos',\n",
       " 'vombatus_ursinus',\n",
       " 'vulpes_vulpes',\n",
       " 'xenopus_tropicalis',\n",
       " 'xiphophorus_couchianus',\n",
       " 'xiphophorus_maculatus',\n",
       " 'zalophus_californianus',\n",
       " 'zonotrichia_albicollis',\n",
       " 'zosterops_lateralis_melanops']"
      ]
     },
     "execution_count": 206,
     "metadata": {},
     "output_type": "execute_result"
    }
   ],
   "source": [
    "unique_species = list(set(species))\n",
    "list(np.sort(unique_species))"
   ]
  },
  {
   "cell_type": "markdown",
   "metadata": {},
   "source": [
    "## Get CUB wieghts for organisms with known PA levels (downloaded from PAXdb):"
   ]
  },
  {
   "cell_type": "code",
   "execution_count": 358,
   "metadata": {},
   "outputs": [],
   "source": [
    "# get top 15% proteins-\n",
    "data = pd.read_csv('../Data/codon_usage/PA/sus_scrofa.txt', skiprows = 11, sep = '\\t')\n",
    "data = data.sort_values(by = ['abundance'], ascending = False)"
   ]
  },
  {
   "cell_type": "code",
   "execution_count": 359,
   "metadata": {},
   "outputs": [],
   "source": [
    "threshold = data['abundance'].quantile(.85)"
   ]
  },
  {
   "cell_type": "code",
   "execution_count": 360,
   "metadata": {},
   "outputs": [],
   "source": [
    "highly_expressed_proteins = data[data['abundance'] >= threshold]['string_external_id']"
   ]
  },
  {
   "cell_type": "code",
   "execution_count": 361,
   "metadata": {},
   "outputs": [
    {
     "data": {
      "text/plain": [
       "444"
      ]
     },
     "execution_count": 361,
     "metadata": {},
     "output_type": "execute_result"
    }
   ],
   "source": [
    "len(highly_expressed_proteins)"
   ]
  },
  {
   "cell_type": "code",
   "execution_count": 364,
   "metadata": {},
   "outputs": [],
   "source": [
    "def retrieve_ensembl_id(ID):\n",
    "    match = re.search(\"\\.(.*)\", ID)\n",
    "    wanted = match[1]\n",
    "    return(wanted)"
   ]
  },
  {
   "cell_type": "code",
   "execution_count": 365,
   "metadata": {},
   "outputs": [],
   "source": [
    "ensemble_ids = highly_expressed_proteins.apply(lambda x: retrieve_ensembl_id(x)).to_list()"
   ]
  },
  {
   "cell_type": "markdown",
   "metadata": {},
   "source": [
    "Now we have the protein ids, and we need their sequence *in nucleotides*.For some reason we can't retrieve this from Ensemble directly,\n",
    "we need to convert to transcripts and then take their cds seqence. "
   ]
  },
  {
   "cell_type": "code",
   "execution_count": 366,
   "metadata": {},
   "outputs": [
    {
     "name": "stdout",
     "output_type": "stream",
     "text": [
      "querying 1-444...done.\n",
      "Finished.\n",
      "2 input query terms found dup hits:\n",
      "\t[('ENSSSCP00000013714', 2), ('ENSSSCP00000000402', 2)]\n",
      "106 input query terms found no hit:\n",
      "\t['ENSSSCP00000021419', 'ENSSSCP00000006164', 'ENSSSCP00000025444', 'ENSSSCP00000021888', 'ENSSSCP000\n"
     ]
    }
   ],
   "source": [
    "# convert from protein ids to transcrpit ids\n",
    "# PROBLEM: there are multiple transcripts related to the same protein because of differences in the UTR. \n",
    "#fortunatly, this doesnt matter to us here as we only want the cds. \n",
    "mg = mygene.MyGeneInfo()\n",
    "out = mg.querymany(ensemble_ids, scopes='ensembl.protein', fields='ensembl.transcript',returnall=True)\n"
   ]
  },
  {
   "cell_type": "code",
   "execution_count": 367,
   "metadata": {},
   "outputs": [
    {
     "name": "stderr",
     "output_type": "stream",
     "text": [
      "100%|██████████| 446/446 [00:56<00:00,  7.90it/s]\n"
     ]
    }
   ],
   "source": [
    "cds_df = pd.DataFrame(columns = [\"protein_id\",\"transcript_id\",\"cds_sequence\"])\n",
    "for ind in tqdm(range(0,len(out['out']))):\n",
    "    try:\n",
    "        transcript_id = out['out'][ind]['ensembl']['transcript']\n",
    "        if isinstance(transcript_id, list): #it's str only if there is a single tranascript\n",
    "            transcript_id = transcript_id[0]#taking the first transcript of the protein. It is the main, \n",
    "            #most common one and also they are all supposed to have the same cds sequences. \n",
    "        \n",
    "        server = \"https://rest.ensembl.org\"\n",
    "        ext = \"/sequence/id/\"+transcript_id+\"?type=cds\"\n",
    " \n",
    "        r = requests.get(server+ext, headers={ \"Content-Type\" : \"application/json\"})\n",
    "        decoded = r.json()\n",
    "        \n",
    "        cds_df.loc[ind] = [out['out'][ind]['query'], transcript_id, decoded['seq']]\n",
    "\n",
    "    except:\n",
    "        try:\n",
    "            cds_df.loc[ind] = [out['out'][ind]['query'],transcript_id, np.NaN] #genes that have  transcript id but do not have a sequence in ENSEMBL\n",
    "        except:\n",
    "            cds_df.loc[ind] = [out['out'][ind]['query'],np.NaN, np.NaN] #genes that dont have a transcript in ENSEMBL\n"
   ]
  },
  {
   "cell_type": "code",
   "execution_count": 369,
   "metadata": {},
   "outputs": [
    {
     "name": "stdout",
     "output_type": "stream",
     "text": [
      "(68, 4)\n"
     ]
    }
   ],
   "source": [
    "cds_df_with_seqs = cds_df[~cds_df['cds_sequence'].isna()].copy()\n",
    "cds_df_with_seqs['remainder_devision_3'] = cds_df_with_seqs['cds_sequence'].apply(lambda x: len(x)%3) #check for errors on cds length\n",
    "cds_df_with_seqs = cds_df_with_seqs[cds_df_with_seqs['remainder_devision_3'] == 0] #taking only cds's that can be devided by three\n",
    "print(cds_df_with_seqs.shape) #see if we are left with enough sequences for the analysis to be significant\n",
    "seqs = cds_df_with_seqs['cds_sequence'].to_list()"
   ]
  },
  {
   "cell_type": "code",
   "execution_count": 370,
   "metadata": {},
   "outputs": [],
   "source": [
    "weights = relative_adaptiveness(sequences=seqs)"
   ]
  },
  {
   "cell_type": "code",
   "execution_count": 372,
   "metadata": {},
   "outputs": [],
   "source": [
    "with open('../Results/codon_usage_tables/sus_scrofa.pickle', 'wb') as handle:\n",
    "    pickle.dump(weights, handle, protocol=pickle.HIGHEST_PROTOCOL)"
   ]
  },
  {
   "cell_type": "markdown",
   "metadata": {},
   "source": [
    "## Get CUB wieghts for organisms with known mRNA levels (downloaded from the Expression Atlas):"
   ]
  },
  {
   "cell_type": "code",
   "execution_count": 4,
   "metadata": {},
   "outputs": [],
   "source": [
    "# get top 15% mRNAs-\n",
    "data = pd.read_csv('../Data/codon_usage/MRNA/ovis_aries.tsv', skiprows = 4, sep = '\\t')\n",
    "data = data.drop(columns=['Gene Name'])\n",
    "data = data.set_index(['Gene ID'])\n",
    "data[data.isna()] = 0\n",
    "data['averge'] = data.mean(axis=1)\n",
    "data = data.sort_values(by = ['averge'], ascending = False)"
   ]
  },
  {
   "cell_type": "code",
   "execution_count": 5,
   "metadata": {},
   "outputs": [],
   "source": [
    "threshold = data['averge'].quantile(.85)"
   ]
  },
  {
   "cell_type": "code",
   "execution_count": 6,
   "metadata": {},
   "outputs": [],
   "source": [
    "highly_expressed_genes = data[data['averge'] >= threshold].index.to_list()"
   ]
  },
  {
   "cell_type": "code",
   "execution_count": 7,
   "metadata": {},
   "outputs": [
    {
     "name": "stderr",
     "output_type": "stream",
     "text": [
      "100%|██████████| 3073/3073 [2:01:31<00:00,  2.37s/it]  \n"
     ]
    }
   ],
   "source": [
    "cds_df = pd.DataFrame(columns = [\"gene_id\",\"cds_sequence\"])\n",
    "for ind in tqdm(range(0,len(highly_expressed_genes))):\n",
    "    gene_id = highly_expressed_genes[ind]\n",
    "    try:        \n",
    "        server = \"https://rest.ensembl.org\"\n",
    "        ext = \"/sequence/id/\"+gene_id+\"?type=cds\"\n",
    " \n",
    "        r = requests.get(server+ext, headers={ \"Content-Type\" : \"application/json\"})\n",
    "        decoded = r.json()\n",
    "        \n",
    "        cds_df.loc[ind] = [gene_id, decoded['seq']]\n",
    "\n",
    "    except:\n",
    "            cds_df.loc[ind] = [gene_id, np.NaN] #genes that have  transcript id but do not have a sequence in ENSEMBL\n",
    "        "
   ]
  },
  {
   "cell_type": "code",
   "execution_count": 13,
   "metadata": {},
   "outputs": [
    {
     "data": {
      "text/plain": [
       "(3073, 2)"
      ]
     },
     "execution_count": 13,
     "metadata": {},
     "output_type": "execute_result"
    }
   ],
   "source": [
    "cds_df.shape"
   ]
  },
  {
   "cell_type": "code",
   "execution_count": 14,
   "metadata": {},
   "outputs": [
    {
     "name": "stdout",
     "output_type": "stream",
     "text": [
      "(2729, 3)\n"
     ]
    }
   ],
   "source": [
    "cds_df_with_seqs = cds_df[~cds_df['cds_sequence'].isna()].copy()\n",
    "cds_df_with_seqs['remainder_devision_3'] = cds_df_with_seqs['cds_sequence'].apply(lambda x: len(x)%3) #check for errors on cds length\n",
    "cds_df_with_seqs = cds_df_with_seqs[cds_df_with_seqs['remainder_devision_3'] == 0] #taking only cds's that can be devided by three\n",
    "print(cds_df_with_seqs.shape) #see if we are left with enough sequences for the analysis to be significant\n",
    "seqs = cds_df_with_seqs['cds_sequence'].to_list()"
   ]
  },
  {
   "cell_type": "code",
   "execution_count": 15,
   "metadata": {},
   "outputs": [],
   "source": [
    "weights = relative_adaptiveness(sequences=seqs)"
   ]
  },
  {
   "cell_type": "code",
   "execution_count": 16,
   "metadata": {},
   "outputs": [],
   "source": [
    "with open('../Results/codon_usage_tables/ovis_aries.pickle', 'wb') as handle:\n",
    "    pickle.dump(weights, handle, protocol=pickle.HIGHEST_PROTOCOL)"
   ]
  }
 ],
 "metadata": {
  "kernelspec": {
   "display_name": "Python 3",
   "language": "python",
   "name": "python3"
  },
  "language_info": {
   "codemirror_mode": {
    "name": "ipython",
    "version": 3
   },
   "file_extension": ".py",
   "mimetype": "text/x-python",
   "name": "python",
   "nbconvert_exporter": "python",
   "pygments_lexer": "ipython3",
   "version": "3.6.13"
  }
 },
 "nbformat": 4,
 "nbformat_minor": 4
}
