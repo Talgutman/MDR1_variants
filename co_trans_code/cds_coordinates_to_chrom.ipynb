{
 "cells": [
  {
   "cell_type": "markdown",
   "metadata": {},
   "source": [
    "In this notebook we create a mapping between CDS-relative positions and genome relative positions. \n",
    "Our mfe z-scores are saved in CDS-relative positions and many times we are asked about a specific genomic positions. "
   ]
  },
  {
   "cell_type": "markdown",
   "metadata": {},
   "source": [
    "## Imports"
   ]
  },
  {
   "cell_type": "code",
   "execution_count": 1,
   "metadata": {},
   "outputs": [],
   "source": [
    "import pandas as pd\n",
    "import numpy as np\n",
    "import os, sys, re\n",
    "import pickle5 as pickle\n",
    "import matplotlib.pyplot as plt\n",
    "import glob\n",
    "import pyranges as pr\n",
    "from Bio import SeqIO\n",
    "from tqdm import tqdm\n",
    "import json\n"
   ]
  },
  {
   "cell_type": "markdown",
   "metadata": {},
   "source": [
    "## Functions"
   ]
  },
  {
   "cell_type": "code",
   "execution_count": 2,
   "metadata": {},
   "outputs": [],
   "source": [
    "def get_range(cds_part_start:int, cds_part_end:int):\n",
    "    '''\n",
    "    In this function we take the start and end of the current part of the cds and return all the positions in the range\n",
    "    '''\n",
    "    return(list(range(cds_part_start,cds_part_end)))\n",
    "    "
   ]
  },
  {
   "cell_type": "markdown",
   "metadata": {},
   "source": [
    "## Main"
   ]
  },
  {
   "cell_type": "code",
   "execution_count": 9,
   "metadata": {},
   "outputs": [],
   "source": [
    "''' use GTF annotation file for genes in GRCh38 to get the cds positions of each gene '''\n",
    "\n",
    "annotations_file = \"../co_trans_data/Homo_sapiens.GRCh38.104.gtf\"\n",
    "\n",
    "gr = pr.read_gtf(annotations_file) #this line reads the gtf file and also *changes coordinates from 1-based to 0-based\n",
    "ano_df = gr.df\n",
    "\n",
    "'''\n",
    "keep only CDSs\n",
    "'''\n",
    "ano_df = ano_df[ano_df['Feature'] == 'CDS'].copy()\n",
    "ano_df = ano_df[['Start','End','Strand','protein_id','exon_number','gene_id','gene_name']] #keep only relevant columns\n"
   ]
  },
  {
   "cell_type": "code",
   "execution_count": null,
   "metadata": {
    "tags": []
   },
   "outputs": [],
   "source": [
    "'''\n",
    "We will create a mapping between cds positions relative to the cds and relative to the chromosome. The keys will be\n",
    "the positions relative to the cds and the values the positions relative to the chromosome.\n",
    "For example, for a gene on the forward strand:\n",
    "if the cds is from position 300 to 310 (including) on the chromosome, then dict[0] = 300 and dict[11] = 310.\n",
    "For a gene on the reverse starnd that is from 300 to 310 then dict[0] = 310 and dict[11] = 300. \n",
    "'''\n",
    "cds_to_chrom = {} \n",
    "\n",
    "for gene_id,protein_id in genes_dict.keys():    \n",
    "    \n",
    "    try:     \n",
    "        this_cds = ano_df[(ano_df['gene_id'] == gene_id) & (ano_df['protein_id'] == protein_id)].copy() #get the cds parts of the ccds\n",
    "        if this_cds.shape[0] != 0:\n",
    "            cds_positions = this_cds.apply(lambda x: get_range(x.Start, x.End), axis=1) #get the cds positions relative to the chromosome\n",
    "            cds_positions = cds_positions.sum() #turn to one list containing all cds positions relative to the chromosome - ascending order\n",
    "\n",
    "            strand = this_cds.iloc[0]['Strand'] #info in \"Strand\" will be the same for all parts of the CDS so we can look at the first line\n",
    "            if strand == '-':\n",
    "                cds_positions.sort(reverse=True)\n",
    "            cds_pos_dict = {} # create a dictionary for this specific cds\n",
    "            for rel_cds, rel_chrom in enumerate(cds_positions):\n",
    "                cds_pos_dict[rel_cds] = rel_chrom\n",
    "            cds_to_chrom[gene_id,protein_id] = cds_pos_dict  \n",
    "    \n",
    "    except Exception as e:\n",
    "        print(f\"gene {gene_id} failed with error: {e}\")\n",
    "        \n",
    "        \n"
   ]
  },
  {
   "cell_type": "markdown",
   "metadata": {},
   "source": [
    "## Save the dictionary"
   ]
  },
  {
   "cell_type": "code",
   "execution_count": 206,
   "metadata": {},
   "outputs": [],
   "source": [
    "data_path = \"../co_trans_data/cds_to_chrom_dict_with_protein_id.pickle\"\n",
    "with open(data_path, 'wb') as handle:\n",
    "    pickle.dump(cds_to_chrom, handle, protocol=pickle.HIGHEST_PROTOCOL)\n"
   ]
  }
 ],
 "metadata": {
  "kernelspec": {
   "display_name": "Python 3",
   "language": "python",
   "name": "python3"
  },
  "language_info": {
   "codemirror_mode": {
    "name": "ipython",
    "version": 3
   },
   "file_extension": ".py",
   "mimetype": "text/x-python",
   "name": "python",
   "nbconvert_exporter": "python",
   "pygments_lexer": "ipython3",
   "version": "3.6.13"
  }
 },
 "nbformat": 4,
 "nbformat_minor": 4
}
