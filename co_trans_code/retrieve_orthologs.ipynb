{
 "cells": [
  {
   "cell_type": "markdown",
   "metadata": {},
   "source": [
    "In this notebook we download orthologus sequences for all the human protein-coding genes from Ensembl using their REST API (Downloaded in June, 2022)"
   ]
  },
  {
   "cell_type": "code",
   "execution_count": 8,
   "metadata": {
    "tags": []
   },
   "outputs": [],
   "source": [
    "import requests, sys\n",
    "import numpy as np\n",
    "import pandas as pd\n",
    "import re\n",
    "from tqdm import tqdm\n",
    "import pickle\n",
    "import matplotlib.pyplot as plt\n",
    "import concurrent.futures\n",
    "from os import listdir\n",
    "from os.path import isfile, join\n",
    "from typing import Dict, Tuple\n"
   ]
  },
  {
   "cell_type": "code",
   "execution_count": 7,
   "metadata": {},
   "outputs": [],
   "source": [
    "''' Get list of genes (all human protein coding genes)'''\n",
    "genes_df_path =  \"../co_trans_data/gene_basic_info_df.pickle\" #contains gene symbol, ensembl gene id, \n",
    "#transcript id, chromosome, strand and ccds id. obtained using biomart. \n",
    "genes = pd.read_pickle(genes_df_path)['gene_id']\n",
    "genes = genes[~genes.isna()]\n"
   ]
  },
  {
   "cell_type": "markdown",
   "metadata": {},
   "source": [
    "### Download orthologs per gene"
   ]
  },
  {
   "cell_type": "code",
   "execution_count": 4,
   "metadata": {},
   "outputs": [],
   "source": [
    "''' For each gene we use Ensembl API to dowload all available orthologus sequences for each CDS '''\n",
    "def get_orthologs_single_gene(gene:str) -> Tuple[Dict, Dict]:\n",
    "\n",
    "    server = \"https://rest.ensembl.org\"\n",
    "    try:\n",
    "\n",
    "        ext = \"/homology/id/\"+gene+\"?type=orthologues;aligned=0;sequence=cdna\" #get cdna sequence of all orthologs of this gene\n",
    "        r = requests.get(server+ext, headers={ \"Content-Type\" : \"application/json\"})\n",
    "        if not r.ok:\n",
    "            r.raise_for_status()\n",
    "            sys.exit()\n",
    "\n",
    "        cdna_decoded = r.json()\n",
    "\n",
    "        ext = \"/homology/id/\"+gene+\"?type=orthologues;aligned=0;\" #get amino-acid sequence of all orthologs of this gene\n",
    "        r = requests.get(server+ext, headers={ \"Content-Type\" : \"application/json\"})\n",
    "        if not r.ok:\n",
    "            r.raise_for_status()\n",
    "            sys.exit()\n",
    "\n",
    "        aa_decoded = r.json()\n",
    "\n",
    "        with open(f'../Data/AllGenes/orthologs/cdna_dict/cdna_{gene}.pickle', 'wb') as handle:\n",
    "            pickle.dump(cdna_decoded, handle)\n",
    "        with open(f'../Data/AllGenes/orthologs/aa_dict/aa_{gene}.pickle', 'wb') as handle:\n",
    "            pickle.dump(aa_decoded, handle)\n",
    " \n",
    "    except Exception as e:\n",
    "        print(f\"Error in gene {gene}! {e}\") "
   ]
  },
  {
   "cell_type": "code",
   "execution_count": 40,
   "metadata": {},
   "outputs": [],
   "source": [
    "''' Do this parallely '''\n",
    "with concurrent.futures.ProcessPoolExecutor(max_workers=60) as executor:\n",
    "    futures = []\n",
    "    for gene in genes:\n",
    "        futures.append(executor.submit(get_orthologs_single_gene, gene=gene)) "
   ]
  },
  {
   "cell_type": "markdown",
   "metadata": {},
   "source": [
    "### Get the protein_id of all the genes (to know which version of CDS we are using through our analysis"
   ]
  },
  {
   "cell_type": "code",
   "execution_count": 23,
   "metadata": {},
   "outputs": [
    {
     "name": "stderr",
     "output_type": "stream",
     "text": [
      "100%|██████████| 17946/17946 [05:50<00:00, 51.19it/s] \n"
     ]
    }
   ],
   "source": [
    "''' \"genes_for_msa.pickle\" contains the list of genes that we were able to download orthologous sequences for '''\n",
    "\n",
    "genes = pd.read_pickle(\"../Data/AllGenes/genes_for_msa.pickle\")\n",
    "gene_protein = {}\n",
    "for gene in tqdm(genes):\n",
    "    nt_dict_cur_gene = pd.read_pickle(f\"../Data/AllGenes/orthologs/cdna_dict/cdna_{gene}.pickle.gz\")\n",
    "    protein_id = nt_dict_cur_gene['data'][0]['homologies'][0]['source']['protein_id']\n",
    "    gene_protein[gene] = protein_id"
   ]
  },
  {
   "cell_type": "code",
   "execution_count": 25,
   "metadata": {},
   "outputs": [],
   "source": [
    "''' Create a dictionary that maps between the gene id (ENSG) and the protein id for the CDS they used (ENSP) '''\n",
    "with open(f'../Data/AllGenes/gene_protein_dict.pickle', 'wb') as handle:\n",
    "    pickle.dump(gene_protein, handle)\n"
   ]
  }
 ],
 "metadata": {
  "kernelspec": {
   "display_name": "Python 3",
   "language": "python",
   "name": "python3"
  },
  "language_info": {
   "codemirror_mode": {
    "name": "ipython",
    "version": 3
   },
   "file_extension": ".py",
   "mimetype": "text/x-python",
   "name": "python",
   "nbconvert_exporter": "python",
   "pygments_lexer": "ipython3",
   "version": "3.6.13"
  }
 },
 "nbformat": 4,
 "nbformat_minor": 4
}
