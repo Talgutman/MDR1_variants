{
 "cells": [
  {
   "cell_type": "markdown",
   "metadata": {},
   "source": [
    "In this notebook we take the orthologous sequences and perform MSA for each gene (using clustal omega). Then, we \"translate\" the alignment from amino-acids to nucleotides (using pal2nal). "
   ]
  },
  {
   "cell_type": "code",
   "execution_count": 1,
   "metadata": {},
   "outputs": [],
   "source": [
    "import pandas as pd\n",
    "import os\n",
    "import pickle\n",
    "import concurrent.futures\n",
    "from os import listdir\n",
    "from os.path import isfile, join\n",
    "import numpy as np\n",
    "import gzip\n",
    "import shutil\n",
    "import matplotlib.pyplot as plt\n"
   ]
  },
  {
   "cell_type": "code",
   "execution_count": 2,
   "metadata": {},
   "outputs": [],
   "source": [
    "def write_ortholog_sequences_to_fasta_single_gene(gene:str) -> None:\n",
    "    '''\n",
    "    This function takes the orthologs' data that is stored in dictionaries downloaded\n",
    "    from Ensembl using the REST API, and stores the aa and cdna sequences in fasta files\n",
    "    (We need the input of clustal omega as fasta files). \n",
    "    '''\n",
    "    try:\n",
    "        '''Needed paths'''\n",
    "        cdna_dict_path = f\"../co_trans_data/orthologs/cdna_dict/cdna_{gene}.pickle\" #a dict with the cdna sequences of the orthologs\n",
    "        aa_dict_path = f\"../co_trans_data/orthologs/aa_dict/aa_{gene}.pickle\" #a dict with the aa sequences of the orthologs\n",
    "        cdna_fasta_path = f\"../co_trans_data/orthologs/nt_before_msa/{gene}.fasta\" #where to write the fasta with the cdna sequences\n",
    "        aa_fasta_path = f\"../co_trans_data/orthologs/aa_before_msa/{gene}.fasta\" #where to write the fasta with the aa sequences\n",
    "\n",
    "        '''load the ortholog data dictionary'''\n",
    "        cdna_dict = pickle.load(open(cdna_dict_path, \"rb\"))\n",
    "        aa_dict = pickle.load(open(aa_dict_path, \"rb\"))\n",
    "\n",
    "        '''write fastas'''\n",
    "        #initilize files\n",
    "        nt_file = open(cdna_fasta_path, \"w\")\n",
    "        aa_file = open(aa_fasta_path, \"w\")\n",
    "        #add the human sequence\n",
    "        human_cdna_sequence = cdna_dict['data'][0]['homologies'][0]['source']['seq']\n",
    "        human_aa_sequence = aa_dict['data'][0]['homologies'][0]['source']['seq']\n",
    "        nt_file.write(f\">0_homo_sapiens\\n{human_cdna_sequence}\\n\")\n",
    "        aa_file.write(f\">0_homo_sapiens\\n{human_aa_sequence}\\n\")\n",
    "        #add the orthologous sequences\n",
    "        num_orthologs = len(cdna_dict['data'][0]['homologies'])\n",
    "        wanted_orthologs_counter = 1\n",
    "        for cur_ortholog in range(num_orthologs):\n",
    "            cdna_data = cdna_dict['data'][0]['homologies'][cur_ortholog]\n",
    "            aa_data = aa_dict['data'][0]['homologies'][cur_ortholog]\n",
    "            species_cdna = cdna_data ['target']['species']\n",
    "            species_aa = aa_data ['target']['species']\n",
    "            assert(species_cdna == species_aa)\n",
    "            cdna_seq = cdna_data['target']['seq']\n",
    "            aa_seq = aa_data['target']['seq']\n",
    "            perc_id = cdna_dict['data'][0]['homologies'][cur_ortholog]['target']['perc_id'] #percent of the orthologous sequence that matches the human sequence\n",
    "            if (len(cdna_seq) % 3 == 0) & (perc_id >= 50): #make sure that the sequence is a valid cds and that the identity is larger than 50\n",
    "                nt_file.write(f\">{wanted_orthologs_counter}_{species_cdna}\\n{cdna_seq}\\n\")\n",
    "                aa_file.write(f\">{wanted_orthologs_counter}_{species_aa}\\n{aa_seq}\\n\")\n",
    "                wanted_orthologs_counter += 1\n",
    "    except Exception as e:\n",
    "        print(f\"Could not perfrom this for gene {gene}: {e}\")"
   ]
  },
  {
   "cell_type": "code",
   "execution_count": 3,
   "metadata": {},
   "outputs": [],
   "source": [
    "'''Get the list of needed genes'''\n",
    "genes_list = pd.read_pickle('../co_trans_data/unique_genes.pickle') #all protein-coding human genes\n"
   ]
  },
  {
   "cell_type": "code",
   "execution_count": null,
   "metadata": {},
   "outputs": [],
   "source": [
    "'''Create the fasta files using parallel computing'''\n",
    "\n",
    "with concurrent.futures.ProcessPoolExecutor(max_workers=60) as executor:\n",
    "    futures = []\n",
    "    for gene in genes_list:\n",
    "        futures.append(executor.submit(write_ortholog_sequences_to_fasta_single_gene, gene=gene)) "
   ]
  },
  {
   "cell_type": "markdown",
   "metadata": {},
   "source": [
    "## Preform MSA using Clustal Omega"
   ]
  },
  {
   "cell_type": "code",
   "execution_count": 5,
   "metadata": {},
   "outputs": [],
   "source": [
    "genes_list = pd.read_pickle('../co_trans_data/genes_for_msa.pickle') #only genes with orthologs"
   ]
  },
  {
   "cell_type": "code",
   "execution_count": 3,
   "metadata": {},
   "outputs": [],
   "source": [
    "'''use clustal omega [www.clustal.org] to perform the MSA'''\n",
    "\n",
    "def perform_msa(gene:str) -> None:\n",
    "    '''\n",
    "    This function calls Clustal Omega [www.clustal.org] from the CLI,\n",
    "    to perform the MSA on the amino acid orthologous sequences of a gene\n",
    "    '''\n",
    "    input_path = f'../co_trans_data/orthologs/aa_before_msa/{gene}.fasta'\n",
    "    output_path = f'../co_trans_data/orthologs/aa_after_msa/{gene}.fasta'\n",
    "    !clustalo -i $input_path -o $output_path #call clustal omega from the cli "
   ]
  },
  {
   "cell_type": "code",
   "execution_count": null,
   "metadata": {},
   "outputs": [],
   "source": [
    "'''Create the MSAs using parallel computing'''\n",
    "\n",
    "with concurrent.futures.ProcessPoolExecutor(max_workers=50) as executor:\n",
    "    futures = []\n",
    "    for gene in genes_list:\n",
    "        futures.append(executor.submit(perform_msa, gene=gene)) "
   ]
  },
  {
   "cell_type": "markdown",
   "metadata": {},
   "source": [
    "## Change MSA from amino-acids to nucleotides"
   ]
  },
  {
   "cell_type": "code",
   "execution_count": 8,
   "metadata": {},
   "outputs": [],
   "source": [
    "genes_list = pd.read_pickle('../co_trans_data/genes_for_msa.pickle') #only genes with orthologs"
   ]
  },
  {
   "cell_type": "code",
   "execution_count": 9,
   "metadata": {},
   "outputs": [],
   "source": [
    "'''Create batches of genes for parallalization'''\n",
    "num_wanted_cpus = 50\n",
    "num_genes = len(genes_list)\n",
    "num_genes_per_batch = int(np.round(num_genes /num_wanted_cpus))\n",
    "batches_of_genes = [genes_list[x:x+num_genes_per_batch] for x in range(0, num_genes, num_genes_per_batch)]\n",
    "#change the gene names in each batch to strings to fit the bash code\n",
    "batches_of_genes_string = []\n",
    "for batch in batches_of_genes:\n",
    "    batch = \":\".join(batch)\n",
    "    batches_of_genes_string.append(batch)"
   ]
  },
  {
   "cell_type": "markdown",
   "metadata": {},
   "source": [
    "Note: pal2nal prints many warnings while running and there is no option to control the verbosity. \n",
    "This makes the notebook crash. So, instead of calling the cpus in parellel directly from the notebook as we did with clustalo, we will create a bash script that calls pal2nal from the cli. "
   ]
  },
  {
   "cell_type": "code",
   "execution_count": 10,
   "metadata": {},
   "outputs": [
    {
     "name": "stdout",
     "output_type": "stream",
     "text": [
      "Overwriting run_pal2nal.sh\n"
     ]
    }
   ],
   "source": [
    "%%writefile run_pal2nal.sh\n",
    "#!/bin/bash\n",
    "\n",
    "cd ./co_trans_code/\n",
    "\n",
    "eval \"$(conda shell.bash hook)\"\n",
    "conda activate co-trans\n",
    "\n",
    "cur_batch=$(echo $single_batch_of_genes|sed 's/:/ /g')\n",
    "\n",
    "for gene in $cur_batch;\n",
    "do\n",
    "aa_path=$aa_after_msa_path$gene\n",
    "nt_before_path=$nt_before_msa_path$gene\n",
    "nt_after_path=$output_path$gene\n",
    "\n",
    "pal2nal.pl \"${aa_path}.fasta\" \"${nt_before_path}.fasta\" -output fasta > \"${nt_after_path}.fasta\"\n",
    "done\n"
   ]
  },
  {
   "cell_type": "markdown",
   "metadata": {},
   "source": [
    "## How many orthologs per gene?"
   ]
  },
  {
   "cell_type": "code",
   "execution_count": 25,
   "metadata": {},
   "outputs": [],
   "source": [
    "directory = \"../co_trans_data/orthologs/aa_before_msa/\"\n",
    "\n",
    "num_orthologs = []\n",
    "for filename in os.listdir(directory):\n",
    "    \n",
    "    #unzip\n",
    "    with gzip.open(f\"{directory}{filename}\", 'rb') as f_in:\n",
    "        not_zipped_filename = \".\".join(filename.split(\".\")[:-1])\n",
    "        with open(f\"./{not_zipped_filename}_aa_before\", 'wb') as f_out:\n",
    "            shutil.copyfileobj(f_in, f_out)\n",
    "            \n",
    "    #count orthologs per gene\n",
    "    num = len([1 for line in open(f\"./{not_zipped_filename}_aa_before\") if line.startswith(\">\")])\n",
    "    num_orthologs.append(num)\n",
    "    os.remove(f\"./{not_zipped_filename}_aa_before\")"
   ]
  },
  {
   "cell_type": "code",
   "execution_count": 28,
   "metadata": {},
   "outputs": [
    {
     "data": {
      "text/plain": [
       "Text(0.5, 1.0, 'Number of orthologs per gene')"
      ]
     },
     "execution_count": 28,
     "metadata": {},
     "output_type": "execute_result"
    },
    {
     "data": {
      "image/png": "[encoded data removed]",
      "text/plain": [
       "<Figure size 432x288 with 1 Axes>"
      ]
     },
     "metadata": {
      "needs_background": "light"
     },
     "output_type": "display_data"
    }
   ],
   "source": [
    "plt.hist(num_orthologs)\n",
    "plt.title(\"Number of orthologs per gene\")\n",
    "\n"
   ]
  },
  {
   "cell_type": "code",
   "execution_count": 29,
   "metadata": {},
   "outputs": [
    {
     "data": {
      "text/plain": [
       "149.9347705300589"
      ]
     },
     "execution_count": 29,
     "metadata": {},
     "output_type": "execute_result"
    }
   ],
   "source": [
    "np.mean(num_orthologs)"
   ]
  },
  {
   "cell_type": "code",
   "execution_count": 30,
   "metadata": {},
   "outputs": [
    {
     "data": {
      "text/plain": [
       "155.0"
      ]
     },
     "execution_count": 30,
     "metadata": {},
     "output_type": "execute_result"
    }
   ],
   "source": [
    "np.median(num_orthologs)"
   ]
  },
  {
   "cell_type": "code",
   "execution_count": null,
   "metadata": {},
   "outputs": [],
   "source": []
  }
 ],
 "metadata": {
  "kernelspec": {
   "display_name": "Python 3",
   "language": "python",
   "name": "python3"
  },
  "language_info": {
   "codemirror_mode": {
    "name": "ipython",
    "version": 3
   },
   "file_extension": ".py",
   "mimetype": "text/x-python",
   "name": "python",
   "nbconvert_exporter": "python",
   "pygments_lexer": "ipython3",
   "version": "3.6.13"
  }
 },
 "nbformat": 4,
 "nbformat_minor": 4
}
